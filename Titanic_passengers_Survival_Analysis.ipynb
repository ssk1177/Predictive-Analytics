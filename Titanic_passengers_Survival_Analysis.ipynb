{
  "cells": [
    {
      "cell_type": "markdown",
      "metadata": {
        "id": "view-in-github",
        "colab_type": "text"
      },
      "source": [
        "<a href=\"https://colab.research.google.com/github/ssk1177/Predictive-Analytics/blob/main/Titanic_passengers_Survival_Analysis.ipynb\" target=\"_parent\"><img src=\"https://colab.research.google.com/assets/colab-badge.svg\" alt=\"Open In Colab\"/></a>"
      ]
    },
    {
      "cell_type": "markdown",
      "id": "78be7ded-b0a8-4788-8320-64728e8b4fe7",
      "metadata": {
        "tags": [],
        "id": "78be7ded-b0a8-4788-8320-64728e8b4fe7"
      },
      "source": [
        "**Readme:**\n",
        "\n",
        "The objective is to evaluate tree-based ensemble models including random forest, gradient boosted and adaboost classifiers using the cleaned and preprocessed version of the Titanic dataset\n",
        "\n",
        "**Dataset:**\n",
        "\n",
        "**Titanic**: The original Titanic dataset, describing the survival status of individual passengers on the Titanic\n",
        "\n",
        "https://openml.org/search?type=data&status=active&id=40945&sort=runs\n"
      ]
    },
    {
      "cell_type": "markdown",
      "id": "a1dec63a-fd0e-4c6f-96f1-eadba03172d5",
      "metadata": {
        "id": "a1dec63a-fd0e-4c6f-96f1-eadba03172d5"
      },
      "source": [
        "# Table of contents <a class=\"anchor\" id=\"toc\"></a>\n",
        "* [Load the Packages](#load_packages)\n",
        "* [Functional Blocks](#functional_blocks)\n",
        "* [Load the Dataset](#load_dataset)\n",
        "* [Explore the dataset](#explore_dataset)\n",
        "* [Preprocessing](#preprocessing)\n",
        "    * [Missing values](#missing_values)\n",
        "    * [Drop the irrelevant features](#drop_irrelevant)\n",
        "    * [Replace missing values](#replace_missing)\n",
        "    * [Feature Encoding](#feature_encoding)\n",
        "* [Feature Selection](#feature_selection)\n",
        "* [Feature Engineering](#feature_engineering)\n",
        "    * [Binning](#binning)\n",
        "* [Pipeline](#pipeline)\n",
        "* [Data split: Train and Test sets](#data_split)\n",
        "* [Modelling](#modelling)\n",
        "    * [Decision Tree](#decision_tree)\n",
        "        * [Classifier Pipeline](#dt_classifier_pipeline)\n",
        "        * [Feature Importance](#feature_importance)\n",
        "        * [Metrics](#dt_metrics)\n",
        "            * [Classification Report](#dt_classification_report)\n",
        "            * [Confusion Matrix](#dt_confusion_matrix)\n",
        "        * [Tree Structure](#tree_structure)\n",
        "        * [Tree Pruning](#tree_pruning)\n",
        "            * [Retrain with Tree Pruning](#retrain_with_pruning)\n",
        "            * [Metrics](#rp_metrics)\n",
        "                * [Classification Report](#rp_classification_report)\n",
        "                * [Confusion Matrix](#rp_confusion_matrix)\n",
        "                * [Feature Importance](#rp_feature_imp)\n",
        "        * [Hyper-parameters Tuning](#hyper_params_tuning)\n",
        "            * [Retrain with Hyper-parameters Tuned](#hp_tuned_retrain)\n",
        "            * [Metrics](#hp_tuned_metrics)\n",
        "                * [Comfusion Matrix](#hp_confusion_matrix)\n",
        "    * [Random Forest](#random_forest)\n",
        "        * [Metrics](#rf_metrics)\n",
        "            * [Classification Report](#rf_classification_report)\n",
        "            * [Confusion Matrix](#rf_confusion_matrix)\n",
        "        * [Feature Importance](#rf_feature_imp)\n",
        "    * [Gradient Boosting](#gradiet_boosting)\n",
        "        * [Metrics](#gb_metrics)\n",
        "            * [Classification Report](#gb_classification_report)\n",
        "            * [Confusion Matrix](#gb_confusion_matrix)\n",
        "        * [Feature Importance](#gb_feature_importance)\n",
        "    * [AdaBoost](#AdaBoost)\n",
        "        * [Metrics](#AB_metrics)\n",
        "            * [Classification Report](#AB_classification_report)\n",
        "            * [Confusion Matrix](#AB_confusion_matrix)\n",
        "        * [Feature Importance](#AB_feature_importance)\n",
        "                "
      ]
    },
    {
      "cell_type": "markdown",
      "id": "a7f7abee-ebe2-4c78-9185-0b0475861910",
      "metadata": {
        "tags": [],
        "id": "a7f7abee-ebe2-4c78-9185-0b0475861910"
      },
      "source": [
        "## Load the Packages <a class=\"anchor\" id=\"load_packages\"></a> <p style=\"text-align: right; color: blue; font-size: 15px\"> [Go to Main Menu](#toc) </p>"
      ]
    },
    {
      "cell_type": "code",
      "execution_count": null,
      "id": "ef711ffe-a199-488b-9fd9-202a6f0960f6",
      "metadata": {
        "tags": [],
        "id": "ef711ffe-a199-488b-9fd9-202a6f0960f6",
        "outputId": "6e9d7712-9ce6-41a9-dbf0-64497f3387cb"
      },
      "outputs": [
        {
          "name": "stdout",
          "output_type": "stream",
          "text": [
            "scikit-learn version: 1.3.0\n"
          ]
        }
      ],
      "source": [
        "import numpy as np\n",
        "import pandas as pd\n",
        "from matplotlib import pyplot as plt\n",
        "import seaborn as sns\n",
        "import time\n",
        "\n",
        "# sklearn\n",
        "from sklearn.datasets import fetch_openml\n",
        "from sklearn.model_selection import train_test_split, GridSearchCV\n",
        "from sklearn.metrics import classification_report, confusion_matrix, ConfusionMatrixDisplay, mean_squared_error\n",
        "from sklearn.tree import plot_tree, DecisionTreeClassifier, DecisionTreeRegressor\n",
        "from sklearn.pipeline import Pipeline\n",
        "from sklearn.impute import SimpleImputer\n",
        "from sklearn.preprocessing import OneHotEncoder, StandardScaler, LabelEncoder\n",
        "from sklearn.compose import ColumnTransformer\n",
        "from sklearn import tree, set_config, metrics\n",
        "from sklearn.ensemble import RandomForestClassifier, GradientBoostingClassifier, AdaBoostClassifier\n",
        "\n",
        "from IPython.display import HTML, display, Markdown as md, Latex\n",
        "from ipywidgets import widgets, Layout\n",
        "from ipywidgets import Output, Tab\n",
        "from matplotlib import pyplot as plt\n",
        "\n",
        "# check scikit-learn version\n",
        "from sklearn import __version__ as ver\n",
        "print(f\"scikit-learn version: {ver}\")\n",
        "\n",
        "# ignore warnings\n",
        "import warnings\n",
        "warnings.filterwarnings('ignore')"
      ]
    },
    {
      "cell_type": "markdown",
      "id": "56e4f32b-acad-4fab-bd5f-52cd31ca200c",
      "metadata": {
        "tags": [],
        "id": "56e4f32b-acad-4fab-bd5f-52cd31ca200c"
      },
      "source": [
        "## Functional Blocks <a class=\"anchor\" id=\"functional_blocks\"></a> <p style=\"text-align: right; color: blue; font-size: 15px\"> [Go to Main Menu](#toc) </p>"
      ]
    },
    {
      "cell_type": "code",
      "execution_count": null,
      "id": "88ce437c-cb0f-4011-8ad9-44dfc333e976",
      "metadata": {
        "tags": [],
        "id": "88ce437c-cb0f-4011-8ad9-44dfc333e976"
      },
      "outputs": [],
      "source": [
        "def feat_imp_chart(feat_imp, feat_names, plot_head):\n",
        "    importances = pd.Series(feat_imp, index=feat_names).sort_values(ascending=True)\n",
        "    importances.plot.barh()\n",
        "    plt.title(plot_head)\n",
        "    plt.show()\n",
        "\n",
        "def get_top_5(data):\n",
        "    return np.sort(data)[::-1][0:5]"
      ]
    },
    {
      "cell_type": "markdown",
      "id": "1dbcee60-7a03-4c05-8290-d859b615c79b",
      "metadata": {
        "tags": [],
        "id": "1dbcee60-7a03-4c05-8290-d859b615c79b"
      },
      "source": [
        "## Load the Titanic Dataset (Source: openml.org) <a class=\"anchor\" id=\"load_dataset\"></a> <p style=\"text-align: right; color: blue; font-size: 15px\"> [Go to Main Menu](#toc) </p>"
      ]
    },
    {
      "cell_type": "code",
      "execution_count": null,
      "id": "2c0370ed-06a9-4a0d-8cfc-9d958ede05fc",
      "metadata": {
        "tags": [],
        "id": "2c0370ed-06a9-4a0d-8cfc-9d958ede05fc"
      },
      "outputs": [],
      "source": [
        "X, y = fetch_openml(\"titanic\", version=1, as_frame=True, return_X_y=True)"
      ]
    },
    {
      "cell_type": "markdown",
      "id": "c84303cb-b9f6-432b-a8af-c84110d6f0c9",
      "metadata": {
        "tags": [],
        "id": "c84303cb-b9f6-432b-a8af-c84110d6f0c9"
      },
      "source": [
        "## Explore the dataset <a class=\"anchor\" id=\"explore_dataset\"></a> <p style=\"text-align: right; color: blue; font-size: 15px\"> [Go to Main Menu](#toc) </p>"
      ]
    },
    {
      "cell_type": "code",
      "execution_count": null,
      "id": "5a7cf5ef-6adc-4f96-97a0-84ddf4a6d492",
      "metadata": {
        "tags": [],
        "id": "5a7cf5ef-6adc-4f96-97a0-84ddf4a6d492",
        "outputId": "09e1e2ad-02fe-4dd1-dc5e-42d9ba64a4b9"
      },
      "outputs": [
        {
          "name": "stdout",
          "output_type": "stream",
          "text": [
            "<class 'pandas.core.frame.DataFrame'>\n",
            "RangeIndex: 1309 entries, 0 to 1308\n",
            "Data columns (total 13 columns):\n",
            " #   Column     Non-Null Count  Dtype   \n",
            "---  ------     --------------  -----   \n",
            " 0   pclass     1309 non-null   float64 \n",
            " 1   name       1309 non-null   object  \n",
            " 2   sex        1309 non-null   category\n",
            " 3   age        1046 non-null   float64 \n",
            " 4   sibsp      1309 non-null   float64 \n",
            " 5   parch      1309 non-null   float64 \n",
            " 6   ticket     1309 non-null   object  \n",
            " 7   fare       1308 non-null   float64 \n",
            " 8   cabin      295 non-null    object  \n",
            " 9   embarked   1307 non-null   category\n",
            " 10  boat       486 non-null    object  \n",
            " 11  body       121 non-null    float64 \n",
            " 12  home.dest  745 non-null    object  \n",
            "dtypes: category(2), float64(6), object(5)\n",
            "memory usage: 115.4+ KB\n"
          ]
        }
      ],
      "source": [
        "X.info()"
      ]
    },
    {
      "cell_type": "markdown",
      "id": "e991dcc7-c9ad-4e87-bff8-a28ced4bc353",
      "metadata": {
        "tags": [],
        "id": "e991dcc7-c9ad-4e87-bff8-a28ced4bc353"
      },
      "source": [
        "### Observations\n",
        "- Features 'cabin', 'boat', 'body', and 'home.dest' has very few non-null values.\n",
        "- Feature 'sex' and 'embarked' are of type category and would require encoding (?)"
      ]
    },
    {
      "cell_type": "code",
      "execution_count": null,
      "id": "ae8b31e8-2443-47f4-b41b-7832d48c4c8d",
      "metadata": {
        "tags": [],
        "id": "ae8b31e8-2443-47f4-b41b-7832d48c4c8d",
        "outputId": "9e20fc47-64b1-4305-e868-3c1118afc5a9"
      },
      "outputs": [
        {
          "data": {
            "text/html": [
              "<div>\n",
              "<style scoped>\n",
              "    .dataframe tbody tr th:only-of-type {\n",
              "        vertical-align: middle;\n",
              "    }\n",
              "\n",
              "    .dataframe tbody tr th {\n",
              "        vertical-align: top;\n",
              "    }\n",
              "\n",
              "    .dataframe thead th {\n",
              "        text-align: right;\n",
              "    }\n",
              "</style>\n",
              "<table border=\"1\" class=\"dataframe\">\n",
              "  <thead>\n",
              "    <tr style=\"text-align: right;\">\n",
              "      <th></th>\n",
              "      <th>pclass</th>\n",
              "      <th>age</th>\n",
              "      <th>sibsp</th>\n",
              "      <th>parch</th>\n",
              "      <th>fare</th>\n",
              "      <th>body</th>\n",
              "    </tr>\n",
              "  </thead>\n",
              "  <tbody>\n",
              "    <tr>\n",
              "      <th>count</th>\n",
              "      <td>1309.000000</td>\n",
              "      <td>1046.000000</td>\n",
              "      <td>1309.000000</td>\n",
              "      <td>1309.000000</td>\n",
              "      <td>1308.000000</td>\n",
              "      <td>121.000000</td>\n",
              "    </tr>\n",
              "    <tr>\n",
              "      <th>mean</th>\n",
              "      <td>2.294882</td>\n",
              "      <td>29.881135</td>\n",
              "      <td>0.498854</td>\n",
              "      <td>0.385027</td>\n",
              "      <td>33.295479</td>\n",
              "      <td>160.809917</td>\n",
              "    </tr>\n",
              "    <tr>\n",
              "      <th>std</th>\n",
              "      <td>0.837836</td>\n",
              "      <td>14.413500</td>\n",
              "      <td>1.041658</td>\n",
              "      <td>0.865560</td>\n",
              "      <td>51.758668</td>\n",
              "      <td>97.696922</td>\n",
              "    </tr>\n",
              "    <tr>\n",
              "      <th>min</th>\n",
              "      <td>1.000000</td>\n",
              "      <td>0.166700</td>\n",
              "      <td>0.000000</td>\n",
              "      <td>0.000000</td>\n",
              "      <td>0.000000</td>\n",
              "      <td>1.000000</td>\n",
              "    </tr>\n",
              "    <tr>\n",
              "      <th>25%</th>\n",
              "      <td>2.000000</td>\n",
              "      <td>21.000000</td>\n",
              "      <td>0.000000</td>\n",
              "      <td>0.000000</td>\n",
              "      <td>7.895800</td>\n",
              "      <td>72.000000</td>\n",
              "    </tr>\n",
              "    <tr>\n",
              "      <th>50%</th>\n",
              "      <td>3.000000</td>\n",
              "      <td>28.000000</td>\n",
              "      <td>0.000000</td>\n",
              "      <td>0.000000</td>\n",
              "      <td>14.454200</td>\n",
              "      <td>155.000000</td>\n",
              "    </tr>\n",
              "    <tr>\n",
              "      <th>75%</th>\n",
              "      <td>3.000000</td>\n",
              "      <td>39.000000</td>\n",
              "      <td>1.000000</td>\n",
              "      <td>0.000000</td>\n",
              "      <td>31.275000</td>\n",
              "      <td>256.000000</td>\n",
              "    </tr>\n",
              "    <tr>\n",
              "      <th>max</th>\n",
              "      <td>3.000000</td>\n",
              "      <td>80.000000</td>\n",
              "      <td>8.000000</td>\n",
              "      <td>9.000000</td>\n",
              "      <td>512.329200</td>\n",
              "      <td>328.000000</td>\n",
              "    </tr>\n",
              "  </tbody>\n",
              "</table>\n",
              "</div>"
            ],
            "text/plain": [
              "            pclass          age        sibsp        parch         fare  \\\n",
              "count  1309.000000  1046.000000  1309.000000  1309.000000  1308.000000   \n",
              "mean      2.294882    29.881135     0.498854     0.385027    33.295479   \n",
              "std       0.837836    14.413500     1.041658     0.865560    51.758668   \n",
              "min       1.000000     0.166700     0.000000     0.000000     0.000000   \n",
              "25%       2.000000    21.000000     0.000000     0.000000     7.895800   \n",
              "50%       3.000000    28.000000     0.000000     0.000000    14.454200   \n",
              "75%       3.000000    39.000000     1.000000     0.000000    31.275000   \n",
              "max       3.000000    80.000000     8.000000     9.000000   512.329200   \n",
              "\n",
              "             body  \n",
              "count  121.000000  \n",
              "mean   160.809917  \n",
              "std     97.696922  \n",
              "min      1.000000  \n",
              "25%     72.000000  \n",
              "50%    155.000000  \n",
              "75%    256.000000  \n",
              "max    328.000000  "
            ]
          },
          "execution_count": 12,
          "metadata": {},
          "output_type": "execute_result"
        }
      ],
      "source": [
        "X.describe()"
      ]
    },
    {
      "cell_type": "markdown",
      "id": "4f5ff2fe-c4ca-4ea8-826b-a10dcafac1ed",
      "metadata": {
        "tags": [],
        "id": "4f5ff2fe-c4ca-4ea8-826b-a10dcafac1ed"
      },
      "source": [
        "### Observations\n",
        "- Features such as 'age', 'fare' and 'body' are of different ranges than 'pclass' and 'sibsp' and 'parch', might require scaling."
      ]
    },
    {
      "cell_type": "code",
      "execution_count": null,
      "id": "4431faf7-661b-4f6d-acaa-330c57f55568",
      "metadata": {
        "tags": [],
        "id": "4431faf7-661b-4f6d-acaa-330c57f55568",
        "outputId": "b414ceb7-5580-40d5-d088-3120d01f4f4a"
      },
      "outputs": [
        {
          "name": "stdout",
          "output_type": "stream",
          "text": [
            "<class 'pandas.core.series.Series'>\n",
            "RangeIndex: 1309 entries, 0 to 1308\n",
            "Series name: survived\n",
            "Non-Null Count  Dtype   \n",
            "--------------  -----   \n",
            "1309 non-null   category\n",
            "dtypes: category(1)\n",
            "memory usage: 1.5 KB\n"
          ]
        }
      ],
      "source": [
        "y.info()"
      ]
    },
    {
      "cell_type": "code",
      "execution_count": null,
      "id": "107f8ddb-7075-4e37-a876-71c950e13ff2",
      "metadata": {
        "tags": [],
        "id": "107f8ddb-7075-4e37-a876-71c950e13ff2",
        "outputId": "01fcaa2b-51d0-4d1e-f473-25f895381947"
      },
      "outputs": [
        {
          "data": {
            "image/png": "[encoded data removed]",
            "text/plain": [
              "<Figure size 640x480 with 1 Axes>"
            ]
          },
          "metadata": {},
          "output_type": "display_data"
        }
      ],
      "source": [
        "plt.pie (y.value_counts(), labels=['not-survived', 'survived'], autopct='%1.0f%%')\n",
        "plt.show()"
      ]
    },
    {
      "cell_type": "markdown",
      "id": "d0bfc9d7-e291-4d52-a513-20611f9b673f",
      "metadata": {
        "tags": [],
        "id": "d0bfc9d7-e291-4d52-a513-20611f9b673f"
      },
      "source": [
        "## Preprocessing <a class=\"anchor\" id=\"preprocessing\"></a> <p style=\"text-align: right; color: blue; font-size: 15px\"> [Go to Main Menu](#toc) </p>"
      ]
    },
    {
      "cell_type": "markdown",
      "id": "0651b075-d1ee-43e7-9aa6-2710587177b5",
      "metadata": {
        "tags": [],
        "id": "0651b075-d1ee-43e7-9aa6-2710587177b5"
      },
      "source": [
        "### Missing values <a class=\"anchor\" id=\"missing_values\"></a> <p style=\"text-align: right; color: blue; font-size: 15px\"> [Go to Main Menu](#toc) </p>"
      ]
    },
    {
      "cell_type": "code",
      "execution_count": null,
      "id": "001c5769-e86f-42cf-9bf4-d310e98506a8",
      "metadata": {
        "tags": [],
        "id": "001c5769-e86f-42cf-9bf4-d310e98506a8",
        "outputId": "f7e4d158-3211-46f1-e0b9-14dc0921ceb4"
      },
      "outputs": [
        {
          "data": {
            "text/plain": [
              "pclass       False\n",
              "name         False\n",
              "sex          False\n",
              "age           True\n",
              "sibsp        False\n",
              "parch        False\n",
              "ticket       False\n",
              "fare          True\n",
              "cabin         True\n",
              "embarked      True\n",
              "boat          True\n",
              "body          True\n",
              "home.dest     True\n",
              "dtype: bool"
            ]
          },
          "execution_count": 18,
          "metadata": {},
          "output_type": "execute_result"
        }
      ],
      "source": [
        "# Check for missing values\n",
        "X.isnull().any()"
      ]
    },
    {
      "cell_type": "code",
      "execution_count": null,
      "id": "3f9fcb60-7f5f-4349-a7aa-708664b1f99d",
      "metadata": {
        "tags": [],
        "id": "3f9fcb60-7f5f-4349-a7aa-708664b1f99d",
        "outputId": "225917a7-f289-44d5-eed6-0e6a32287624"
      },
      "outputs": [
        {
          "data": {
            "text/plain": [
              "pclass        0.000000\n",
              "name          0.000000\n",
              "sex           0.000000\n",
              "age          20.091673\n",
              "sibsp         0.000000\n",
              "parch         0.000000\n",
              "ticket        0.000000\n",
              "fare          0.076394\n",
              "cabin        77.463713\n",
              "embarked      0.152788\n",
              "boat         62.872422\n",
              "body         90.756303\n",
              "home.dest    43.086325\n",
              "dtype: float64"
            ]
          },
          "execution_count": 19,
          "metadata": {},
          "output_type": "execute_result"
        }
      ],
      "source": [
        "# Check how much percentage of missing values in feature\n",
        "X.isnull().sum() / len(X) * 100"
      ]
    },
    {
      "cell_type": "code",
      "execution_count": null,
      "id": "8b9a213a-d3c5-49c5-802b-62c2fcd7dc3f",
      "metadata": {
        "tags": [],
        "id": "8b9a213a-d3c5-49c5-802b-62c2fcd7dc3f",
        "outputId": "93547418-21df-49e4-e7a0-2b5e962ef25d"
      },
      "outputs": [
        {
          "data": {
            "text/plain": [
              "pclass        float64\n",
              "name           object\n",
              "sex          category\n",
              "age           float64\n",
              "sibsp         float64\n",
              "parch         float64\n",
              "ticket         object\n",
              "fare          float64\n",
              "cabin          object\n",
              "embarked     category\n",
              "boat           object\n",
              "body          float64\n",
              "home.dest      object\n",
              "dtype: object"
            ]
          },
          "execution_count": 20,
          "metadata": {},
          "output_type": "execute_result"
        }
      ],
      "source": [
        "# Get the data types of features\n",
        "X.dtypes"
      ]
    },
    {
      "cell_type": "markdown",
      "id": "ac666d6f-8c0e-4da5-ba87-b09bdd5e8474",
      "metadata": {
        "tags": [],
        "id": "ac666d6f-8c0e-4da5-ba87-b09bdd5e8474"
      },
      "source": [
        "### Observations\n",
        "1. Features 'body', 'boat' and 'cabin' has more than 60% missing values, so we can drop these features (though the more research is needed to verify whether it's ideal to remove or fill the concerned features, but for simplicity sake for this lab, I am removing it)\n",
        "2. Features 'age', 'fare' and 'embarked' has the null/missing values, but features 'age' and 'fare' are of numerical type so will replace the values using median while 'embarked' is categorical type, hence it makes more sense to replace it with the mode value.\n",
        "3. Replacing the feature 'home.dest' (which represents the address) doesn't make much sense, so for simplicity of the model, removing this feature.\n",
        "4. Feature 'ticket' is not relevant to the objective of our report, so removing it."
      ]
    },
    {
      "cell_type": "markdown",
      "id": "c64e52f5-21b9-42e8-9ea6-37de28335669",
      "metadata": {
        "tags": [],
        "id": "c64e52f5-21b9-42e8-9ea6-37de28335669"
      },
      "source": [
        "### Drop the irrelevant features <a class=\"anchor\" id=\"drop_irrelevant\"></a> <p style=\"text-align: right; color: blue; font-size: 15px\"> [Go to Main Menu](#toc) </p>"
      ]
    },
    {
      "cell_type": "code",
      "execution_count": null,
      "id": "a5e71f84-0690-48f8-823e-784b900a6b8e",
      "metadata": {
        "tags": [],
        "id": "a5e71f84-0690-48f8-823e-784b900a6b8e",
        "outputId": "4c5fc9e6-2dad-4a71-fe3f-c4e2a491035b"
      },
      "outputs": [
        {
          "data": {
            "text/html": [
              "<div>\n",
              "<style scoped>\n",
              "    .dataframe tbody tr th:only-of-type {\n",
              "        vertical-align: middle;\n",
              "    }\n",
              "\n",
              "    .dataframe tbody tr th {\n",
              "        vertical-align: top;\n",
              "    }\n",
              "\n",
              "    .dataframe thead th {\n",
              "        text-align: right;\n",
              "    }\n",
              "</style>\n",
              "<table border=\"1\" class=\"dataframe\">\n",
              "  <thead>\n",
              "    <tr style=\"text-align: right;\">\n",
              "      <th></th>\n",
              "      <th>pclass</th>\n",
              "      <th>name</th>\n",
              "      <th>sex</th>\n",
              "      <th>age</th>\n",
              "      <th>sibsp</th>\n",
              "      <th>parch</th>\n",
              "      <th>fare</th>\n",
              "      <th>embarked</th>\n",
              "    </tr>\n",
              "  </thead>\n",
              "  <tbody>\n",
              "    <tr>\n",
              "      <th>0</th>\n",
              "      <td>1.0</td>\n",
              "      <td>Allen, Miss. Elisabeth Walton</td>\n",
              "      <td>female</td>\n",
              "      <td>29.0000</td>\n",
              "      <td>0.0</td>\n",
              "      <td>0.0</td>\n",
              "      <td>211.3375</td>\n",
              "      <td>S</td>\n",
              "    </tr>\n",
              "    <tr>\n",
              "      <th>1</th>\n",
              "      <td>1.0</td>\n",
              "      <td>Allison, Master. Hudson Trevor</td>\n",
              "      <td>male</td>\n",
              "      <td>0.9167</td>\n",
              "      <td>1.0</td>\n",
              "      <td>2.0</td>\n",
              "      <td>151.5500</td>\n",
              "      <td>S</td>\n",
              "    </tr>\n",
              "    <tr>\n",
              "      <th>2</th>\n",
              "      <td>1.0</td>\n",
              "      <td>Allison, Miss. Helen Loraine</td>\n",
              "      <td>female</td>\n",
              "      <td>2.0000</td>\n",
              "      <td>1.0</td>\n",
              "      <td>2.0</td>\n",
              "      <td>151.5500</td>\n",
              "      <td>S</td>\n",
              "    </tr>\n",
              "    <tr>\n",
              "      <th>3</th>\n",
              "      <td>1.0</td>\n",
              "      <td>Allison, Mr. Hudson Joshua Creighton</td>\n",
              "      <td>male</td>\n",
              "      <td>30.0000</td>\n",
              "      <td>1.0</td>\n",
              "      <td>2.0</td>\n",
              "      <td>151.5500</td>\n",
              "      <td>S</td>\n",
              "    </tr>\n",
              "    <tr>\n",
              "      <th>4</th>\n",
              "      <td>1.0</td>\n",
              "      <td>Allison, Mrs. Hudson J C (Bessie Waldo Daniels)</td>\n",
              "      <td>female</td>\n",
              "      <td>25.0000</td>\n",
              "      <td>1.0</td>\n",
              "      <td>2.0</td>\n",
              "      <td>151.5500</td>\n",
              "      <td>S</td>\n",
              "    </tr>\n",
              "  </tbody>\n",
              "</table>\n",
              "</div>"
            ],
            "text/plain": [
              "   pclass                                             name     sex      age  \\\n",
              "0     1.0                    Allen, Miss. Elisabeth Walton  female  29.0000   \n",
              "1     1.0                   Allison, Master. Hudson Trevor    male   0.9167   \n",
              "2     1.0                     Allison, Miss. Helen Loraine  female   2.0000   \n",
              "3     1.0             Allison, Mr. Hudson Joshua Creighton    male  30.0000   \n",
              "4     1.0  Allison, Mrs. Hudson J C (Bessie Waldo Daniels)  female  25.0000   \n",
              "\n",
              "   sibsp  parch      fare embarked  \n",
              "0    0.0    0.0  211.3375        S  \n",
              "1    1.0    2.0  151.5500        S  \n",
              "2    1.0    2.0  151.5500        S  \n",
              "3    1.0    2.0  151.5500        S  \n",
              "4    1.0    2.0  151.5500        S  "
            ]
          },
          "execution_count": 23,
          "metadata": {},
          "output_type": "execute_result"
        }
      ],
      "source": [
        "# On basis of the above observations, dropping following irrelevant features\n",
        "X.drop([\"cabin\", \"boat\", \"body\", \"home.dest\", \"ticket\"], axis=1, inplace=True)\n",
        "X.head()"
      ]
    },
    {
      "cell_type": "markdown",
      "id": "f65c6a58-0a92-4659-86fa-dd88f5dbd797",
      "metadata": {
        "tags": [],
        "id": "f65c6a58-0a92-4659-86fa-dd88f5dbd797"
      },
      "source": [
        "### Replace missing values <a class=\"anchor\" id=\"replace_missing\"></a> <p style=\"text-align: right; color: blue; font-size: 15px\"> [Go to Main Menu](#toc) </p>"
      ]
    },
    {
      "cell_type": "code",
      "execution_count": null,
      "id": "f334587f-8aca-4dd1-aaae-f068b623932a",
      "metadata": {
        "tags": [],
        "id": "f334587f-8aca-4dd1-aaae-f068b623932a",
        "outputId": "3146a103-b1d0-4635-9962-c1b17c3e3cc1"
      },
      "outputs": [
        {
          "data": {
            "text/plain": [
              "pclass      False\n",
              "name        False\n",
              "sex         False\n",
              "age         False\n",
              "sibsp       False\n",
              "parch       False\n",
              "fare        False\n",
              "embarked    False\n",
              "dtype: bool"
            ]
          },
          "execution_count": 25,
          "metadata": {},
          "output_type": "execute_result"
        }
      ],
      "source": [
        "# Replacing missing values\n",
        "X[\"age\"].fillna(X[\"age\"].median(), inplace=True)\n",
        "X[\"fare\"].fillna(X[\"fare\"].median(), inplace=True)\n",
        "X[\"embarked\"].fillna(X[\"embarked\"].mode()[0], inplace=True)\n",
        "\n",
        "# Verify whether any missing value in any feature\n",
        "X.isnull().any()"
      ]
    },
    {
      "cell_type": "markdown",
      "id": "ab235aaa-351a-42dc-a7ec-a295fe14e488",
      "metadata": {
        "tags": [],
        "id": "ab235aaa-351a-42dc-a7ec-a295fe14e488"
      },
      "source": [
        "### Feature Encoding <a class=\"anchor\" id=\"feature_encoding\"></a> <p style=\"text-align: right; color: blue; font-size: 15px\"> [Go to Main Menu](#toc) </p>\n",
        "Convert categorical features to numerical"
      ]
    },
    {
      "cell_type": "code",
      "execution_count": null,
      "id": "aff46a6c-ca8d-486d-9356-5dfd006c3ad3",
      "metadata": {
        "tags": [],
        "id": "aff46a6c-ca8d-486d-9356-5dfd006c3ad3",
        "outputId": "e165192f-53c1-4b6c-d8ff-1e6ffc70b964"
      },
      "outputs": [
        {
          "data": {
            "text/html": [
              "<div>\n",
              "<style scoped>\n",
              "    .dataframe tbody tr th:only-of-type {\n",
              "        vertical-align: middle;\n",
              "    }\n",
              "\n",
              "    .dataframe tbody tr th {\n",
              "        vertical-align: top;\n",
              "    }\n",
              "\n",
              "    .dataframe thead th {\n",
              "        text-align: right;\n",
              "    }\n",
              "</style>\n",
              "<table border=\"1\" class=\"dataframe\">\n",
              "  <thead>\n",
              "    <tr style=\"text-align: right;\">\n",
              "      <th></th>\n",
              "      <th>pclass</th>\n",
              "      <th>name</th>\n",
              "      <th>sex</th>\n",
              "      <th>age</th>\n",
              "      <th>sibsp</th>\n",
              "      <th>parch</th>\n",
              "      <th>fare</th>\n",
              "      <th>embarked</th>\n",
              "    </tr>\n",
              "  </thead>\n",
              "  <tbody>\n",
              "    <tr>\n",
              "      <th>0</th>\n",
              "      <td>1.0</td>\n",
              "      <td>Allen, Miss. Elisabeth Walton</td>\n",
              "      <td>0</td>\n",
              "      <td>29.0000</td>\n",
              "      <td>0.0</td>\n",
              "      <td>0.0</td>\n",
              "      <td>211.3375</td>\n",
              "      <td>2</td>\n",
              "    </tr>\n",
              "    <tr>\n",
              "      <th>1</th>\n",
              "      <td>1.0</td>\n",
              "      <td>Allison, Master. Hudson Trevor</td>\n",
              "      <td>1</td>\n",
              "      <td>0.9167</td>\n",
              "      <td>1.0</td>\n",
              "      <td>2.0</td>\n",
              "      <td>151.5500</td>\n",
              "      <td>2</td>\n",
              "    </tr>\n",
              "    <tr>\n",
              "      <th>2</th>\n",
              "      <td>1.0</td>\n",
              "      <td>Allison, Miss. Helen Loraine</td>\n",
              "      <td>0</td>\n",
              "      <td>2.0000</td>\n",
              "      <td>1.0</td>\n",
              "      <td>2.0</td>\n",
              "      <td>151.5500</td>\n",
              "      <td>2</td>\n",
              "    </tr>\n",
              "    <tr>\n",
              "      <th>3</th>\n",
              "      <td>1.0</td>\n",
              "      <td>Allison, Mr. Hudson Joshua Creighton</td>\n",
              "      <td>1</td>\n",
              "      <td>30.0000</td>\n",
              "      <td>1.0</td>\n",
              "      <td>2.0</td>\n",
              "      <td>151.5500</td>\n",
              "      <td>2</td>\n",
              "    </tr>\n",
              "    <tr>\n",
              "      <th>4</th>\n",
              "      <td>1.0</td>\n",
              "      <td>Allison, Mrs. Hudson J C (Bessie Waldo Daniels)</td>\n",
              "      <td>0</td>\n",
              "      <td>25.0000</td>\n",
              "      <td>1.0</td>\n",
              "      <td>2.0</td>\n",
              "      <td>151.5500</td>\n",
              "      <td>2</td>\n",
              "    </tr>\n",
              "  </tbody>\n",
              "</table>\n",
              "</div>"
            ],
            "text/plain": [
              "   pclass                                             name  sex      age  \\\n",
              "0     1.0                    Allen, Miss. Elisabeth Walton    0  29.0000   \n",
              "1     1.0                   Allison, Master. Hudson Trevor    1   0.9167   \n",
              "2     1.0                     Allison, Miss. Helen Loraine    0   2.0000   \n",
              "3     1.0             Allison, Mr. Hudson Joshua Creighton    1  30.0000   \n",
              "4     1.0  Allison, Mrs. Hudson J C (Bessie Waldo Daniels)    0  25.0000   \n",
              "\n",
              "   sibsp  parch      fare  embarked  \n",
              "0    0.0    0.0  211.3375         2  \n",
              "1    1.0    2.0  151.5500         2  \n",
              "2    1.0    2.0  151.5500         2  \n",
              "3    1.0    2.0  151.5500         2  \n",
              "4    1.0    2.0  151.5500         2  "
            ]
          },
          "execution_count": 27,
          "metadata": {},
          "output_type": "execute_result"
        }
      ],
      "source": [
        "le = LabelEncoder()\n",
        "X[\"sex\"] = le.fit_transform(X[\"sex\"])\n",
        "X[\"embarked\"] = le.fit_transform(X[\"embarked\"])\n",
        "\n",
        "# Verify the dataset\n",
        "X.head()"
      ]
    },
    {
      "cell_type": "markdown",
      "id": "25ac699e-b5da-433e-977b-abc60e6262a0",
      "metadata": {
        "tags": [],
        "id": "25ac699e-b5da-433e-977b-abc60e6262a0"
      },
      "source": [
        "## Feature Selection <a class=\"anchor\" id=\"feature_selection\"></a> <p style=\"text-align: right; color: blue; font-size: 15px\"> [Go to Main Menu](#toc) </p>\n",
        "Examine Feature Correlations"
      ]
    },
    {
      "cell_type": "code",
      "execution_count": null,
      "id": "7e25d037-9fd3-4676-817a-5d2c0d990491",
      "metadata": {
        "tags": [],
        "id": "7e25d037-9fd3-4676-817a-5d2c0d990491",
        "outputId": "19cf6173-786a-4d3a-becc-2f4837f8e0a2"
      },
      "outputs": [
        {
          "data": {
            "image/png": "[encoded data removed]",
            "text/plain": [
              "<Figure size 640x480 with 2 Axes>"
            ]
          },
          "metadata": {},
          "output_type": "display_data"
        }
      ],
      "source": [
        "# Since for correlation we need only numerical values, so\n",
        "sns.heatmap(X[[\"pclass\", \"sex\", \"age\", \"sibsp\", \"parch\", \"fare\", \"embarked\"]].corr(), annot=True, cmap='coolwarm')\n",
        "plt.title(\"Correlation Matrix\")\n",
        "plt.show()"
      ]
    },
    {
      "cell_type": "markdown",
      "id": "ca2f6e28-7e14-435a-8dfb-c13d0b97678b",
      "metadata": {
        "tags": [],
        "id": "ca2f6e28-7e14-435a-8dfb-c13d0b97678b"
      },
      "source": [
        "### Observation:\n",
        "Features 'parch' and 'sibsp' are weekly correlated featues, so we can combine them to get the more meaningful information, which lead to feature engineering."
      ]
    },
    {
      "cell_type": "markdown",
      "id": "6768206f-d62b-4411-aeea-9e4b01f8d533",
      "metadata": {
        "tags": [],
        "id": "6768206f-d62b-4411-aeea-9e4b01f8d533"
      },
      "source": [
        "## Feature Engineering <a class=\"anchor\" id=\"feature_engineering\"></a> <p style=\"text-align: right; color: blue; font-size: 15px\"> [Go to Main Menu](#toc) </p>"
      ]
    },
    {
      "cell_type": "code",
      "execution_count": null,
      "id": "f9a5169a-cf39-41fd-a34b-fadbbf1581f4",
      "metadata": {
        "tags": [],
        "id": "f9a5169a-cf39-41fd-a34b-fadbbf1581f4",
        "outputId": "4d476a7c-f9f7-41a2-b78b-4c96f44a853d"
      },
      "outputs": [
        {
          "data": {
            "text/html": [
              "<div>\n",
              "<style scoped>\n",
              "    .dataframe tbody tr th:only-of-type {\n",
              "        vertical-align: middle;\n",
              "    }\n",
              "\n",
              "    .dataframe tbody tr th {\n",
              "        vertical-align: top;\n",
              "    }\n",
              "\n",
              "    .dataframe thead th {\n",
              "        text-align: right;\n",
              "    }\n",
              "</style>\n",
              "<table border=\"1\" class=\"dataframe\">\n",
              "  <thead>\n",
              "    <tr style=\"text-align: right;\">\n",
              "      <th></th>\n",
              "      <th>pclass</th>\n",
              "      <th>name</th>\n",
              "      <th>sex</th>\n",
              "      <th>age</th>\n",
              "      <th>fare</th>\n",
              "      <th>embarked</th>\n",
              "      <th>family_size</th>\n",
              "      <th>is_alone</th>\n",
              "    </tr>\n",
              "  </thead>\n",
              "  <tbody>\n",
              "    <tr>\n",
              "      <th>0</th>\n",
              "      <td>1.0</td>\n",
              "      <td>Allen, Miss. Elisabeth Walton</td>\n",
              "      <td>0</td>\n",
              "      <td>29.0000</td>\n",
              "      <td>211.3375</td>\n",
              "      <td>2</td>\n",
              "      <td>0.0</td>\n",
              "      <td>1</td>\n",
              "    </tr>\n",
              "    <tr>\n",
              "      <th>1</th>\n",
              "      <td>1.0</td>\n",
              "      <td>Allison, Master. Hudson Trevor</td>\n",
              "      <td>1</td>\n",
              "      <td>0.9167</td>\n",
              "      <td>151.5500</td>\n",
              "      <td>2</td>\n",
              "      <td>3.0</td>\n",
              "      <td>0</td>\n",
              "    </tr>\n",
              "    <tr>\n",
              "      <th>2</th>\n",
              "      <td>1.0</td>\n",
              "      <td>Allison, Miss. Helen Loraine</td>\n",
              "      <td>0</td>\n",
              "      <td>2.0000</td>\n",
              "      <td>151.5500</td>\n",
              "      <td>2</td>\n",
              "      <td>3.0</td>\n",
              "      <td>0</td>\n",
              "    </tr>\n",
              "    <tr>\n",
              "      <th>3</th>\n",
              "      <td>1.0</td>\n",
              "      <td>Allison, Mr. Hudson Joshua Creighton</td>\n",
              "      <td>1</td>\n",
              "      <td>30.0000</td>\n",
              "      <td>151.5500</td>\n",
              "      <td>2</td>\n",
              "      <td>3.0</td>\n",
              "      <td>0</td>\n",
              "    </tr>\n",
              "    <tr>\n",
              "      <th>4</th>\n",
              "      <td>1.0</td>\n",
              "      <td>Allison, Mrs. Hudson J C (Bessie Waldo Daniels)</td>\n",
              "      <td>0</td>\n",
              "      <td>25.0000</td>\n",
              "      <td>151.5500</td>\n",
              "      <td>2</td>\n",
              "      <td>3.0</td>\n",
              "      <td>0</td>\n",
              "    </tr>\n",
              "  </tbody>\n",
              "</table>\n",
              "</div>"
            ],
            "text/plain": [
              "   pclass                                             name  sex      age  \\\n",
              "0     1.0                    Allen, Miss. Elisabeth Walton    0  29.0000   \n",
              "1     1.0                   Allison, Master. Hudson Trevor    1   0.9167   \n",
              "2     1.0                     Allison, Miss. Helen Loraine    0   2.0000   \n",
              "3     1.0             Allison, Mr. Hudson Joshua Creighton    1  30.0000   \n",
              "4     1.0  Allison, Mrs. Hudson J C (Bessie Waldo Daniels)    0  25.0000   \n",
              "\n",
              "       fare  embarked  family_size  is_alone  \n",
              "0  211.3375         2          0.0         1  \n",
              "1  151.5500         2          3.0         0  \n",
              "2  151.5500         2          3.0         0  \n",
              "3  151.5500         2          3.0         0  \n",
              "4  151.5500         2          3.0         0  "
            ]
          },
          "execution_count": 32,
          "metadata": {},
          "output_type": "execute_result"
        }
      ],
      "source": [
        "# Combining 'parch' and 'sibsp' to create new feature named as 'family_size'\n",
        "\n",
        "X['family_size'] = X['parch'] + X['sibsp']\n",
        "X.drop(['parch', 'sibsp'], axis=1, inplace=True)\n",
        "\n",
        "# Create a derived feature called 'is_alone' using the family_size feature\n",
        "X['is_alone'] = 1\n",
        "X['is_alone'].loc[X['family_size'] > 1] = 0\n",
        "\n",
        "# Print the head to verify the data\n",
        "X.head()"
      ]
    },
    {
      "cell_type": "code",
      "execution_count": null,
      "id": "7d030550-6f81-4579-9ad4-ef81bd108a67",
      "metadata": {
        "tags": [],
        "id": "7d030550-6f81-4579-9ad4-ef81bd108a67",
        "outputId": "96880851-58f8-42d4-dd38-5a7a8ee16871"
      },
      "outputs": [
        {
          "data": {
            "text/html": [
              "<div>\n",
              "<style scoped>\n",
              "    .dataframe tbody tr th:only-of-type {\n",
              "        vertical-align: middle;\n",
              "    }\n",
              "\n",
              "    .dataframe tbody tr th {\n",
              "        vertical-align: top;\n",
              "    }\n",
              "\n",
              "    .dataframe thead th {\n",
              "        text-align: right;\n",
              "    }\n",
              "</style>\n",
              "<table border=\"1\" class=\"dataframe\">\n",
              "  <thead>\n",
              "    <tr style=\"text-align: right;\">\n",
              "      <th></th>\n",
              "      <th>pclass</th>\n",
              "      <th>sex</th>\n",
              "      <th>age</th>\n",
              "      <th>fare</th>\n",
              "      <th>embarked</th>\n",
              "      <th>family_size</th>\n",
              "      <th>is_alone</th>\n",
              "      <th>title</th>\n",
              "    </tr>\n",
              "  </thead>\n",
              "  <tbody>\n",
              "    <tr>\n",
              "      <th>0</th>\n",
              "      <td>1.0</td>\n",
              "      <td>0</td>\n",
              "      <td>29.0000</td>\n",
              "      <td>211.3375</td>\n",
              "      <td>2</td>\n",
              "      <td>0.0</td>\n",
              "      <td>1</td>\n",
              "      <td>Miss</td>\n",
              "    </tr>\n",
              "    <tr>\n",
              "      <th>1</th>\n",
              "      <td>1.0</td>\n",
              "      <td>1</td>\n",
              "      <td>0.9167</td>\n",
              "      <td>151.5500</td>\n",
              "      <td>2</td>\n",
              "      <td>3.0</td>\n",
              "      <td>0</td>\n",
              "      <td>Master</td>\n",
              "    </tr>\n",
              "    <tr>\n",
              "      <th>2</th>\n",
              "      <td>1.0</td>\n",
              "      <td>0</td>\n",
              "      <td>2.0000</td>\n",
              "      <td>151.5500</td>\n",
              "      <td>2</td>\n",
              "      <td>3.0</td>\n",
              "      <td>0</td>\n",
              "      <td>Miss</td>\n",
              "    </tr>\n",
              "    <tr>\n",
              "      <th>3</th>\n",
              "      <td>1.0</td>\n",
              "      <td>1</td>\n",
              "      <td>30.0000</td>\n",
              "      <td>151.5500</td>\n",
              "      <td>2</td>\n",
              "      <td>3.0</td>\n",
              "      <td>0</td>\n",
              "      <td>Mr</td>\n",
              "    </tr>\n",
              "    <tr>\n",
              "      <th>4</th>\n",
              "      <td>1.0</td>\n",
              "      <td>0</td>\n",
              "      <td>25.0000</td>\n",
              "      <td>151.5500</td>\n",
              "      <td>2</td>\n",
              "      <td>3.0</td>\n",
              "      <td>0</td>\n",
              "      <td>Mrs</td>\n",
              "    </tr>\n",
              "  </tbody>\n",
              "</table>\n",
              "</div>"
            ],
            "text/plain": [
              "   pclass  sex      age      fare  embarked  family_size  is_alone   title\n",
              "0     1.0    0  29.0000  211.3375         2          0.0         1    Miss\n",
              "1     1.0    1   0.9167  151.5500         2          3.0         0  Master\n",
              "2     1.0    0   2.0000  151.5500         2          3.0         0    Miss\n",
              "3     1.0    1  30.0000  151.5500         2          3.0         0      Mr\n",
              "4     1.0    0  25.0000  151.5500         2          3.0         0     Mrs"
            ]
          },
          "execution_count": 33,
          "metadata": {},
          "output_type": "execute_result"
        }
      ],
      "source": [
        "# Using 'name' feature we can derive a new fearture called 'Title' which\n",
        "# will have values such as 'Mr.' and 'Mrs', 'Cpt.' and 'Dr.',\n",
        "# these values seems be of interest for our model\n",
        "\n",
        "# Create new feature\n",
        "X['title'] =  X['name'].str.split(\", \", expand=True)[1].str.split(\".\", expand=True)[0]\n",
        "\n",
        "# Remove the 'name' feature\n",
        "X.drop([\"name\"], axis=1, inplace=True)\n",
        "\n",
        "# Print the head to verify the data\n",
        "X.head()"
      ]
    },
    {
      "cell_type": "code",
      "execution_count": null,
      "id": "98ae847d-29da-422e-b66d-3044d3b372ef",
      "metadata": {
        "tags": [],
        "id": "98ae847d-29da-422e-b66d-3044d3b372ef",
        "outputId": "9e01a723-0e69-4270-ee0e-0ff7a9674689"
      },
      "outputs": [
        {
          "data": {
            "text/html": [
              "<div>\n",
              "<style scoped>\n",
              "    .dataframe tbody tr th:only-of-type {\n",
              "        vertical-align: middle;\n",
              "    }\n",
              "\n",
              "    .dataframe tbody tr th {\n",
              "        vertical-align: top;\n",
              "    }\n",
              "\n",
              "    .dataframe thead th {\n",
              "        text-align: right;\n",
              "    }\n",
              "</style>\n",
              "<table border=\"1\" class=\"dataframe\">\n",
              "  <thead>\n",
              "    <tr style=\"text-align: right;\">\n",
              "      <th>sex</th>\n",
              "      <th>0</th>\n",
              "      <th>1</th>\n",
              "    </tr>\n",
              "    <tr>\n",
              "      <th>title</th>\n",
              "      <th></th>\n",
              "      <th></th>\n",
              "    </tr>\n",
              "  </thead>\n",
              "  <tbody>\n",
              "    <tr>\n",
              "      <th>Capt</th>\n",
              "      <td>0</td>\n",
              "      <td>1</td>\n",
              "    </tr>\n",
              "    <tr>\n",
              "      <th>Col</th>\n",
              "      <td>0</td>\n",
              "      <td>4</td>\n",
              "    </tr>\n",
              "    <tr>\n",
              "      <th>Don</th>\n",
              "      <td>0</td>\n",
              "      <td>1</td>\n",
              "    </tr>\n",
              "    <tr>\n",
              "      <th>Dona</th>\n",
              "      <td>1</td>\n",
              "      <td>0</td>\n",
              "    </tr>\n",
              "    <tr>\n",
              "      <th>Dr</th>\n",
              "      <td>1</td>\n",
              "      <td>7</td>\n",
              "    </tr>\n",
              "    <tr>\n",
              "      <th>Jonkheer</th>\n",
              "      <td>0</td>\n",
              "      <td>1</td>\n",
              "    </tr>\n",
              "    <tr>\n",
              "      <th>Lady</th>\n",
              "      <td>1</td>\n",
              "      <td>0</td>\n",
              "    </tr>\n",
              "    <tr>\n",
              "      <th>Major</th>\n",
              "      <td>0</td>\n",
              "      <td>2</td>\n",
              "    </tr>\n",
              "    <tr>\n",
              "      <th>Master</th>\n",
              "      <td>0</td>\n",
              "      <td>61</td>\n",
              "    </tr>\n",
              "    <tr>\n",
              "      <th>Miss</th>\n",
              "      <td>260</td>\n",
              "      <td>0</td>\n",
              "    </tr>\n",
              "    <tr>\n",
              "      <th>Mlle</th>\n",
              "      <td>2</td>\n",
              "      <td>0</td>\n",
              "    </tr>\n",
              "    <tr>\n",
              "      <th>Mme</th>\n",
              "      <td>1</td>\n",
              "      <td>0</td>\n",
              "    </tr>\n",
              "    <tr>\n",
              "      <th>Mr</th>\n",
              "      <td>0</td>\n",
              "      <td>757</td>\n",
              "    </tr>\n",
              "    <tr>\n",
              "      <th>Mrs</th>\n",
              "      <td>197</td>\n",
              "      <td>0</td>\n",
              "    </tr>\n",
              "    <tr>\n",
              "      <th>Ms</th>\n",
              "      <td>2</td>\n",
              "      <td>0</td>\n",
              "    </tr>\n",
              "    <tr>\n",
              "      <th>Rev</th>\n",
              "      <td>0</td>\n",
              "      <td>8</td>\n",
              "    </tr>\n",
              "    <tr>\n",
              "      <th>Sir</th>\n",
              "      <td>0</td>\n",
              "      <td>1</td>\n",
              "    </tr>\n",
              "    <tr>\n",
              "      <th>the Countess</th>\n",
              "      <td>1</td>\n",
              "      <td>0</td>\n",
              "    </tr>\n",
              "  </tbody>\n",
              "</table>\n",
              "</div>"
            ],
            "text/plain": [
              "sex             0    1\n",
              "title                 \n",
              "Capt            0    1\n",
              "Col             0    4\n",
              "Don             0    1\n",
              "Dona            1    0\n",
              "Dr              1    7\n",
              "Jonkheer        0    1\n",
              "Lady            1    0\n",
              "Major           0    2\n",
              "Master          0   61\n",
              "Miss          260    0\n",
              "Mlle            2    0\n",
              "Mme             1    0\n",
              "Mr              0  757\n",
              "Mrs           197    0\n",
              "Ms              2    0\n",
              "Rev             0    8\n",
              "Sir             0    1\n",
              "the Countess    1    0"
            ]
          },
          "execution_count": 34,
          "metadata": {},
          "output_type": "execute_result"
        }
      ],
      "source": [
        "# Verify the new feature 'title'\n",
        "pd.crosstab(X['title'], X['sex'])"
      ]
    },
    {
      "cell_type": "markdown",
      "id": "11cc257a-a693-4c19-9c7e-e809c292c5d4",
      "metadata": {
        "tags": [],
        "id": "11cc257a-a693-4c19-9c7e-e809c292c5d4"
      },
      "source": [
        "### Observation\n",
        "It seems like there are so many titles, so we can perform binning or grouping."
      ]
    },
    {
      "cell_type": "markdown",
      "id": "af2ab42b-c25d-4136-afe1-2dacc53d12ca",
      "metadata": {
        "tags": [],
        "id": "af2ab42b-c25d-4136-afe1-2dacc53d12ca"
      },
      "source": [
        "### Binning <a class=\"anchor\" id=\"binning\"></a> <p style=\"text-align: right; color: blue; font-size: 15px\"> [Go to Main Menu](#toc) </p>"
      ]
    },
    {
      "cell_type": "code",
      "execution_count": null,
      "id": "53534ce5-ead6-4dda-9879-9360123b420f",
      "metadata": {
        "tags": [],
        "id": "53534ce5-ead6-4dda-9879-9360123b420f",
        "outputId": "cbe67f2b-e434-4127-c86e-887921326f61"
      },
      "outputs": [
        {
          "data": {
            "text/html": [
              "<div>\n",
              "<style scoped>\n",
              "    .dataframe tbody tr th:only-of-type {\n",
              "        vertical-align: middle;\n",
              "    }\n",
              "\n",
              "    .dataframe tbody tr th {\n",
              "        vertical-align: top;\n",
              "    }\n",
              "\n",
              "    .dataframe thead th {\n",
              "        text-align: right;\n",
              "    }\n",
              "</style>\n",
              "<table border=\"1\" class=\"dataframe\">\n",
              "  <thead>\n",
              "    <tr style=\"text-align: right;\">\n",
              "      <th>sex</th>\n",
              "      <th>0</th>\n",
              "      <th>1</th>\n",
              "    </tr>\n",
              "    <tr>\n",
              "      <th>title</th>\n",
              "      <th></th>\n",
              "      <th></th>\n",
              "    </tr>\n",
              "  </thead>\n",
              "  <tbody>\n",
              "    <tr>\n",
              "      <th>Master</th>\n",
              "      <td>0</td>\n",
              "      <td>61</td>\n",
              "    </tr>\n",
              "    <tr>\n",
              "      <th>Mr</th>\n",
              "      <td>0</td>\n",
              "      <td>757</td>\n",
              "    </tr>\n",
              "    <tr>\n",
              "      <th>Mrs</th>\n",
              "      <td>457</td>\n",
              "      <td>0</td>\n",
              "    </tr>\n",
              "    <tr>\n",
              "      <th>rare</th>\n",
              "      <td>9</td>\n",
              "      <td>25</td>\n",
              "    </tr>\n",
              "  </tbody>\n",
              "</table>\n",
              "</div>"
            ],
            "text/plain": [
              "sex       0    1\n",
              "title           \n",
              "Master    0   61\n",
              "Mr        0  757\n",
              "Mrs     457    0\n",
              "rare      9   25"
            ]
          },
          "execution_count": 37,
          "metadata": {},
          "output_type": "execute_result"
        }
      ],
      "source": [
        "# Mark the 'title' as 'rare' if the value is less than 10\n",
        "rare_titles = (X['title'].value_counts() < 10)\n",
        "rare_titles\n",
        "\n",
        "X.title.loc[X.title == 'Miss'] = 'Mrs'\n",
        "X['title'] = X.title.apply(lambda x: 'rare' if rare_titles[x] else x)\n",
        "\n",
        "# Verify the new feature 'title'\n",
        "pd.crosstab(X['title'], X['sex'])"
      ]
    },
    {
      "cell_type": "markdown",
      "id": "a7f556bd-7a4e-45a8-b512-879d750293b2",
      "metadata": {
        "tags": [],
        "id": "a7f556bd-7a4e-45a8-b512-879d750293b2"
      },
      "source": [
        "## Pipeline <a class=\"anchor\" id=\"pipeline\"></a> <p style=\"text-align: right; color: blue; font-size: 15px\"> [Go to Main Menu](#toc) </p>\n",
        "Create preprocessing (numerical, categorical transform) pipeline"
      ]
    },
    {
      "cell_type": "code",
      "execution_count": null,
      "id": "c9915ba3-bd91-48c6-8e73-1ca495895a7b",
      "metadata": {
        "tags": [],
        "id": "c9915ba3-bd91-48c6-8e73-1ca495895a7b"
      },
      "outputs": [],
      "source": [
        "# here we call the new API set_config to tell sklearn we want to output a pandas DF\n",
        "set_config(transform_output=\"pandas\")\n",
        "\n",
        "num_features = ['age', 'fare', 'family_size']\n",
        "cat_features = ['embarked', 'sex', 'pclass', 'title', 'is_alone']\n",
        "\n",
        "# creating the numerical pipeline\n",
        "num_pipe = Pipeline([\n",
        "    ('imputer', SimpleImputer()),\n",
        "    ('scaler', StandardScaler())\n",
        "])\n",
        "\n",
        "#creating the transform to preprocess the data\n",
        "transformer = ColumnTransformer(\n",
        "    (\n",
        "        ('numerical', num_pipe, num_features),\n",
        "        (\"categorical\",\n",
        "             OneHotEncoder(sparse_output=False,\n",
        "                           drop=\"if_binary\",\n",
        "                           handle_unknown=\"ignore\"),\n",
        "             cat_features\n",
        "        )\n",
        "    ),\n",
        "    verbose_feature_names_out=False,\n",
        ")"
      ]
    },
    {
      "cell_type": "markdown",
      "id": "71e630d9-fc22-4239-9e4a-d9e9c497acdb",
      "metadata": {
        "tags": [],
        "id": "71e630d9-fc22-4239-9e4a-d9e9c497acdb"
      },
      "source": [
        "## Data split: Train and Test sets <a class=\"anchor\" id=\"data_split\"></a> <p style=\"text-align: right; color: blue; font-size: 15px\"> [Go to Main Menu](#toc) </p>"
      ]
    },
    {
      "cell_type": "code",
      "execution_count": null,
      "id": "6b20592e-4509-4eed-92d9-2a682e2aaf45",
      "metadata": {
        "tags": [],
        "id": "6b20592e-4509-4eed-92d9-2a682e2aaf45"
      },
      "outputs": [],
      "source": [
        "# split the data for training and testing the model\n",
        "X_train, X_test, y_train, y_test = train_test_split(X, y, test_size=0.3, stratify=y, random_state=117)"
      ]
    },
    {
      "cell_type": "markdown",
      "id": "077fc211-83b7-4b4f-aae7-4619c57ff919",
      "metadata": {
        "tags": [],
        "id": "077fc211-83b7-4b4f-aae7-4619c57ff919"
      },
      "source": [
        "## Modelling <a class=\"anchor\" id=\"modelling\"></a> <p style=\"text-align: right; color: blue; font-size: 15px\"> [Go to Main Menu](#toc) </p>\n",
        "Following Algorithms would be trained and compared:\n",
        "- Decision Tree Classifier\n",
        "- Random Forest,\n",
        "- Gradient Boosted and\n",
        "- Adaboost"
      ]
    },
    {
      "cell_type": "markdown",
      "id": "b17bfe84-62d6-44c6-a23c-b873ee318e85",
      "metadata": {
        "tags": [],
        "id": "b17bfe84-62d6-44c6-a23c-b873ee318e85"
      },
      "source": [
        "### Decision Tree <a class=\"anchor\" id=\"decision_tree\"></a> <p style=\"text-align: right; color: blue; font-size: 15px\"> [Go to Main Menu](#toc) </p>"
      ]
    },
    {
      "cell_type": "markdown",
      "id": "278cc826-85fe-4ef4-beca-7979cc4b2899",
      "metadata": {
        "tags": [],
        "id": "278cc826-85fe-4ef4-beca-7979cc4b2899"
      },
      "source": [
        "### Classifier Pipeline <a class=\"anchor\" id=\"dt_classifier_pipeline\"></a> <p style=\"text-align: right; color: blue; font-size: 15px\"> [Go to Main Menu](#toc) </p>\n",
        "Create classifer pipeline with a data preprocessing step and decision tree classifier"
      ]
    },
    {
      "cell_type": "code",
      "execution_count": null,
      "id": "89f16a2d-3499-4572-8225-73156d396e9b",
      "metadata": {
        "tags": [],
        "id": "89f16a2d-3499-4572-8225-73156d396e9b"
      },
      "outputs": [],
      "source": [
        "# creating the classifier pipeline with a data preprocessing step and decision tree classifier\n",
        "rf_pipeline = Pipeline([\n",
        "    ('dataprep', transformer),\n",
        "    ('rf_clf', DecisionTreeClassifier(random_state=117))\n",
        "])"
      ]
    },
    {
      "cell_type": "code",
      "execution_count": null,
      "id": "f2fb9ee0-3154-4732-81c4-33dd7e635249",
      "metadata": {
        "tags": [],
        "id": "f2fb9ee0-3154-4732-81c4-33dd7e635249",
        "outputId": "45ec8dd4-160a-493a-db55-937113052e64"
      },
      "outputs": [
        {
          "data": {
            "text/html": [
              "<style>#sk-container-id-1 {color: black;}#sk-container-id-1 pre{padding: 0;}#sk-container-id-1 div.sk-toggleable {background-color: white;}#sk-container-id-1 label.sk-toggleable__label {cursor: pointer;display: block;width: 100%;margin-bottom: 0;padding: 0.3em;box-sizing: border-box;text-align: center;}#sk-container-id-1 label.sk-toggleable__label-arrow:before {content: \"▸\";float: left;margin-right: 0.25em;color: #696969;}#sk-container-id-1 label.sk-toggleable__label-arrow:hover:before {color: black;}#sk-container-id-1 div.sk-estimator:hover label.sk-toggleable__label-arrow:before {color: black;}#sk-container-id-1 div.sk-toggleable__content {max-height: 0;max-width: 0;overflow: hidden;text-align: left;background-color: #f0f8ff;}#sk-container-id-1 div.sk-toggleable__content pre {margin: 0.2em;color: black;border-radius: 0.25em;background-color: #f0f8ff;}#sk-container-id-1 input.sk-toggleable__control:checked~div.sk-toggleable__content {max-height: 200px;max-width: 100%;overflow: auto;}#sk-container-id-1 input.sk-toggleable__control:checked~label.sk-toggleable__label-arrow:before {content: \"▾\";}#sk-container-id-1 div.sk-estimator input.sk-toggleable__control:checked~label.sk-toggleable__label {background-color: #d4ebff;}#sk-container-id-1 div.sk-label input.sk-toggleable__control:checked~label.sk-toggleable__label {background-color: #d4ebff;}#sk-container-id-1 input.sk-hidden--visually {border: 0;clip: rect(1px 1px 1px 1px);clip: rect(1px, 1px, 1px, 1px);height: 1px;margin: -1px;overflow: hidden;padding: 0;position: absolute;width: 1px;}#sk-container-id-1 div.sk-estimator {font-family: monospace;background-color: #f0f8ff;border: 1px dotted black;border-radius: 0.25em;box-sizing: border-box;margin-bottom: 0.5em;}#sk-container-id-1 div.sk-estimator:hover {background-color: #d4ebff;}#sk-container-id-1 div.sk-parallel-item::after {content: \"\";width: 100%;border-bottom: 1px solid gray;flex-grow: 1;}#sk-container-id-1 div.sk-label:hover label.sk-toggleable__label {background-color: #d4ebff;}#sk-container-id-1 div.sk-serial::before {content: \"\";position: absolute;border-left: 1px solid gray;box-sizing: border-box;top: 0;bottom: 0;left: 50%;z-index: 0;}#sk-container-id-1 div.sk-serial {display: flex;flex-direction: column;align-items: center;background-color: white;padding-right: 0.2em;padding-left: 0.2em;position: relative;}#sk-container-id-1 div.sk-item {position: relative;z-index: 1;}#sk-container-id-1 div.sk-parallel {display: flex;align-items: stretch;justify-content: center;background-color: white;position: relative;}#sk-container-id-1 div.sk-item::before, #sk-container-id-1 div.sk-parallel-item::before {content: \"\";position: absolute;border-left: 1px solid gray;box-sizing: border-box;top: 0;bottom: 0;left: 50%;z-index: -1;}#sk-container-id-1 div.sk-parallel-item {display: flex;flex-direction: column;z-index: 1;position: relative;background-color: white;}#sk-container-id-1 div.sk-parallel-item:first-child::after {align-self: flex-end;width: 50%;}#sk-container-id-1 div.sk-parallel-item:last-child::after {align-self: flex-start;width: 50%;}#sk-container-id-1 div.sk-parallel-item:only-child::after {width: 0;}#sk-container-id-1 div.sk-dashed-wrapped {border: 1px dashed gray;margin: 0 0.4em 0.5em 0.4em;box-sizing: border-box;padding-bottom: 0.4em;background-color: white;}#sk-container-id-1 div.sk-label label {font-family: monospace;font-weight: bold;display: inline-block;line-height: 1.2em;}#sk-container-id-1 div.sk-label-container {text-align: center;}#sk-container-id-1 div.sk-container {/* jupyter's `normalize.less` sets `[hidden] { display: none; }` but bootstrap.min.css set `[hidden] { display: none !important; }` so we also need the `!important` here to be able to override the default hidden behavior on the sphinx rendered scikit-learn.org. See: https://github.com/scikit-learn/scikit-learn/issues/21755 */display: inline-block !important;position: relative;}#sk-container-id-1 div.sk-text-repr-fallback {display: none;}</style><div id=\"sk-container-id-1\" class=\"sk-top-container\"><div class=\"sk-text-repr-fallback\"><pre>Pipeline(steps=[(&#x27;dataprep&#x27;,\n",
              "                 ColumnTransformer(transformers=((&#x27;numerical&#x27;,\n",
              "                                                  Pipeline(steps=[(&#x27;imputer&#x27;,\n",
              "                                                                   SimpleImputer()),\n",
              "                                                                  (&#x27;scaler&#x27;,\n",
              "                                                                   StandardScaler())]),\n",
              "                                                  [&#x27;age&#x27;, &#x27;fare&#x27;,\n",
              "                                                   &#x27;family_size&#x27;]),\n",
              "                                                 (&#x27;categorical&#x27;,\n",
              "                                                  OneHotEncoder(drop=&#x27;if_binary&#x27;,\n",
              "                                                                handle_unknown=&#x27;ignore&#x27;,\n",
              "                                                                sparse_output=False),\n",
              "                                                  [&#x27;embarked&#x27;, &#x27;sex&#x27;, &#x27;pclass&#x27;,\n",
              "                                                   &#x27;title&#x27;, &#x27;is_alone&#x27;])),\n",
              "                                   verbose_feature_names_out=False)),\n",
              "                (&#x27;rf_clf&#x27;, DecisionTreeClassifier(random_state=117))])</pre><b>In a Jupyter environment, please rerun this cell to show the HTML representation or trust the notebook. <br />On GitHub, the HTML representation is unable to render, please try loading this page with nbviewer.org.</b></div><div class=\"sk-container\" hidden><div class=\"sk-item sk-dashed-wrapped\"><div class=\"sk-label-container\"><div class=\"sk-label sk-toggleable\"><input class=\"sk-toggleable__control sk-hidden--visually\" id=\"sk-estimator-id-1\" type=\"checkbox\" ><label for=\"sk-estimator-id-1\" class=\"sk-toggleable__label sk-toggleable__label-arrow\">Pipeline</label><div class=\"sk-toggleable__content\"><pre>Pipeline(steps=[(&#x27;dataprep&#x27;,\n",
              "                 ColumnTransformer(transformers=((&#x27;numerical&#x27;,\n",
              "                                                  Pipeline(steps=[(&#x27;imputer&#x27;,\n",
              "                                                                   SimpleImputer()),\n",
              "                                                                  (&#x27;scaler&#x27;,\n",
              "                                                                   StandardScaler())]),\n",
              "                                                  [&#x27;age&#x27;, &#x27;fare&#x27;,\n",
              "                                                   &#x27;family_size&#x27;]),\n",
              "                                                 (&#x27;categorical&#x27;,\n",
              "                                                  OneHotEncoder(drop=&#x27;if_binary&#x27;,\n",
              "                                                                handle_unknown=&#x27;ignore&#x27;,\n",
              "                                                                sparse_output=False),\n",
              "                                                  [&#x27;embarked&#x27;, &#x27;sex&#x27;, &#x27;pclass&#x27;,\n",
              "                                                   &#x27;title&#x27;, &#x27;is_alone&#x27;])),\n",
              "                                   verbose_feature_names_out=False)),\n",
              "                (&#x27;rf_clf&#x27;, DecisionTreeClassifier(random_state=117))])</pre></div></div></div><div class=\"sk-serial\"><div class=\"sk-item sk-dashed-wrapped\"><div class=\"sk-label-container\"><div class=\"sk-label sk-toggleable\"><input class=\"sk-toggleable__control sk-hidden--visually\" id=\"sk-estimator-id-2\" type=\"checkbox\" ><label for=\"sk-estimator-id-2\" class=\"sk-toggleable__label sk-toggleable__label-arrow\">dataprep: ColumnTransformer</label><div class=\"sk-toggleable__content\"><pre>ColumnTransformer(transformers=((&#x27;numerical&#x27;,\n",
              "                                 Pipeline(steps=[(&#x27;imputer&#x27;, SimpleImputer()),\n",
              "                                                 (&#x27;scaler&#x27;, StandardScaler())]),\n",
              "                                 [&#x27;age&#x27;, &#x27;fare&#x27;, &#x27;family_size&#x27;]),\n",
              "                                (&#x27;categorical&#x27;,\n",
              "                                 OneHotEncoder(drop=&#x27;if_binary&#x27;,\n",
              "                                               handle_unknown=&#x27;ignore&#x27;,\n",
              "                                               sparse_output=False),\n",
              "                                 [&#x27;embarked&#x27;, &#x27;sex&#x27;, &#x27;pclass&#x27;, &#x27;title&#x27;,\n",
              "                                  &#x27;is_alone&#x27;])),\n",
              "                  verbose_feature_names_out=False)</pre></div></div></div><div class=\"sk-parallel\"><div class=\"sk-parallel-item\"><div class=\"sk-item\"><div class=\"sk-label-container\"><div class=\"sk-label sk-toggleable\"><input class=\"sk-toggleable__control sk-hidden--visually\" id=\"sk-estimator-id-3\" type=\"checkbox\" ><label for=\"sk-estimator-id-3\" class=\"sk-toggleable__label sk-toggleable__label-arrow\">numerical</label><div class=\"sk-toggleable__content\"><pre>[&#x27;age&#x27;, &#x27;fare&#x27;, &#x27;family_size&#x27;]</pre></div></div></div><div class=\"sk-serial\"><div class=\"sk-item\"><div class=\"sk-serial\"><div class=\"sk-item\"><div class=\"sk-estimator sk-toggleable\"><input class=\"sk-toggleable__control sk-hidden--visually\" id=\"sk-estimator-id-4\" type=\"checkbox\" ><label for=\"sk-estimator-id-4\" class=\"sk-toggleable__label sk-toggleable__label-arrow\">SimpleImputer</label><div class=\"sk-toggleable__content\"><pre>SimpleImputer()</pre></div></div></div><div class=\"sk-item\"><div class=\"sk-estimator sk-toggleable\"><input class=\"sk-toggleable__control sk-hidden--visually\" id=\"sk-estimator-id-5\" type=\"checkbox\" ><label for=\"sk-estimator-id-5\" class=\"sk-toggleable__label sk-toggleable__label-arrow\">StandardScaler</label><div class=\"sk-toggleable__content\"><pre>StandardScaler()</pre></div></div></div></div></div></div></div></div><div class=\"sk-parallel-item\"><div class=\"sk-item\"><div class=\"sk-label-container\"><div class=\"sk-label sk-toggleable\"><input class=\"sk-toggleable__control sk-hidden--visually\" id=\"sk-estimator-id-6\" type=\"checkbox\" ><label for=\"sk-estimator-id-6\" class=\"sk-toggleable__label sk-toggleable__label-arrow\">categorical</label><div class=\"sk-toggleable__content\"><pre>[&#x27;embarked&#x27;, &#x27;sex&#x27;, &#x27;pclass&#x27;, &#x27;title&#x27;, &#x27;is_alone&#x27;]</pre></div></div></div><div class=\"sk-serial\"><div class=\"sk-item\"><div class=\"sk-estimator sk-toggleable\"><input class=\"sk-toggleable__control sk-hidden--visually\" id=\"sk-estimator-id-7\" type=\"checkbox\" ><label for=\"sk-estimator-id-7\" class=\"sk-toggleable__label sk-toggleable__label-arrow\">OneHotEncoder</label><div class=\"sk-toggleable__content\"><pre>OneHotEncoder(drop=&#x27;if_binary&#x27;, handle_unknown=&#x27;ignore&#x27;, sparse_output=False)</pre></div></div></div></div></div></div></div></div><div class=\"sk-item\"><div class=\"sk-estimator sk-toggleable\"><input class=\"sk-toggleable__control sk-hidden--visually\" id=\"sk-estimator-id-8\" type=\"checkbox\" ><label for=\"sk-estimator-id-8\" class=\"sk-toggleable__label sk-toggleable__label-arrow\">DecisionTreeClassifier</label><div class=\"sk-toggleable__content\"><pre>DecisionTreeClassifier(random_state=117)</pre></div></div></div></div></div></div></div>"
            ],
            "text/plain": [
              "Pipeline(steps=[('dataprep',\n",
              "                 ColumnTransformer(transformers=(('numerical',\n",
              "                                                  Pipeline(steps=[('imputer',\n",
              "                                                                   SimpleImputer()),\n",
              "                                                                  ('scaler',\n",
              "                                                                   StandardScaler())]),\n",
              "                                                  ['age', 'fare',\n",
              "                                                   'family_size']),\n",
              "                                                 ('categorical',\n",
              "                                                  OneHotEncoder(drop='if_binary',\n",
              "                                                                handle_unknown='ignore',\n",
              "                                                                sparse_output=False),\n",
              "                                                  ['embarked', 'sex', 'pclass',\n",
              "                                                   'title', 'is_alone'])),\n",
              "                                   verbose_feature_names_out=False)),\n",
              "                ('rf_clf', DecisionTreeClassifier(random_state=117))])"
            ]
          },
          "execution_count": 46,
          "metadata": {},
          "output_type": "execute_result"
        }
      ],
      "source": [
        "# training the model\n",
        "rf_pipeline.fit(X_train, y_train)"
      ]
    },
    {
      "cell_type": "markdown",
      "id": "6cc420e7-c6c2-4f7a-864f-f66b798bc359",
      "metadata": {
        "tags": [],
        "id": "6cc420e7-c6c2-4f7a-864f-f66b798bc359"
      },
      "source": [
        "### Feature Importance <a class=\"anchor\" id=\"feature_importance\"></a> <p style=\"text-align: right; color: blue; font-size: 15px\"> [Go to Main Menu](#toc) </p>"
      ]
    },
    {
      "cell_type": "code",
      "execution_count": null,
      "id": "9eeaf9b8-c8b0-4b2a-80ed-4fefbfd12b2e",
      "metadata": {
        "tags": [],
        "id": "9eeaf9b8-c8b0-4b2a-80ed-4fefbfd12b2e",
        "outputId": "4ac0c4ee-5420-4451-c21f-75c6f5aa3694"
      },
      "outputs": [
        {
          "name": "stdout",
          "output_type": "stream",
          "text": [
            "['age' 'fare' 'family_size' 'embarked_0' 'embarked_1' 'embarked_2' 'sex_1'\n",
            " 'pclass_1.0' 'pclass_2.0' 'pclass_3.0' 'title_Master' 'title_Mr'\n",
            " 'title_Mrs' 'title_rare' 'is_alone_1']\n"
          ]
        },
        {
          "data": {
            "text/html": [
              "<div>\n",
              "<style scoped>\n",
              "    .dataframe tbody tr th:only-of-type {\n",
              "        vertical-align: middle;\n",
              "    }\n",
              "\n",
              "    .dataframe tbody tr th {\n",
              "        vertical-align: top;\n",
              "    }\n",
              "\n",
              "    .dataframe thead th {\n",
              "        text-align: right;\n",
              "    }\n",
              "</style>\n",
              "<table border=\"1\" class=\"dataframe\">\n",
              "  <thead>\n",
              "    <tr style=\"text-align: right;\">\n",
              "      <th></th>\n",
              "      <th>Feature</th>\n",
              "      <th>Importance</th>\n",
              "    </tr>\n",
              "  </thead>\n",
              "  <tbody>\n",
              "    <tr>\n",
              "      <th>11</th>\n",
              "      <td>title_Mr</td>\n",
              "      <td>0.293414</td>\n",
              "    </tr>\n",
              "    <tr>\n",
              "      <th>1</th>\n",
              "      <td>fare</td>\n",
              "      <td>0.261285</td>\n",
              "    </tr>\n",
              "    <tr>\n",
              "      <th>0</th>\n",
              "      <td>age</td>\n",
              "      <td>0.255944</td>\n",
              "    </tr>\n",
              "    <tr>\n",
              "      <th>9</th>\n",
              "      <td>pclass_3.0</td>\n",
              "      <td>0.078000</td>\n",
              "    </tr>\n",
              "    <tr>\n",
              "      <th>2</th>\n",
              "      <td>family_size</td>\n",
              "      <td>0.022597</td>\n",
              "    </tr>\n",
              "    <tr>\n",
              "      <th>13</th>\n",
              "      <td>title_rare</td>\n",
              "      <td>0.019619</td>\n",
              "    </tr>\n",
              "    <tr>\n",
              "      <th>5</th>\n",
              "      <td>embarked_2</td>\n",
              "      <td>0.019072</td>\n",
              "    </tr>\n",
              "    <tr>\n",
              "      <th>7</th>\n",
              "      <td>pclass_1.0</td>\n",
              "      <td>0.014560</td>\n",
              "    </tr>\n",
              "    <tr>\n",
              "      <th>6</th>\n",
              "      <td>sex</td>\n",
              "      <td>0.009986</td>\n",
              "    </tr>\n",
              "    <tr>\n",
              "      <th>14</th>\n",
              "      <td>is_alone_1</td>\n",
              "      <td>0.007210</td>\n",
              "    </tr>\n",
              "    <tr>\n",
              "      <th>4</th>\n",
              "      <td>embarked_1</td>\n",
              "      <td>0.007192</td>\n",
              "    </tr>\n",
              "    <tr>\n",
              "      <th>3</th>\n",
              "      <td>embarked_0</td>\n",
              "      <td>0.006808</td>\n",
              "    </tr>\n",
              "    <tr>\n",
              "      <th>10</th>\n",
              "      <td>title_Master</td>\n",
              "      <td>0.002719</td>\n",
              "    </tr>\n",
              "    <tr>\n",
              "      <th>8</th>\n",
              "      <td>pclass_2.0</td>\n",
              "      <td>0.001595</td>\n",
              "    </tr>\n",
              "    <tr>\n",
              "      <th>12</th>\n",
              "      <td>title_Mrs</td>\n",
              "      <td>0.000000</td>\n",
              "    </tr>\n",
              "  </tbody>\n",
              "</table>\n",
              "</div>"
            ],
            "text/plain": [
              "         Feature  Importance\n",
              "11      title_Mr    0.293414\n",
              "1           fare    0.261285\n",
              "0            age    0.255944\n",
              "9     pclass_3.0    0.078000\n",
              "2    family_size    0.022597\n",
              "13    title_rare    0.019619\n",
              "5     embarked_2    0.019072\n",
              "7     pclass_1.0    0.014560\n",
              "6            sex    0.009986\n",
              "14    is_alone_1    0.007210\n",
              "4     embarked_1    0.007192\n",
              "3     embarked_0    0.006808\n",
              "10  title_Master    0.002719\n",
              "8     pclass_2.0    0.001595\n",
              "12     title_Mrs    0.000000"
            ]
          },
          "execution_count": 48,
          "metadata": {},
          "output_type": "execute_result"
        }
      ],
      "source": [
        "# retrieving the RF Classifier from the model pipeline\n",
        "clf = rf_pipeline[-1]\n",
        "\n",
        "print(clf.feature_names_in_)\n",
        "clf.feature_names_in_[clf.feature_names_in_ == 'sex_1'] = 'sex'\n",
        "\n",
        "# making a pandas dataframe\n",
        "data = list(zip(clf.feature_names_in_, clf.feature_importances_))\n",
        "df_importances = pd.DataFrame(data,\n",
        "                              columns=['Feature', 'Importance']).sort_values(by='Importance', ascending=False)\n",
        "\n",
        "df_importances"
      ]
    },
    {
      "cell_type": "code",
      "execution_count": null,
      "id": "07060237-0d91-44b8-b08d-011a70a3ddfd",
      "metadata": {
        "tags": [],
        "id": "07060237-0d91-44b8-b08d-011a70a3ddfd",
        "outputId": "1c6c4995-d4d2-48d4-b6a3-59357a163bda"
      },
      "outputs": [
        {
          "data": {
            "image/png": "[encoded data removed]",
            "text/plain": [
              "<Figure size 640x480 with 1 Axes>"
            ]
          },
          "metadata": {},
          "output_type": "display_data"
        }
      ],
      "source": [
        "# Plot feature importance chart\n",
        "feat_imp_chart(get_top_5(clf.feature_importances_), get_top_5(clf.feature_names_in_), 'Top 5 Features by Importance')\n",
        "clf_before_prune = clf"
      ]
    },
    {
      "cell_type": "markdown",
      "id": "fe70dac6-ed5d-45a2-9d02-48e7d6eed355",
      "metadata": {
        "tags": [],
        "id": "fe70dac6-ed5d-45a2-9d02-48e7d6eed355"
      },
      "source": [
        "### Metrics <a class=\"anchor\" id=\"dt_metrics\"></a> <p style=\"text-align: right; color: blue; font-size: 15px\"> [Go to Main Menu](#toc) </p>"
      ]
    },
    {
      "cell_type": "code",
      "execution_count": null,
      "id": "09a4deb9-ac1c-43de-919b-1aa900de03cf",
      "metadata": {
        "tags": [],
        "id": "09a4deb9-ac1c-43de-919b-1aa900de03cf",
        "outputId": "66c12e1b-dd67-4058-992f-b0ec4d47a3bc"
      },
      "outputs": [
        {
          "name": "stdout",
          "output_type": "stream",
          "text": [
            "Train accuracy: 0.977\n",
            "Test accuracy: 0.789\n"
          ]
        }
      ],
      "source": [
        "X_preproc = rf_pipeline[:-1].transform(X_train)\n",
        "X_test_preproc = rf_pipeline[:-1].transform(X_test)\n",
        "\n",
        "X_preproc.rename({'sex_1':'sex'}, axis=1, inplace=True)\n",
        "X_test_preproc.rename({'sex_1':'sex'}, axis=1, inplace=True)\n",
        "\n",
        "print(f\"Train accuracy: {clf.score(X_preproc, y_train):.3f}\")\n",
        "print(f\"Test accuracy: {clf.score(X_test_preproc, y_test):.3f}\")"
      ]
    },
    {
      "cell_type": "markdown",
      "id": "aa43f015-32b9-456b-ae7b-97d28d429406",
      "metadata": {
        "tags": [],
        "id": "aa43f015-32b9-456b-ae7b-97d28d429406"
      },
      "source": [
        "### Observation\n",
        "Since the Train accuracy is much higher than the Test accuracy, it seems the model overfits the titanic dataset, we can further verify this using cross-validation."
      ]
    },
    {
      "cell_type": "markdown",
      "id": "56e150a5-1d50-4337-a6df-4d43c7b184cb",
      "metadata": {
        "tags": [],
        "id": "56e150a5-1d50-4337-a6df-4d43c7b184cb"
      },
      "source": [
        "#### Classification Report <a class=\"anchor\" id=\"dt_classification_report\"></a> <p style=\"text-align: right; color: blue; font-size: 15px\"> [Go to Main Menu](#toc) </p>"
      ]
    },
    {
      "cell_type": "code",
      "execution_count": null,
      "id": "be5962c8-6713-409b-bed4-d7cdb8d67870",
      "metadata": {
        "tags": [],
        "id": "be5962c8-6713-409b-bed4-d7cdb8d67870",
        "outputId": "b0ed75ae-5be5-4a4c-a342-475a02b81c21"
      },
      "outputs": [
        {
          "name": "stdout",
          "output_type": "stream",
          "text": [
            "Test time: 0.0016 secs\n",
            "\n",
            "\n",
            "              precision    recall  f1-score   support\n",
            "\n",
            "           0       0.81      0.86      0.83       243\n",
            "           1       0.74      0.68      0.71       150\n",
            "\n",
            "    accuracy                           0.79       393\n",
            "   macro avg       0.78      0.77      0.77       393\n",
            "weighted avg       0.79      0.79      0.79       393\n",
            "\n"
          ]
        }
      ],
      "source": [
        "cf_test_start_time = time.time()\n",
        "yhat = clf.predict(X_test_preproc)\n",
        "cf_test_end_time = time.time()\n",
        "\n",
        "print(\"Test time:\", round(cf_test_end_time - cf_test_start_time, 4), \"secs\\n\\n\")\n",
        "\n",
        "print(classification_report(y_test, yhat))"
      ]
    },
    {
      "cell_type": "markdown",
      "id": "ed982ff8-5da7-4580-a361-77b9df2485f2",
      "metadata": {
        "tags": [],
        "id": "ed982ff8-5da7-4580-a361-77b9df2485f2"
      },
      "source": [
        "#### Confusion Matrix <a class=\"anchor\" id=\"dt_confusion_matrix\"></a> <p style=\"text-align: right; color: blue; font-size: 15px\"> [Go to Main Menu](#toc) </p>"
      ]
    },
    {
      "cell_type": "code",
      "execution_count": null,
      "id": "4a7ceb6f-dddd-43ab-92e1-6b5de481e120",
      "metadata": {
        "tags": [],
        "id": "4a7ceb6f-dddd-43ab-92e1-6b5de481e120",
        "outputId": "b42b7d47-19fa-4560-c56a-e1fe14a1c0db"
      },
      "outputs": [
        {
          "data": {
            "image/png": "[encoded data removed]",
            "text/plain": [
              "<Figure size 640x480 with 2 Axes>"
            ]
          },
          "metadata": {},
          "output_type": "display_data"
        }
      ],
      "source": [
        "cm = confusion_matrix(y_test, yhat)\n",
        "cm_display = ConfusionMatrixDisplay(cm).plot()"
      ]
    },
    {
      "cell_type": "markdown",
      "id": "c121fc03-a34e-44ad-b6c2-6637ca32efdc",
      "metadata": {
        "tags": [],
        "id": "c121fc03-a34e-44ad-b6c2-6637ca32efdc"
      },
      "source": [
        "#### Tree Structure <a class=\"anchor\" id=\"tree_structure\"></a> <p style=\"text-align: right; color: blue; font-size: 15px\"> [Go to Main Menu](#toc) </p>"
      ]
    },
    {
      "cell_type": "code",
      "execution_count": null,
      "id": "bf061fa2-cf50-41a7-81d1-7b7bbc37df49",
      "metadata": {
        "tags": [],
        "id": "bf061fa2-cf50-41a7-81d1-7b7bbc37df49",
        "outputId": "06fa393d-9049-42fe-df24-e08c7818abb4"
      },
      "outputs": [
        {
          "data": {
            "image/png": "[encoded data removed]",
            "text/plain": [
              "<Figure size 640x480 with 1 Axes>"
            ]
          },
          "metadata": {},
          "output_type": "display_data"
        },
        {
          "name": "stdout",
          "output_type": "stream",
          "text": [
            "Decision Tree Depth: 24\n",
            "Decision Tree Node Count: 483\n"
          ]
        }
      ],
      "source": [
        "plot_tree(clf)\n",
        "plt.show()\n",
        "print(f\"Decision Tree Depth: {clf.get_depth()}\")\n",
        "print(f\"Decision Tree Node Count: {clf.tree_.node_count}\")"
      ]
    },
    {
      "cell_type": "markdown",
      "id": "b4863b30-9942-43ae-b7c9-777e2756b3c5",
      "metadata": {
        "tags": [],
        "id": "b4863b30-9942-43ae-b7c9-777e2756b3c5"
      },
      "source": [
        "### Tree Pruning <a class=\"anchor\" id=\"tree_pruning\"></a> <p style=\"text-align: right; color: blue; font-size: 15px\"> [Go to Main Menu](#toc) </p>"
      ]
    },
    {
      "cell_type": "code",
      "execution_count": null,
      "id": "7595460a-14fa-4cac-9619-29b4bad5506d",
      "metadata": {
        "tags": [],
        "id": "7595460a-14fa-4cac-9619-29b4bad5506d",
        "outputId": "7f058a15-d6e9-422a-e1aa-69647aea1471"
      },
      "outputs": [
        {
          "name": "stdout",
          "output_type": "stream",
          "text": [
            "Number of nodes in the last tree is: 1 with ccp_alpha: 0.1304406291254539\n"
          ]
        },
        {
          "data": {
            "image/png": "[encoded data removed]",
            "text/plain": [
              "<Figure size 640x480 with 1 Axes>"
            ]
          },
          "metadata": {},
          "output_type": "display_data"
        }
      ],
      "source": [
        "path = clf.cost_complexity_pruning_path(X_preproc,\n",
        "                                        y_train)\n",
        "ccp_alphas, impurities = path.ccp_alphas, path.impurities\n",
        "\n",
        "# Wee train a decision tree using the effective alphas. The last value\n",
        "# in ``ccp_alphas`` is the alpha value that prunes the whole tree,\n",
        "# leaving the tree, ``clfs[-1]``, with one node.\n",
        "clfs = []\n",
        "for ccp_alpha in ccp_alphas:\n",
        "    clf = DecisionTreeClassifier(random_state=117, ccp_alpha=ccp_alpha)\n",
        "    clf.fit(X_preproc,\n",
        "            y_train)\n",
        "    clfs.append(clf)\n",
        "print(\n",
        "    \"Number of nodes in the last tree is: {} with ccp_alpha: {}\".format(\n",
        "        clfs[-1].tree_.node_count, ccp_alphas[-1]\n",
        "    )\n",
        ")\n",
        "\n",
        "# We remove the last element in ``clfs`` and ``ccp_alphas``,\n",
        "# because it is the trivial tree with only one node.\n",
        "clfs = clfs[:-1]\n",
        "ccp_alphas = ccp_alphas[:-1]\n",
        "\n",
        "# Accuracy vs alpha for training and testing sets\n",
        "train_scores = [clf.score(X_preproc,\n",
        "                          y_train) for clf in clfs]\n",
        "test_scores = [clf.score(X_test_preproc,\n",
        "                         y_test) for clf in clfs]\n",
        "\n",
        "fig, ax = plt.subplots()\n",
        "ax.set_xlabel(\"alpha\")\n",
        "ax.set_ylabel(\"accuracy\")\n",
        "ax.set_title(\"Accuracy vs alpha for training and testing sets\")\n",
        "ax.plot(ccp_alphas, train_scores, marker='.', label=\"train\", drawstyle=\"steps-post\")\n",
        "ax.plot(ccp_alphas, test_scores, marker='.', label=\"test\", drawstyle=\"steps-post\")\n",
        "ax.legend()\n",
        "ax.grid()\n",
        "plt.tight_layout()\n",
        "plt.show()"
      ]
    },
    {
      "cell_type": "markdown",
      "id": "54e44323-227c-4e60-ae83-ce304aebc427",
      "metadata": {
        "tags": [],
        "id": "54e44323-227c-4e60-ae83-ce304aebc427"
      },
      "source": [
        "#### Retrain with Pruning <a class=\"anchor\" id=\"retrain_with_pruning\"></a> <p style=\"text-align: right; color: blue; font-size: 15px\"> [Go to Main Menu](#toc) </p>"
      ]
    },
    {
      "cell_type": "code",
      "execution_count": null,
      "id": "67e1bff5-ecdf-4ce7-a589-aa006f7fb893",
      "metadata": {
        "tags": [],
        "id": "67e1bff5-ecdf-4ce7-a589-aa006f7fb893",
        "outputId": "2f304e02-72a0-4d69-8ea4-ed022468544f"
      },
      "outputs": [
        {
          "name": "stdout",
          "output_type": "stream",
          "text": [
            "Training time: 0.0054 secs\n",
            "Train accuracy: 0.807\n",
            "Test accuracy: 0.807\n"
          ]
        }
      ],
      "source": [
        "clf_after_prune = DecisionTreeClassifier(random_state=117, ccp_alpha=0.01)\n",
        "\n",
        "cfp_train_start_time = time.time()\n",
        "clf_after_prune.fit(X_preproc, y_train)\n",
        "cfp_train_end_time = time.time()\n",
        "\n",
        "print(\"Training time:\", round(cfp_train_end_time-cfp_train_start_time, 4), \"secs\")\n",
        "\n",
        "print(f\"Train accuracy: {clf_after_prune.score(X_preproc, y_train):.3f}\")\n",
        "print(f\"Test accuracy: {clf_after_prune.score(X_test_preproc, y_test):.3f}\")"
      ]
    },
    {
      "cell_type": "markdown",
      "id": "faf9e640-8f55-4056-87c5-a6ea826e0387",
      "metadata": {
        "tags": [],
        "id": "faf9e640-8f55-4056-87c5-a6ea826e0387"
      },
      "source": [
        "### Metrics <a class=\"anchor\" id=\"rp_metrics\"></a> <p style=\"text-align: right; color: blue; font-size: 15px\"> [Go to Main Menu](#toc) </p>"
      ]
    },
    {
      "cell_type": "code",
      "execution_count": null,
      "id": "5f64857a-ab70-40cf-98d7-d6a9f273758f",
      "metadata": {
        "tags": [],
        "id": "5f64857a-ab70-40cf-98d7-d6a9f273758f",
        "outputId": "87d1342c-c76d-4883-c209-c3e047cc9846"
      },
      "outputs": [
        {
          "name": "stdout",
          "output_type": "stream",
          "text": [
            "Decision Tree Depth: 3\n",
            "Decision Tree Node Count: 7\n"
          ]
        }
      ],
      "source": [
        "print(f\"Decision Tree Depth: {clf_after_prune.get_depth()}\")\n",
        "print(f\"Decision Tree Node Count: {clf_after_prune.tree_.node_count}\")"
      ]
    },
    {
      "cell_type": "code",
      "execution_count": null,
      "id": "a4c88865-3fb7-4739-bafc-674e88aabc54",
      "metadata": {
        "tags": [],
        "id": "a4c88865-3fb7-4739-bafc-674e88aabc54",
        "outputId": "6ef2c1c4-91cf-40db-f84e-1fb85796ba79"
      },
      "outputs": [
        {
          "data": {
            "image/png": "[encoded data removed]",
            "text/plain": [
              "<Figure size 640x480 with 1 Axes>"
            ]
          },
          "metadata": {},
          "output_type": "display_data"
        }
      ],
      "source": [
        "plot_tree(clf_after_prune, feature_names=list(clf_after_prune.feature_names_in_), filled=True)\n",
        "plt.show()"
      ]
    },
    {
      "cell_type": "markdown",
      "id": "e901461a-c7f2-4c75-9233-e031551a7fce",
      "metadata": {
        "tags": [],
        "id": "e901461a-c7f2-4c75-9233-e031551a7fce"
      },
      "source": [
        "#### Classification Report <a class=\"anchor\" id=\"rp_classification_report\"></a> <p style=\"text-align: right; color: blue; font-size: 15px\"> [Go to Main Menu](#toc) </p>"
      ]
    },
    {
      "cell_type": "code",
      "execution_count": null,
      "id": "cd1a0185-9ddc-43d5-b121-e74035e27a52",
      "metadata": {
        "tags": [],
        "id": "cd1a0185-9ddc-43d5-b121-e74035e27a52",
        "outputId": "8bd87bb3-a6d5-4417-c19c-e8df8889c4cf"
      },
      "outputs": [
        {
          "name": "stdout",
          "output_type": "stream",
          "text": [
            "Testing time: 0.0007 secs\n",
            "\n",
            "\n",
            "              precision    recall  f1-score   support\n",
            "\n",
            "           0       0.62      1.00      0.76       243\n",
            "           1       0.00      0.00      0.00       150\n",
            "\n",
            "    accuracy                           0.62       393\n",
            "   macro avg       0.31      0.50      0.38       393\n",
            "weighted avg       0.38      0.62      0.47       393\n",
            "\n"
          ]
        }
      ],
      "source": [
        "cfp_test_start_time = time.time()\n",
        "yhat_after_prune = clf.predict(X_test_preproc)\n",
        "cfp_test_end_time = time.time()\n",
        "\n",
        "print(\"Testing time:\", round(cfp_test_end_time-cfp_test_start_time, 4), \"secs\\n\\n\")\n",
        "\n",
        "print(classification_report(y_test, yhat_after_prune))"
      ]
    },
    {
      "cell_type": "markdown",
      "id": "b47fe65c-79be-470b-a2b8-0ca40533cdcd",
      "metadata": {
        "tags": [],
        "id": "b47fe65c-79be-470b-a2b8-0ca40533cdcd"
      },
      "source": [
        "#### Confusion Matrix <a class=\"anchor\" id=\"rp_confusion_matrix\"></a> <p style=\"text-align: right; color: blue; font-size: 15px\"> [Go to Main Menu](#toc) </p>"
      ]
    },
    {
      "cell_type": "code",
      "execution_count": null,
      "id": "a6bc81f3-426c-4c18-af30-3df1073b80c9",
      "metadata": {
        "tags": [],
        "id": "a6bc81f3-426c-4c18-af30-3df1073b80c9",
        "outputId": "ec65ad70-7292-45c0-9fb8-1bc52daa08c5"
      },
      "outputs": [
        {
          "data": {
            "image/png": "[encoded data removed]",
            "text/plain": [
              "<Figure size 640x480 with 2 Axes>"
            ]
          },
          "metadata": {},
          "output_type": "display_data"
        }
      ],
      "source": [
        "cm = confusion_matrix(y_test, yhat_after_prune)\n",
        "cm_display = ConfusionMatrixDisplay(cm).plot()"
      ]
    },
    {
      "cell_type": "markdown",
      "id": "5e66a730-e90f-440d-a194-f7a96fd8436e",
      "metadata": {
        "tags": [],
        "id": "5e66a730-e90f-440d-a194-f7a96fd8436e"
      },
      "source": [
        "#### Feature Importance <a class=\"anchor\" id=\"rp_feature_imp\"></a> <p style=\"text-align: right; color: blue; font-size: 15px\"> [Go to Main Menu](#toc) </p>"
      ]
    },
    {
      "cell_type": "code",
      "execution_count": null,
      "id": "347866cb-00cf-43b6-bc91-99044cf166bf",
      "metadata": {
        "tags": [],
        "id": "347866cb-00cf-43b6-bc91-99044cf166bf",
        "outputId": "44e34508-ff56-4f3b-ca29-62ea81a6b55d"
      },
      "outputs": [
        {
          "data": {
            "image/png": "[encoded data removed]",
            "text/plain": [
              "<Figure size 640x480 with 1 Axes>"
            ]
          },
          "metadata": {},
          "output_type": "display_data"
        }
      ],
      "source": [
        "# Plot feature importance chart\n",
        "feat_imp_chart(get_top_5(clf_after_prune.feature_importances_),\n",
        "               get_top_5(clf_after_prune.feature_names_in_),\n",
        "               'Top 5 Features by Importance (Post-Pruning)')"
      ]
    },
    {
      "cell_type": "markdown",
      "id": "5f39a67a-3a06-40dc-9772-b0516c961049",
      "metadata": {
        "tags": [],
        "id": "5f39a67a-3a06-40dc-9772-b0516c961049"
      },
      "source": [
        "### Hyper-parameters tuning <a class=\"anchor\" id=\"hyper_params_tuning\"></a> <p style=\"text-align: right; color: blue; font-size: 15px\"> [Go to Main Menu](#toc) </p>"
      ]
    },
    {
      "cell_type": "code",
      "execution_count": null,
      "id": "59e73001-3eb0-478a-9075-c81fe916f78b",
      "metadata": {
        "tags": [],
        "id": "59e73001-3eb0-478a-9075-c81fe916f78b",
        "outputId": "9b558acb-73e2-4684-8738-b3eb6ca6c747"
      },
      "outputs": [
        {
          "name": "stdout",
          "output_type": "stream",
          "text": [
            "Best Criterion: gini\n",
            "Best max_depth: 10\n",
            "Min samples split: 8\n",
            "Min samples leaf: 2\n",
            "Best splitter: random\n",
            "\n",
            "Best score: 0.8056901876930386\n"
          ]
        }
      ],
      "source": [
        "# List of hyper-parameters supported by decision tree\n",
        "# 'ccp_alpha', 'class_weight', 'criterion', 'max_depth', 'max_features', 'max_leaf_nodes',\n",
        "# 'min_impurity_decrease', 'min_samples_leaf', 'min_samples_split', 'min_weight_fraction_leaf',\n",
        "# 'random_state', 'splitter'\n",
        "\n",
        "dtree_reg = DecisionTreeRegressor(random_state=123) # Initialize a decision tree regressor\n",
        "\n",
        "# Define the parameter grid to tune the hyperparameters\n",
        "param_grid = {\n",
        "    'criterion': ['gini', 'entropy'],\n",
        "    'max_depth': [2,4,6,8,10,12, 20, 30, None],\n",
        "    'min_samples_split': np.arange(1, 10, 1),\n",
        "    'min_samples_leaf': np.arange(1, 10, 1),\n",
        "    'splitter':[\"best\",\"random\"]\n",
        "}\n",
        "\n",
        "clf_GS = GridSearchCV(rf_pipeline[-1], param_grid)\n",
        "clf_GS.fit(X_preproc, y_train)\n",
        "\n",
        "best_dtree_reg = clf_GS.best_estimator_ # Get the best estimator from the grid search\n",
        "\n",
        "y_pred = best_dtree_reg.predict(X_test_preproc)\n",
        "\n",
        "print('Best Criterion:', clf_GS.best_estimator_.get_params()['criterion'])\n",
        "print('Best max_depth:', clf_GS.best_estimator_.get_params()['max_depth'])\n",
        "print('Min samples split:', clf_GS.best_estimator_.get_params()['min_samples_split'])\n",
        "print('Min samples leaf:', clf_GS.best_estimator_.get_params()['min_samples_leaf'])\n",
        "print('Best splitter:', clf_GS.best_estimator_.get_params()['splitter'])\n",
        "\n",
        "print(f\"\\nBest score:\", clf_GS.best_score_)"
      ]
    },
    {
      "cell_type": "markdown",
      "id": "c2f9e838-7596-4513-a8e8-320a5e8230b4",
      "metadata": {
        "tags": [],
        "id": "c2f9e838-7596-4513-a8e8-320a5e8230b4"
      },
      "source": [
        "### Retrain with Hyper-parameters Tuned <a class=\"anchor\" id=\"hp_tuned_retrain\"></a> <p style=\"text-align: right; color: blue; font-size: 15px\"> [Go to Main Menu](#toc) </p>"
      ]
    },
    {
      "cell_type": "code",
      "execution_count": null,
      "id": "f13eca30-dad6-4914-97cc-cdbb8a522eaa",
      "metadata": {
        "tags": [],
        "id": "f13eca30-dad6-4914-97cc-cdbb8a522eaa"
      },
      "outputs": [],
      "source": [
        "tuned_hyper_model = DecisionTreeClassifier(\n",
        "                       criterion=str(clf_GS.best_estimator_.get_params()['criterion']),\n",
        "                       max_depth=clf_GS.best_estimator_.get_params()['max_depth'],\n",
        "                       min_samples_leaf=clf_GS.best_estimator_.get_params()['min_samples_leaf'],\n",
        "                       min_samples_split=clf_GS.best_estimator_.get_params()['min_samples_split'],\n",
        "                       splitter=str(clf_GS.best_estimator_.get_params()['splitter']),\n",
        "                       random_state=123)"
      ]
    },
    {
      "cell_type": "code",
      "execution_count": null,
      "id": "3e816758-5542-4740-9260-ec76fa6e35dc",
      "metadata": {
        "tags": [],
        "id": "3e816758-5542-4740-9260-ec76fa6e35dc"
      },
      "outputs": [],
      "source": [
        "# fitting model\n",
        "tuned_hyper_model.fit(X_preproc, y_train)\n",
        "\n",
        "# prediction\n",
        "tuned_pred=tuned_hyper_model.predict(X_test_preproc)"
      ]
    },
    {
      "cell_type": "markdown",
      "id": "12c3c6d9-868e-4409-81f1-170351f10363",
      "metadata": {
        "tags": [],
        "id": "12c3c6d9-868e-4409-81f1-170351f10363"
      },
      "source": [
        "#### Metrics <a class=\"anchor\" id=\"hp_tuned_metrics\"></a> <p style=\"text-align: right; color: blue; font-size: 15px\"> [Go to Main Menu](#toc) </p>"
      ]
    },
    {
      "cell_type": "markdown",
      "id": "2166d052-3bd1-42cf-ae53-3654e74b307b",
      "metadata": {
        "tags": [],
        "id": "2166d052-3bd1-42cf-ae53-3654e74b307b"
      },
      "source": [
        "#### Comfusion Matrix <a class=\"anchor\" id=\"hp_confusion_matrix\"></a> <p style=\"text-align: right; color: blue; font-size: 15px\"> [Go to Main Menu](#toc) </p>"
      ]
    },
    {
      "cell_type": "code",
      "execution_count": null,
      "id": "00a5d068-f4da-4209-ae6f-99f66f589c4e",
      "metadata": {
        "tags": [],
        "id": "00a5d068-f4da-4209-ae6f-99f66f589c4e",
        "outputId": "d9be9ebb-df8a-4cd2-c69d-bce5d3efc5f7"
      },
      "outputs": [
        {
          "data": {
            "text/plain": [
              "<sklearn.metrics._plot.confusion_matrix.ConfusionMatrixDisplay at 0x14916eb90>"
            ]
          },
          "execution_count": 79,
          "metadata": {},
          "output_type": "execute_result"
        },
        {
          "data": {
            "image/png": "[encoded data removed]",
            "text/plain": [
              "<Figure size 640x480 with 2 Axes>"
            ]
          },
          "metadata": {},
          "output_type": "display_data"
        }
      ],
      "source": [
        "# Plot Confusion Matrix after model hyper parameters tuning\n",
        "ConfusionMatrixDisplay(confusion_matrix(y_test, tuned_pred)).plot()"
      ]
    },
    {
      "cell_type": "markdown",
      "id": "70cc5963-b1e0-40f1-80e6-5018c80672e4",
      "metadata": {
        "tags": [],
        "id": "70cc5963-b1e0-40f1-80e6-5018c80672e4"
      },
      "source": [
        "## Random Forest <a class=\"anchor\" id=\"random_forest\"></a> <p style=\"text-align: right; color: blue; font-size: 15px\"> [Go to Main Menu](#toc) </p>"
      ]
    },
    {
      "cell_type": "code",
      "execution_count": null,
      "id": "846e719f-f99b-4ab1-a956-2167b70c9999",
      "metadata": {
        "tags": [],
        "id": "846e719f-f99b-4ab1-a956-2167b70c9999",
        "outputId": "3fc07466-2093-476d-c660-5815c240a6e1"
      },
      "outputs": [
        {
          "name": "stdout",
          "output_type": "stream",
          "text": [
            "Training time: 0.0748 secs\n",
            "Train accuracy: 0.977\n",
            "Test accuracy: 0.779\n"
          ]
        }
      ],
      "source": [
        "# Build the Random Forest model\n",
        "rf = RandomForestClassifier(random_state=117)\n",
        "\n",
        "rf_train_start_time = time.time()\n",
        "\n",
        "rf.fit(X_preproc, y_train)\n",
        "\n",
        "rf_train_end_time = time.time()\n",
        "\n",
        "print(\"Training time:\", round(rf_train_end_time - rf_train_start_time, 4), \"secs\")\n",
        "\n",
        "print(f\"Train accuracy: {rf.score(X_preproc, y_train):.3f}\")\n",
        "print(f\"Test accuracy: {rf.score(X_test_preproc, y_test):.3f}\")"
      ]
    },
    {
      "cell_type": "markdown",
      "id": "47143166-31a7-4bff-b963-7fe168104123",
      "metadata": {
        "tags": [],
        "id": "47143166-31a7-4bff-b963-7fe168104123"
      },
      "source": [
        "### Metrics <a class=\"anchor\" id=\"rf_metrics\"></a> <p style=\"text-align: right; color: blue; font-size: 15px\"> [Go to Main Menu](#toc) </p>"
      ]
    },
    {
      "cell_type": "markdown",
      "id": "aaa17bc6-91a3-4961-ad63-887dac78a68b",
      "metadata": {
        "tags": [],
        "id": "aaa17bc6-91a3-4961-ad63-887dac78a68b"
      },
      "source": [
        "#### Classification Report <a class=\"anchor\" id=\"rf_classification_report\"></a> <p style=\"text-align: right; color: blue; font-size: 15px\"> [Go to Main Menu](#toc) </p>"
      ]
    },
    {
      "cell_type": "code",
      "execution_count": null,
      "id": "1a04cb61-330e-483a-8bf3-bce527f095bf",
      "metadata": {
        "tags": [],
        "id": "1a04cb61-330e-483a-8bf3-bce527f095bf",
        "outputId": "6e75a5af-eb2b-4c19-badc-46176c9bbb19"
      },
      "outputs": [
        {
          "name": "stdout",
          "output_type": "stream",
          "text": [
            "Testing time: 0.0094 secs\n",
            "\n",
            "\n",
            "              precision    recall  f1-score   support\n",
            "\n",
            "           0       0.81      0.84      0.82       243\n",
            "           1       0.73      0.67      0.70       150\n",
            "\n",
            "    accuracy                           0.78       393\n",
            "   macro avg       0.77      0.76      0.76       393\n",
            "weighted avg       0.78      0.78      0.78       393\n",
            "\n"
          ]
        }
      ],
      "source": [
        "rf_test_start_time = time.time()\n",
        "\n",
        "yhat = rf.predict(X_test_preproc)\n",
        "\n",
        "rf_test_end_time = time.time()\n",
        "\n",
        "print(\"Testing time:\", round(rf_test_end_time - rf_test_start_time, 4), \"secs\\n\\n\")\n",
        "\n",
        "print(classification_report(y_test, yhat))"
      ]
    },
    {
      "cell_type": "markdown",
      "id": "29ea271e-0bed-4ab2-b4e7-371d95b6af0a",
      "metadata": {
        "tags": [],
        "id": "29ea271e-0bed-4ab2-b4e7-371d95b6af0a"
      },
      "source": [
        "#### Confusion Matrix <a class=\"anchor\" id=\"rf_confusion_matrix\"></a> <p style=\"text-align: right; color: blue; font-size: 15px\"> [Go to Main Menu](#toc) </p>"
      ]
    },
    {
      "cell_type": "code",
      "execution_count": null,
      "id": "6defdf56-384f-4fe5-922d-637f2403d872",
      "metadata": {
        "tags": [],
        "id": "6defdf56-384f-4fe5-922d-637f2403d872",
        "outputId": "c5e508c3-ee5e-42ca-a10d-14ca4cb626af"
      },
      "outputs": [
        {
          "data": {
            "image/png": "[encoded data removed]",
            "text/plain": [
              "<Figure size 640x480 with 2 Axes>"
            ]
          },
          "metadata": {},
          "output_type": "display_data"
        }
      ],
      "source": [
        "cm = confusion_matrix(y_test, yhat)\n",
        "cm_display = ConfusionMatrixDisplay(cm).plot()"
      ]
    },
    {
      "cell_type": "markdown",
      "id": "49b00c51-754e-4520-b2f9-a58b617768c5",
      "metadata": {
        "tags": [],
        "id": "49b00c51-754e-4520-b2f9-a58b617768c5"
      },
      "source": [
        "### Feature Importance <a class=\"anchor\" id=\"rf_feature_imp\"></a> <p style=\"text-align: right; color: blue; font-size: 15px\"> [Go to Main Menu](#toc) </p>"
      ]
    },
    {
      "cell_type": "code",
      "execution_count": null,
      "id": "d5d3a1de-28ba-4e35-9ba3-263b23019bbf",
      "metadata": {
        "tags": [],
        "id": "d5d3a1de-28ba-4e35-9ba3-263b23019bbf",
        "outputId": "18bfe5fa-f6cf-44f9-b55b-f4e7b8bb2eec"
      },
      "outputs": [
        {
          "data": {
            "image/png": "[encoded data removed]",
            "text/plain": [
              "<Figure size 640x480 with 1 Axes>"
            ]
          },
          "metadata": {},
          "output_type": "display_data"
        }
      ],
      "source": [
        "# feature importances\n",
        "importances = pd.Series(\n",
        "    rf.feature_importances_, index=X_preproc.columns\n",
        ").sort_values(ascending=True).plot.barh()\n",
        "plt.title('Feature Importances (Random Forest)')\n",
        "plt.show()"
      ]
    },
    {
      "cell_type": "markdown",
      "id": "acc09ca2-9644-4237-80aa-437522fa9aa9",
      "metadata": {
        "tags": [],
        "id": "acc09ca2-9644-4237-80aa-437522fa9aa9"
      },
      "source": [
        "### Gradient Boosting <a class=\"anchor\" id=\"gradiet_boosting\"></a> <p style=\"text-align: right; color: blue; font-size: 15px\"> [Go to Main Menu](#toc) </p>"
      ]
    },
    {
      "cell_type": "code",
      "execution_count": null,
      "id": "77ddc485-d760-448f-8bad-c373f6add01b",
      "metadata": {
        "tags": [],
        "id": "77ddc485-d760-448f-8bad-c373f6add01b",
        "outputId": "8a4eef64-4455-4487-a204-b7efdd0d0be2"
      },
      "outputs": [
        {
          "name": "stdout",
          "output_type": "stream",
          "text": [
            "Training time: 0.0683 secs\n",
            "Train accuracy: 0.873\n",
            "Test accuracy: 0.817\n"
          ]
        }
      ],
      "source": [
        "# Build the Gradient Boosting model\n",
        "gb = GradientBoostingClassifier(random_state=117)\n",
        "\n",
        "gb_train_start_time = time.time()\n",
        "\n",
        "gb.fit(X_preproc, y_train)\n",
        "\n",
        "gb_train_end_time = time.time()\n",
        "\n",
        "print(\"Training time:\", round(gb_train_end_time-gb_train_start_time, 4), \"secs\")\n",
        "\n",
        "print(f\"Train accuracy: {gb.score(X_preproc, y_train):.3f}\")\n",
        "print(f\"Test accuracy: {gb.score(X_test_preproc, y_test):.3f}\")"
      ]
    },
    {
      "cell_type": "markdown",
      "id": "804de5dc-e587-46ea-8404-98e8f139bb10",
      "metadata": {
        "tags": [],
        "id": "804de5dc-e587-46ea-8404-98e8f139bb10"
      },
      "source": [
        "### Metrics <a class=\"anchor\" id=\"gb_metrics\"></a> <p style=\"text-align: right; color: blue; font-size: 15px\"> [Go to Main Menu](#toc) </p>"
      ]
    },
    {
      "cell_type": "markdown",
      "id": "c387e128-d4e7-4db7-a776-6efe14e2479b",
      "metadata": {
        "tags": [],
        "id": "c387e128-d4e7-4db7-a776-6efe14e2479b"
      },
      "source": [
        "### Classification Report <a class=\"anchor\" id=\"gb_classification_report\"></a> <p style=\"text-align: right; color: blue; font-size: 15px\"> [Go to Main Menu](#toc) </p>"
      ]
    },
    {
      "cell_type": "code",
      "execution_count": null,
      "id": "0d2c23c7-ad34-46d1-aa04-fa545114ddd3",
      "metadata": {
        "tags": [],
        "id": "0d2c23c7-ad34-46d1-aa04-fa545114ddd3",
        "outputId": "70eac19a-3e11-4427-e131-53dbbd272d5f"
      },
      "outputs": [
        {
          "name": "stdout",
          "output_type": "stream",
          "text": [
            "Testing time: 0.0022 secs\n",
            "\n",
            "\n",
            "              precision    recall  f1-score   support\n",
            "\n",
            "           0       0.83      0.88      0.86       243\n",
            "           1       0.79      0.71      0.75       150\n",
            "\n",
            "    accuracy                           0.82       393\n",
            "   macro avg       0.81      0.80      0.80       393\n",
            "weighted avg       0.82      0.82      0.81       393\n",
            "\n"
          ]
        }
      ],
      "source": [
        "gb_test_start_time = time.time()\n",
        "\n",
        "yhat = gb.predict(X_test_preproc)\n",
        "\n",
        "gb_test_end_time = time.time()\n",
        "\n",
        "print(\"Testing time:\", round(gb_test_end_time - gb_test_start_time, 4), \"secs\\n\\n\")\n",
        "\n",
        "print(classification_report(y_test, yhat))"
      ]
    },
    {
      "cell_type": "markdown",
      "id": "a49c4d0a-528b-4c19-b222-599ca6061bb9",
      "metadata": {
        "tags": [],
        "id": "a49c4d0a-528b-4c19-b222-599ca6061bb9"
      },
      "source": [
        "### Confusion Matrix <a class=\"anchor\" id=\"gb_confusion_matrix\"></a> <p style=\"text-align: right; color: blue; font-size: 15px\"> [Go to Main Menu](#toc) </p>"
      ]
    },
    {
      "cell_type": "code",
      "execution_count": null,
      "id": "1aa6f02b-42aa-4365-87c7-0ddcb7c1d999",
      "metadata": {
        "tags": [],
        "id": "1aa6f02b-42aa-4365-87c7-0ddcb7c1d999",
        "outputId": "4ef46909-932b-4943-eaf6-1f3cb6a206b3"
      },
      "outputs": [
        {
          "data": {
            "image/png": "[encoded data removed]",
            "text/plain": [
              "<Figure size 640x480 with 2 Axes>"
            ]
          },
          "metadata": {},
          "output_type": "display_data"
        }
      ],
      "source": [
        "cm = confusion_matrix(y_test, yhat)\n",
        "cm_display = ConfusionMatrixDisplay(cm).plot()"
      ]
    },
    {
      "cell_type": "markdown",
      "id": "dd581ec1-0408-4211-9b11-af0f2cf6aaee",
      "metadata": {
        "tags": [],
        "id": "dd581ec1-0408-4211-9b11-af0f2cf6aaee"
      },
      "source": [
        "### Feature Importance <a class=\"anchor\" id=\"gb_feature_importance\"></a> <p style=\"text-align: right; color: blue; font-size: 15px\"> [Go to Main Menu](#toc) </p>"
      ]
    },
    {
      "cell_type": "code",
      "execution_count": null,
      "id": "1c6a4818-5e8f-4f7a-91da-154ca5de659e",
      "metadata": {
        "tags": [],
        "id": "1c6a4818-5e8f-4f7a-91da-154ca5de659e",
        "outputId": "14fc6955-b308-40a5-c816-a69bab6e6bb8"
      },
      "outputs": [
        {
          "data": {
            "image/png": "[encoded data removed]",
            "text/plain": [
              "<Figure size 640x480 with 1 Axes>"
            ]
          },
          "metadata": {},
          "output_type": "display_data"
        }
      ],
      "source": [
        "# feature importances\n",
        "importances = pd.Series(\n",
        "    gb.feature_importances_, index=X_preproc.columns\n",
        ").sort_values(ascending=True).plot.barh()\n",
        "plt.title('Feature Importances (Gradient Boosting)')\n",
        "plt.show()"
      ]
    },
    {
      "cell_type": "markdown",
      "id": "2542fa61-b57c-408d-b896-b14e55d43b4b",
      "metadata": {
        "tags": [],
        "id": "2542fa61-b57c-408d-b896-b14e55d43b4b"
      },
      "source": [
        "### AdaBoost <a class=\"anchor\" id=\"AdaBoost\"></a> <p style=\"text-align: right; color: blue; font-size: 15px\"> [Go to Main Menu](#toc) </p>"
      ]
    },
    {
      "cell_type": "code",
      "execution_count": null,
      "id": "a333ca50-4714-4a09-8f59-2c2fc13f366c",
      "metadata": {
        "tags": [],
        "id": "a333ca50-4714-4a09-8f59-2c2fc13f366c",
        "outputId": "4b19c260-eeab-4d10-867c-e3fc4cbbe30d"
      },
      "outputs": [
        {
          "name": "stdout",
          "output_type": "stream",
          "text": [
            "Training time: 0.049 secs\n",
            "Train accuracy: 0.812\n",
            "Test accuracy: 0.812\n"
          ]
        }
      ],
      "source": [
        "# Build the AdaBoost model\n",
        "ada = AdaBoostClassifier(algorithm=\"SAMME\", random_state=117)\n",
        "\n",
        "ab_train_start_time = time.time()\n",
        "\n",
        "ada.fit(X_preproc, y_train)\n",
        "\n",
        "ab_train_end_time = time.time()\n",
        "\n",
        "print(\"Training time:\", round(ab_train_end_time - ab_train_start_time, 4), \"secs\")\n",
        "\n",
        "print(f\"Train accuracy: {ada.score(X_preproc, y_train):.3f}\")\n",
        "print(f\"Test accuracy: {ada.score(X_test_preproc, y_test):.3f}\")"
      ]
    },
    {
      "cell_type": "markdown",
      "id": "3f171f0b-88dc-48b1-bfcc-a52aefca0afd",
      "metadata": {
        "tags": [],
        "id": "3f171f0b-88dc-48b1-bfcc-a52aefca0afd"
      },
      "source": [
        "### Metrics <a class=\"anchor\" id=\"AB_metrics\"></a> <p style=\"text-align: right; color: blue; font-size: 15px\"> [Go to Main Menu](#toc) </p>"
      ]
    },
    {
      "cell_type": "markdown",
      "id": "c5fa8bc2-9b19-4397-b639-ef1de6f97978",
      "metadata": {
        "tags": [],
        "id": "c5fa8bc2-9b19-4397-b639-ef1de6f97978"
      },
      "source": [
        "### Classification Report <a class=\"anchor\" id=\"AB_classification_report\"></a> <p style=\"text-align: right; color: blue; font-size: 15px\"> [Go to Main Menu](#toc) </p>"
      ]
    },
    {
      "cell_type": "code",
      "execution_count": null,
      "id": "80774351-c04a-4995-adc8-16686cf7609f",
      "metadata": {
        "tags": [],
        "id": "80774351-c04a-4995-adc8-16686cf7609f",
        "outputId": "4704126b-6ee3-4eb5-e221-dd1355c98c72"
      },
      "outputs": [
        {
          "name": "stdout",
          "output_type": "stream",
          "text": [
            "Testing time: 0.0072 secs\n",
            "\n",
            "\n",
            "              precision    recall  f1-score   support\n",
            "\n",
            "           0       0.86      0.83      0.85       243\n",
            "           1       0.74      0.78      0.76       150\n",
            "\n",
            "    accuracy                           0.81       393\n",
            "   macro avg       0.80      0.81      0.80       393\n",
            "weighted avg       0.81      0.81      0.81       393\n",
            "\n"
          ]
        }
      ],
      "source": [
        "ab_test_start_time = time.time()\n",
        "\n",
        "yhat = ada.predict(X_test_preproc)\n",
        "\n",
        "ab_test_end_time = time.time()\n",
        "\n",
        "print(\"Testing time:\", round(ab_test_end_time - ab_test_start_time, 4), \"secs\\n\\n\")\n",
        "\n",
        "print(classification_report(y_test, yhat))"
      ]
    },
    {
      "cell_type": "markdown",
      "id": "6f565c0d-6f76-4b6b-b53f-d631e251a2e0",
      "metadata": {
        "tags": [],
        "id": "6f565c0d-6f76-4b6b-b53f-d631e251a2e0"
      },
      "source": [
        "### Confusion Matrix <a class=\"anchor\" id=\"AB_confusion_matrix\"></a> <p style=\"text-align: right; color: blue; font-size: 15px\"> [Go to Main Menu](#toc) </p>"
      ]
    },
    {
      "cell_type": "code",
      "execution_count": null,
      "id": "b7859ea3-09d8-458b-8088-0eb3016841b2",
      "metadata": {
        "tags": [],
        "id": "b7859ea3-09d8-458b-8088-0eb3016841b2",
        "outputId": "2eb13fc1-2d9d-489e-9ace-8396c76d4f77"
      },
      "outputs": [
        {
          "data": {
            "image/png": "[encoded data removed]",
            "text/plain": [
              "<Figure size 640x480 with 2 Axes>"
            ]
          },
          "metadata": {},
          "output_type": "display_data"
        }
      ],
      "source": [
        "cm = confusion_matrix(y_test, yhat)\n",
        "cm_display = ConfusionMatrixDisplay(cm).plot()"
      ]
    },
    {
      "cell_type": "markdown",
      "id": "c53040a4-46ae-4fdb-bd50-fa52565a9f15",
      "metadata": {
        "tags": [],
        "id": "c53040a4-46ae-4fdb-bd50-fa52565a9f15"
      },
      "source": [
        "### Feature Importance <a class=\"anchor\" id=\"AB_feature_importance\"></a> <p style=\"text-align: right; color: blue; font-size: 15px\"> [Go to Main Menu](#toc) </p>"
      ]
    },
    {
      "cell_type": "code",
      "execution_count": null,
      "id": "78fa94f4-35c0-4d5c-8d7d-0378bcdaae2a",
      "metadata": {
        "tags": [],
        "id": "78fa94f4-35c0-4d5c-8d7d-0378bcdaae2a",
        "outputId": "650f3949-af79-4f22-956c-a5e5369f3c2b"
      },
      "outputs": [
        {
          "data": {
            "image/png": "[encoded data removed]",
            "text/plain": [
              "<Figure size 640x480 with 1 Axes>"
            ]
          },
          "metadata": {},
          "output_type": "display_data"
        }
      ],
      "source": [
        "# feature importances\n",
        "importances = pd.Series(\n",
        "    ada.feature_importances_, index=X_preproc.columns\n",
        ").sort_values(ascending=True).plot.barh()\n",
        "plt.title('Feature Importances (AdaBoost)')\n",
        "plt.show()"
      ]
    },
    {
      "cell_type": "markdown",
      "id": "4b88bde7-ca47-4571-a0a2-e208fa89ef9a",
      "metadata": {
        "id": "4b88bde7-ca47-4571-a0a2-e208fa89ef9a"
      },
      "source": [
        "## Models Comparison <a class=\"anchor\" id=\"models_comparison\"></a> <p style=\"text-align: right; color: blue; font-size: 15px\"> [Go to Main Menu](#toc) </p>"
      ]
    },
    {
      "cell_type": "markdown",
      "id": "a247f75e-75b9-4ebc-b531-d773600a38ef",
      "metadata": {
        "tags": [],
        "id": "a247f75e-75b9-4ebc-b531-d773600a38ef"
      },
      "source": [
        "<table style=\"height: 475px; width: 1087.5px;\">\n",
        "<tbody>\n",
        "<tr>\n",
        "<td style=\"width: 117px; text-align: center;\"><strong>Algorithm</strong></td>\n",
        "<td style=\"width: 197px; text-align: center;\"><strong>Metrics</strong></td>\n",
        "<td style=\"width: 376px; text-align: center;\"><strong>Classification Report</strong></td>\n",
        "<td style=\"width: 289.5px; text-align: center;\"><strong>Confusion Matrix</strong></td>\n",
        "</tr>\n",
        "<tr>\n",
        "<td style=\"width: 117px;\"><strong>Decision Tree without pruning</strong></td>\n",
        "<td style=\"width: 197px;\">&nbsp;\n",
        "<pre>Testing time: 0.0017 secs</pre>\n",
        "<pre>Train accuracy: 0.977 <br />Test accuracy: 0.789</pre>\n",
        "</td>\n",
        "<td style=\"width: 376px;\">\n",
        "\n",
        "![dt_cr](dt_cr.png)\n",
        "\n",
        "</td>\n",
        "<td style=\"width: 289.5px;\">\n",
        "\n",
        "![dt_cm](dt_cm.png)\n",
        "    \n",
        "</td>\n",
        "</tr>\n",
        "<tr>\n",
        "<td style=\"width: 117px;\"><strong>Decision Tree with pruning</strong></td>\n",
        "<td style=\"width: 197px;\">\n",
        "<pre>Training time: 0.006 secs</pre>\n",
        "<pre>Testing time: 0.0011 secs<br /><br /></pre>\n",
        "<pre>Train accuracy: 0.807 <br />Test accuracy: 0.807</pre>\n",
        "&nbsp;</td>\n",
        "<td style=\"width: 376px;\">\n",
        "    \n",
        "![dtp_cr](dtp_cr.png)\n",
        "    \n",
        "</td>\n",
        "<td style=\"width: 289.5px;\">\n",
        "\n",
        "![dtp_cm](dtp_cm.png)\n",
        "    \n",
        "</td>\n",
        "</tr>\n",
        "<tr>\n",
        "<td style=\"width: 117px;\"><strong>Random Forest</strong></td>\n",
        "<td style=\"width: 197px;\">&nbsp;\n",
        "<pre>Training time: 0.1135 secs</pre>\n",
        "<pre>Testing time: 0.0127 secs</pre>\n",
        "<pre>Train accuracy: 0.977 <br />Test accuracy: 0.779</pre>\n",
        "</td>\n",
        "<td style=\"width: 376px;\">\n",
        "\n",
        "![rf_cr](rf_cr.png)\n",
        "\n",
        "</td>\n",
        "<td style=\"width: 289.5px;\">\n",
        "    \n",
        "![rf_cm](rf_cm.png)    \n",
        "    \n",
        "</td>\n",
        "</tr>\n",
        "<tr>\n",
        "<td style=\"width: 117px;\"><strong>Gradient Boosted</strong></td>\n",
        "<td style=\"width: 197px;\">&nbsp;\n",
        "<pre>Training time: 0.1109 secs</pre>\n",
        "<pre>Testing time: 0.0025 secs</pre>\n",
        "<pre>Train accuracy: 0.873\n",
        "Test accuracy: 0.817</pre>\n",
        "</td>\n",
        "<td style=\"width: 376px;\">\n",
        "    \n",
        "![gb_cr](gb_cr.png)    \n",
        "    \n",
        "</td>\n",
        "<td style=\"width: 289.5px;\">\n",
        "    \n",
        "![gb_cm](gb_cm.png)    \n",
        "    \n",
        "</td>\n",
        "</tr>\n",
        "<tr>\n",
        "<td style=\"width: 117px;\"><strong>Adaboost</strong></td>\n",
        "<td style=\"width: 197px;\">&nbsp;\n",
        "<pre>Training time: 0.082 secs</pre>\n",
        "<pre>Testing time: 0.012 secs</pre>\n",
        "<pre>Train accuracy: 0.812\n",
        "Test accuracy: 0.812</pre>\n",
        "</td>\n",
        "<td style=\"width: 376px;\">\n",
        "\n",
        "![adaboost_cr](adaboost_cr.png)\n",
        "\n",
        "</td>\n",
        "<td style=\"width: 289.5px;\">\n",
        "\n",
        "![adaboost_cm](adaboost_cm.png)\n",
        "    \n",
        "</td>\n",
        "</tr>\n",
        "</tbody>\n",
        "</table>"
      ]
    },
    {
      "cell_type": "markdown",
      "id": "b7cdc387-57fa-46fc-8091-416d7e24a247",
      "metadata": {
        "id": "b7cdc387-57fa-46fc-8091-416d7e24a247"
      },
      "source": [
        "## Summary\n",
        "- Random forest shows the highest accuracy but with less testing accuracy, an indication of overfit.\n",
        "- Adaboost metrics shows the balanced training and testing accuracy with least execution(training and testing) time.\n",
        "- Gradient boost has the highest testing accuracy.\n",
        "\n",
        "## Future Work:\n",
        "- The Hyper parameters can be tuned for random forest, Adaboost and Gradient boost algorithms.\n",
        "- Further Feature engineering can be performed to enhance the performance of the algorithms."
      ]
    },
    {
      "cell_type": "code",
      "execution_count": null,
      "id": "2e4c2b62-8509-4533-b835-ab1343066b58",
      "metadata": {
        "id": "2e4c2b62-8509-4533-b835-ab1343066b58"
      },
      "outputs": [],
      "source": []
    }
  ],
  "metadata": {
    "kernelspec": {
      "display_name": "Python 3 (ipykernel)",
      "language": "python",
      "name": "python3"
    },
    "language_info": {
      "codemirror_mode": {
        "name": "ipython",
        "version": 3
      },
      "file_extension": ".py",
      "mimetype": "text/x-python",
      "name": "python",
      "nbconvert_exporter": "python",
      "pygments_lexer": "ipython3",
      "version": "3.11.5"
    },
    "colab": {
      "provenance": [],
      "include_colab_link": true
    }
  },
  "nbformat": 4,
  "nbformat_minor": 5
}