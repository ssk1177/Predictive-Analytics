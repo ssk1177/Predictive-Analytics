{
  "metadata": {
    "kernelspec": {
      "language": "python",
      "display_name": "Python 3",
      "name": "python3"
    },
    "language_info": {
      "name": "python",
      "version": "3.10.13",
      "mimetype": "text/x-python",
      "codemirror_mode": {
        "name": "ipython",
        "version": 3
      },
      "pygments_lexer": "ipython3",
      "nbconvert_exporter": "python",
      "file_extension": ".py"
    },
    "kaggle": {
      "accelerator": "none",
      "dataSources": [],
      "dockerImageVersionId": 30698,
      "isInternetEnabled": true,
      "language": "python",
      "sourceType": "notebook",
      "isGpuEnabled": false
    },
    "colab": {
      "provenance": [],
      "include_colab_link": true
    }
  },
  "nbformat_minor": 0,
  "nbformat": 4,
  "cells": [
    {
      "cell_type": "markdown",
      "metadata": {
        "id": "view-in-github",
        "colab_type": "text"
      },
      "source": [
        "<a href=\"https://colab.research.google.com/github/ssk1177/Predictive-Analytics/blob/main/Breast_Cancer_Wisconsin_(Diagnostic).ipynb\" target=\"_parent\"><img src=\"https://colab.research.google.com/assets/colab-badge.svg\" alt=\"Open In Colab\"/></a>"
      ]
    },
    {
      "cell_type": "markdown",
      "source": [
        "**ReadMe**:\n",
        "\n",
        "The **objective** is to predict whether or not a patient has the breast cancer based on the diagnostic measurements.\n",
        "\n",
        "**Dataset**: Breast Cancer Wisconsin (Diagnostic)\n",
        "\n",
        "https://archive.ics.uci.edu/dataset/17/breast+cancer+wisconsin+diagnostic\n",
        "\n"
      ],
      "metadata": {
        "id": "mVjQLhoN6Rvu"
      }
    },
    {
      "cell_type": "markdown",
      "source": [
        "# Table of contents <a class=\"anchor\" id=\"toc\"></a>\n",
        "\n",
        "* [Loading packages](#packages)\n",
        "* [Functional blocks](#functional_blocks)\n",
        "* [Load the dataset](#load_dataset)\n",
        "* [Explore the dataset features](#explore_features)\n",
        "    * [Explore the target - get the target correlation with the features](#explore_target)\n",
        "    * [Check for missing values  &emsp;&emsp; &nbsp; __Action__: handle missing values (if any)](#missing_values)\n",
        "    * [Check for duplicate values  &emsp; &nbsp; __Action__: remove duplicate values (if any)](#remove_duplicates)\n",
        "    * [Check for outliers &emsp; &emsp; &emsp; &emsp;&nbsp; &nbsp;__Action__: Remove outliers (if any)](#remove_outliers)\n",
        "        __[Future work - This step can be Performed Only for Selected Features (after step-6)]__ <br>\n",
        "    * [Check for features distribution (biases) &emsp; __Action__: Correct biases](#correct_biases)\n",
        "        __[Future work - This step can be Performed Only for Selected Features (after step-6)]__ <br>\n",
        "        \n",
        "* [Split the dataset to train and test data](#split_dataset)\n",
        "\n",
        "* [Scale the train and test data - use min-max scaler](#scale_data)\n",
        "\n",
        "* [Classifier: KNN](#classifier_knn)\n",
        "    * [Train the KNN with all the features](#train_knn_all_feats)\n",
        "        * [Print the Metrices (Accuracy, Precision and Recall)](#print_knn_mat_all)\n",
        "        * [Plot Confusion Matrix](#plot_knn_conf_mat_all)\n",
        "        * [Classification report](#plot_knn_class_rep_all)\n",
        "        * [Print the Time taken for model training and testing](#knn_time_all)\n",
        "        \n",
        "    * [Select the best features using the 'SequentialFeatureSelector'for KNN classifier](#train_knn_select_best_feats)\n",
        "        * [Train the KNN Classifier with the selected features](#train_knn_select_feats)\n",
        "        * [Make predictions on the test data using trained classifier](#predict_knn_select_feats)\n",
        "        * [Print the Metrices (Accuracy, Precision and Recall)](#print_knn_mat_select)\n",
        "        * [Plot Confusion Matrix](#plot_knn_conf_mat_select)\n",
        "        * [Classification report](#plot_knn_class_rep_select)\n",
        "        * [Print the Time taken for model training and testing](#knn_time_select)\n",
        "        \n",
        "    * [KNN's K-paramter tuning](#hyper_param_tuning)\n",
        "        * [Retrain with the Tuned k-parameter](#retrain_with_knn)\n",
        "        * [Make predictions on the test data using trained classifier](#predict_knn_select_feats_K)\n",
        "        * [Print the Metrices (Accuracy, Precision and Recall)](#print_knn_mat_select_K)\n",
        "        * [Plot Confusion Matrix](#plot_knn_conf_mat_select_K)\n",
        "        * [Classification report](#plot_knn_class_rep_select_K)\n",
        "        * [Print the Time taken for model training and testing](#knn_time_select_K)\n",
        "        \n",
        "* [Classifier: Naive Bayes](#classifier_nb)\n",
        "        \n",
        "    * [Train the Naive Bayes with all the features](#train_nb_all_feats)\n",
        "        * [Print the Metrices (Accuracy, Precision and Recall)](#print_nb_mat_all)\n",
        "        * [Plot Confusion Matrix](#plot_nb_conf_mat_all)\n",
        "        * [Classification report](#plot_nb_class_rep_all)\n",
        "        * [Print the Time taken for model training and testing](#nb_time_all)\n",
        "\n",
        "    * [Select the best features using the 'SequentialFeatureSelector'for NB classifier](#select_best_feats_nb)\n",
        "        * [Train the NB Classifier with the selected features](#train_nb_select_feats)\n",
        "        * [Make predictions on the test data using trained classifier](#predict_nb_select_feats)\n",
        "        * [Print the Metrices (Accuracy, Precision and Recall)](#print_nb_mat_select)\n",
        "        * [Plot Confusion Matrix](#plot_nb_conf_mat_select)\n",
        "        * [Classification report](#plot_nb_class_rep_select)\n",
        "        * [Print the Time taken for model training and testing](#nb_time_select)\n",
        "\n",
        "* [Summary](#summary)\n"
      ],
      "metadata": {
        "id": "UYC_7LVB5fbi"
      }
    },
    {
      "cell_type": "markdown",
      "source": [
        "# Loading Packages <a class=\"anchor\" id=\"packages\"></a> <p style='text-align: right; font-size: 15px; color:blue; font-weight: bold;'> [Go to Main Menu](#toc) </p>"
      ],
      "metadata": {
        "id": "HqIBJ4Fr5fbk"
      }
    },
    {
      "cell_type": "code",
      "source": [
        "import matplotlib.pyplot as plt\n",
        "from sklearn.datasets import load_breast_cancer\n",
        "from sklearn.feature_selection import SequentialFeatureSelector\n",
        "from sklearn.model_selection import train_test_split, cross_val_score\n",
        "from sklearn.preprocessing import StandardScaler\n",
        "from sklearn.neighbors import KNeighborsClassifier\n",
        "from sklearn.metrics import accuracy_score, precision_score, recall_score, confusion_matrix, ConfusionMatrixDisplay, classification_report\n",
        "from sklearn.preprocessing import MinMaxScaler\n",
        "from sklearn.naive_bayes import GaussianNB\n",
        "\n",
        "import pandas as pd\n",
        "import numpy as np\n",
        "import seaborn as sns\n",
        "import time\n",
        "from scipy.stats import skew\n",
        "\n",
        "import warnings\n",
        "warnings.filterwarnings(\"ignore\")\n",
        "\n",
        "pd.set_option('display.max_columns', None)\n",
        "PALETTE = \"Blues\""
      ],
      "metadata": {
        "jupyter": {
          "source_hidden": true
        },
        "execution": {
          "iopub.status.busy": "2024-06-05T02:58:09.517868Z",
          "iopub.execute_input": "2024-06-05T02:58:09.518567Z",
          "iopub.status.idle": "2024-06-05T02:58:09.528580Z",
          "shell.execute_reply.started": "2024-06-05T02:58:09.518278Z",
          "shell.execute_reply": "2024-06-05T02:58:09.527377Z"
        },
        "trusted": true,
        "id": "_GMRsx7J5fbk"
      },
      "execution_count": null,
      "outputs": []
    },
    {
      "cell_type": "markdown",
      "source": [
        "### Functional blocks <a class=\"anchor\" id=\"functional_blocks\"></a> <p style='text-align: right; font-size: 15px; color:blue; font-weight: bold;'> [Go to Main Menu](#toc) </p>"
      ],
      "metadata": {
        "id": "Z5izvUvb5fbl"
      }
    },
    {
      "cell_type": "code",
      "source": [
        "def plot_features_dist(df, features):\n",
        "    plt.figure(figsize=(15,50))\n",
        "    i = 1\n",
        "\n",
        "    skewness_dict = {}\n",
        "\n",
        "    for col in features:\n",
        "        if(col != 'target'):\n",
        "            plt.subplot(11, 3, i)\n",
        "            sns.histplot(data = df, x=col, hue=\"target\", kde=True, stat=\"percent\", legend=False)\n",
        "            plt.legend(title='Target', loc='upper right', labels=['Malignant', 'Benign'])\n",
        "            skewness_dict[col] = skew(df[col])\n",
        "            i = i+1\n",
        "\n",
        "    plt.tight_layout()\n",
        "    plt.show()\n",
        "\n",
        "def run_classifier(clf, X_train_scaled, y_train):\n",
        "    match clf:\n",
        "        case \"NB\":\n",
        "            # Get the GaussianNB classifier with default parameters\n",
        "            gnb = GaussianNB()\n",
        "\n",
        "            # Mark the start time for training\n",
        "            train_time_start =time.time()\n",
        "\n",
        "            # Fit the train data\n",
        "            gnb.fit(X_train_scaled, y_train)\n",
        "\n",
        "            # Mark the end time for training\n",
        "            train_time_end =time.time()\n",
        "\n",
        "            # Mark the start time for testing\n",
        "            test_time_start =time.time()\n",
        "\n",
        "            # Predict the test data\n",
        "            y_pred = gnb.predict(X_test_scaled)\n",
        "\n",
        "            # Mark the end time for testing\n",
        "            test_time_end =time.time()\n",
        "\n",
        "        case \"KNN\":\n",
        "            # Get the KNN classifier with default parameters (such as k = 5)\n",
        "            knn = KNeighborsClassifier()\n",
        "\n",
        "            # Mark the start time for training\n",
        "            train_time_start =time.time()\n",
        "\n",
        "            # Fit the train data\n",
        "            knn.fit(X_train_scaled, y_train)\n",
        "\n",
        "            # Mark the end time for training\n",
        "            train_time_end =time.time()\n",
        "\n",
        "            # Mark the start time for testing\n",
        "            test_time_start =time.time()\n",
        "\n",
        "            # Predict the test data\n",
        "            y_pred = knn.predict(X_test_scaled)\n",
        "\n",
        "            # Mark the end time for testing\n",
        "            test_time_end =time.time()\n",
        "\n",
        "    return train_time_start, train_time_end, test_time_start, test_time_end, y_pred"
      ],
      "metadata": {
        "execution": {
          "iopub.status.busy": "2024-06-05T02:58:09.541091Z",
          "iopub.execute_input": "2024-06-05T02:58:09.541506Z",
          "iopub.status.idle": "2024-06-05T02:58:09.554093Z",
          "shell.execute_reply.started": "2024-06-05T02:58:09.541474Z",
          "shell.execute_reply": "2024-06-05T02:58:09.552844Z"
        },
        "trusted": true,
        "id": "3dgs0NeL5fbl"
      },
      "execution_count": null,
      "outputs": []
    },
    {
      "cell_type": "markdown",
      "source": [
        "### Steps to be performed: <br>\n",
        "1. Load the dataset\n",
        "\n",
        "2. Explore the dataset features <br>\n",
        "    2.1. Explore the target - get the target correlation with the features <br>\n",
        "    2.2. Check for missing values  &emsp;&emsp; &nbsp; __Action__: handle missing values (if any) <br>\n",
        "    2.3. Check for duplicate values  &emsp; &nbsp; __Action__: remove duplicate values (if any) <br>\n",
        "    2.4. Check for outliers &emsp; &emsp; &emsp; &emsp;&nbsp; &nbsp;__Action__: Remove outliers (if any) __[This step can be Performed Only for Selected Features (after step-6)]__ <br>\n",
        "    2.5. Check for features distribution (biases) &emsp; __Action__: Correct biases __[This step can be Performed Only for Selected Features (after step-6)]__ <br>\n",
        "    \n",
        "3. Split the dataset to train and test data\n",
        "\n",
        "4. Scale the train and test data - use min-max scaler\n",
        "\n",
        "5. As per the Lab-2 requirement, train the KNN and Naive Bayes with all the features.\n",
        "\n",
        "    5.1. Train the KNN with all the features\n",
        "        5.1.1. Print the Metrices (Accuracy, Precision and Recall)\n",
        "        5.1.2. Plot Confusion Matrix\n",
        "        5.1.3. Classification report\n",
        "        5.1.4. Print the Time taken for model training and testing\n",
        "        \n",
        "    5.2. Train the Naive Bayes with all the features\n",
        "        5.2.1. Print the Metrices (Accuracy, Precision and Recall)\n",
        "        5.2.2. Plot Confusion Matrix\n",
        "        5.2.3. Classification report\n",
        "        5.2.4. Print the Time taken for model training and testing\n",
        "        \n",
        "6. Train the KNN and Naive Bayes with the best selected features using the 'SequentialFeatureSelector' <br>\n",
        "    6.1. Select the best features using the 'SequentialFeatureSelector'for KNN classifier\n",
        "        6.1.1. Train the KNN Classifier with the selected features\n",
        "        6.1.2. Make predictions on the test data using trained classifier\n",
        "        6.1.3. Print the Metrices (Accuracy, Precision and Recall)\n",
        "        6.1.4. Plot Confusion Matrix\n",
        "        6.1.5. Classification report\n",
        "        6.1.6. Print the Time taken for model training and testing\n",
        "\n",
        "    6.2. Select the best features using the 'SequentialFeatureSelector'for NB classifier\n",
        "        6.2.1. Train the NB Classifier with the selected features\n",
        "        6.2.2. Make predictions on the test data using trained classifier\n",
        "        6.2.3. Print the Metrices (Accuracy, Precision and Recall)\n",
        "        6.2.4. Plot Confusion Matrix\n",
        "        6.2.5. Classification report\n",
        "        6.2.6. Print the Time taken for model training and testing\n",
        "\n",
        "7. Compare the models generated in step-5 and step-7: <br>\n",
        "    7.1. Classification report <br>\n",
        "    7.2. Confusion matrix <br>\n",
        "    7.3. Accuracy measures <br>\n",
        "    7.4. Execution times for model training and testing"
      ],
      "metadata": {
        "id": "KD-Y5WzF5fbl"
      }
    },
    {
      "cell_type": "markdown",
      "source": [
        "## Step-1: Load the data <a class=\"anchor\" id=\"load_dataset\"></a> <p style='text-align: right; font-size: 15px; color:blue; font-weight: bold;'> [Go to Main Menu](#toc) </p>"
      ],
      "metadata": {
        "id": "hb89Rh165fbm"
      }
    },
    {
      "cell_type": "code",
      "source": [
        "# fetch dataset\n",
        "data = load_breast_cancer(as_frame=True)\n",
        "\n",
        "X = pd.DataFrame(data = data.data)\n",
        "y = pd.DataFrame(data = data.target)\n",
        "\n",
        "X.head()"
      ],
      "metadata": {
        "jupyter": {
          "source_hidden": true
        },
        "execution": {
          "iopub.status.busy": "2024-06-05T02:58:09.565593Z",
          "iopub.execute_input": "2024-06-05T02:58:09.566218Z",
          "iopub.status.idle": "2024-06-05T02:58:09.620420Z",
          "shell.execute_reply.started": "2024-06-05T02:58:09.566178Z",
          "shell.execute_reply": "2024-06-05T02:58:09.619305Z"
        },
        "trusted": true,
        "id": "XR00f4pY5fbm",
        "outputId": "86d2122c-195e-43a6-b2cb-afbfeb23620f"
      },
      "execution_count": null,
      "outputs": [
        {
          "execution_count": 609,
          "output_type": "execute_result",
          "data": {
            "text/plain": "   mean radius  mean texture  mean perimeter  mean area  mean smoothness  \\\n0        17.99         10.38          122.80     1001.0          0.11840   \n1        20.57         17.77          132.90     1326.0          0.08474   \n2        19.69         21.25          130.00     1203.0          0.10960   \n3        11.42         20.38           77.58      386.1          0.14250   \n4        20.29         14.34          135.10     1297.0          0.10030   \n\n   mean compactness  mean concavity  mean concave points  mean symmetry  \\\n0           0.27760          0.3001              0.14710         0.2419   \n1           0.07864          0.0869              0.07017         0.1812   \n2           0.15990          0.1974              0.12790         0.2069   \n3           0.28390          0.2414              0.10520         0.2597   \n4           0.13280          0.1980              0.10430         0.1809   \n\n   mean fractal dimension  radius error  texture error  perimeter error  \\\n0                 0.07871        1.0950         0.9053            8.589   \n1                 0.05667        0.5435         0.7339            3.398   \n2                 0.05999        0.7456         0.7869            4.585   \n3                 0.09744        0.4956         1.1560            3.445   \n4                 0.05883        0.7572         0.7813            5.438   \n\n   area error  smoothness error  compactness error  concavity error  \\\n0      153.40          0.006399            0.04904          0.05373   \n1       74.08          0.005225            0.01308          0.01860   \n2       94.03          0.006150            0.04006          0.03832   \n3       27.23          0.009110            0.07458          0.05661   \n4       94.44          0.011490            0.02461          0.05688   \n\n   concave points error  symmetry error  fractal dimension error  \\\n0               0.01587         0.03003                 0.006193   \n1               0.01340         0.01389                 0.003532   \n2               0.02058         0.02250                 0.004571   \n3               0.01867         0.05963                 0.009208   \n4               0.01885         0.01756                 0.005115   \n\n   worst radius  worst texture  worst perimeter  worst area  worst smoothness  \\\n0         25.38          17.33           184.60      2019.0            0.1622   \n1         24.99          23.41           158.80      1956.0            0.1238   \n2         23.57          25.53           152.50      1709.0            0.1444   \n3         14.91          26.50            98.87       567.7            0.2098   \n4         22.54          16.67           152.20      1575.0            0.1374   \n\n   worst compactness  worst concavity  worst concave points  worst symmetry  \\\n0             0.6656           0.7119                0.2654          0.4601   \n1             0.1866           0.2416                0.1860          0.2750   \n2             0.4245           0.4504                0.2430          0.3613   \n3             0.8663           0.6869                0.2575          0.6638   \n4             0.2050           0.4000                0.1625          0.2364   \n\n   worst fractal dimension  \n0                  0.11890  \n1                  0.08902  \n2                  0.08758  \n3                  0.17300  \n4                  0.07678  ",
            "text/html": "<div>\n<style scoped>\n    .dataframe tbody tr th:only-of-type {\n        vertical-align: middle;\n    }\n\n    .dataframe tbody tr th {\n        vertical-align: top;\n    }\n\n    .dataframe thead th {\n        text-align: right;\n    }\n</style>\n<table border=\"1\" class=\"dataframe\">\n  <thead>\n    <tr style=\"text-align: right;\">\n      <th></th>\n      <th>mean radius</th>\n      <th>mean texture</th>\n      <th>mean perimeter</th>\n      <th>mean area</th>\n      <th>mean smoothness</th>\n      <th>mean compactness</th>\n      <th>mean concavity</th>\n      <th>mean concave points</th>\n      <th>mean symmetry</th>\n      <th>mean fractal dimension</th>\n      <th>radius error</th>\n      <th>texture error</th>\n      <th>perimeter error</th>\n      <th>area error</th>\n      <th>smoothness error</th>\n      <th>compactness error</th>\n      <th>concavity error</th>\n      <th>concave points error</th>\n      <th>symmetry error</th>\n      <th>fractal dimension error</th>\n      <th>worst radius</th>\n      <th>worst texture</th>\n      <th>worst perimeter</th>\n      <th>worst area</th>\n      <th>worst smoothness</th>\n      <th>worst compactness</th>\n      <th>worst concavity</th>\n      <th>worst concave points</th>\n      <th>worst symmetry</th>\n      <th>worst fractal dimension</th>\n    </tr>\n  </thead>\n  <tbody>\n    <tr>\n      <th>0</th>\n      <td>17.99</td>\n      <td>10.38</td>\n      <td>122.80</td>\n      <td>1001.0</td>\n      <td>0.11840</td>\n      <td>0.27760</td>\n      <td>0.3001</td>\n      <td>0.14710</td>\n      <td>0.2419</td>\n      <td>0.07871</td>\n      <td>1.0950</td>\n      <td>0.9053</td>\n      <td>8.589</td>\n      <td>153.40</td>\n      <td>0.006399</td>\n      <td>0.04904</td>\n      <td>0.05373</td>\n      <td>0.01587</td>\n      <td>0.03003</td>\n      <td>0.006193</td>\n      <td>25.38</td>\n      <td>17.33</td>\n      <td>184.60</td>\n      <td>2019.0</td>\n      <td>0.1622</td>\n      <td>0.6656</td>\n      <td>0.7119</td>\n      <td>0.2654</td>\n      <td>0.4601</td>\n      <td>0.11890</td>\n    </tr>\n    <tr>\n      <th>1</th>\n      <td>20.57</td>\n      <td>17.77</td>\n      <td>132.90</td>\n      <td>1326.0</td>\n      <td>0.08474</td>\n      <td>0.07864</td>\n      <td>0.0869</td>\n      <td>0.07017</td>\n      <td>0.1812</td>\n      <td>0.05667</td>\n      <td>0.5435</td>\n      <td>0.7339</td>\n      <td>3.398</td>\n      <td>74.08</td>\n      <td>0.005225</td>\n      <td>0.01308</td>\n      <td>0.01860</td>\n      <td>0.01340</td>\n      <td>0.01389</td>\n      <td>0.003532</td>\n      <td>24.99</td>\n      <td>23.41</td>\n      <td>158.80</td>\n      <td>1956.0</td>\n      <td>0.1238</td>\n      <td>0.1866</td>\n      <td>0.2416</td>\n      <td>0.1860</td>\n      <td>0.2750</td>\n      <td>0.08902</td>\n    </tr>\n    <tr>\n      <th>2</th>\n      <td>19.69</td>\n      <td>21.25</td>\n      <td>130.00</td>\n      <td>1203.0</td>\n      <td>0.10960</td>\n      <td>0.15990</td>\n      <td>0.1974</td>\n      <td>0.12790</td>\n      <td>0.2069</td>\n      <td>0.05999</td>\n      <td>0.7456</td>\n      <td>0.7869</td>\n      <td>4.585</td>\n      <td>94.03</td>\n      <td>0.006150</td>\n      <td>0.04006</td>\n      <td>0.03832</td>\n      <td>0.02058</td>\n      <td>0.02250</td>\n      <td>0.004571</td>\n      <td>23.57</td>\n      <td>25.53</td>\n      <td>152.50</td>\n      <td>1709.0</td>\n      <td>0.1444</td>\n      <td>0.4245</td>\n      <td>0.4504</td>\n      <td>0.2430</td>\n      <td>0.3613</td>\n      <td>0.08758</td>\n    </tr>\n    <tr>\n      <th>3</th>\n      <td>11.42</td>\n      <td>20.38</td>\n      <td>77.58</td>\n      <td>386.1</td>\n      <td>0.14250</td>\n      <td>0.28390</td>\n      <td>0.2414</td>\n      <td>0.10520</td>\n      <td>0.2597</td>\n      <td>0.09744</td>\n      <td>0.4956</td>\n      <td>1.1560</td>\n      <td>3.445</td>\n      <td>27.23</td>\n      <td>0.009110</td>\n      <td>0.07458</td>\n      <td>0.05661</td>\n      <td>0.01867</td>\n      <td>0.05963</td>\n      <td>0.009208</td>\n      <td>14.91</td>\n      <td>26.50</td>\n      <td>98.87</td>\n      <td>567.7</td>\n      <td>0.2098</td>\n      <td>0.8663</td>\n      <td>0.6869</td>\n      <td>0.2575</td>\n      <td>0.6638</td>\n      <td>0.17300</td>\n    </tr>\n    <tr>\n      <th>4</th>\n      <td>20.29</td>\n      <td>14.34</td>\n      <td>135.10</td>\n      <td>1297.0</td>\n      <td>0.10030</td>\n      <td>0.13280</td>\n      <td>0.1980</td>\n      <td>0.10430</td>\n      <td>0.1809</td>\n      <td>0.05883</td>\n      <td>0.7572</td>\n      <td>0.7813</td>\n      <td>5.438</td>\n      <td>94.44</td>\n      <td>0.011490</td>\n      <td>0.02461</td>\n      <td>0.05688</td>\n      <td>0.01885</td>\n      <td>0.01756</td>\n      <td>0.005115</td>\n      <td>22.54</td>\n      <td>16.67</td>\n      <td>152.20</td>\n      <td>1575.0</td>\n      <td>0.1374</td>\n      <td>0.2050</td>\n      <td>0.4000</td>\n      <td>0.1625</td>\n      <td>0.2364</td>\n      <td>0.07678</td>\n    </tr>\n  </tbody>\n</table>\n</div>"
          },
          "metadata": {}
        }
      ]
    },
    {
      "cell_type": "markdown",
      "source": [
        "## Step-2: Explore the dataset features <a class=\"anchor\" id=\"explore_features\"></a> <p style='text-align: right; font-size: 15px; color:blue; font-weight: bold;'> [Go to Main Menu](#toc) </p>"
      ],
      "metadata": {
        "id": "_VPErTw65fbm"
      }
    },
    {
      "cell_type": "markdown",
      "source": [
        "### Step-2.1: Explore target <a class=\"anchor\" id=\"explore_target\"></a> <p style='text-align: right; font-size: 15px; color:blue; font-weight: bold;'> [Go to Main Menu](#toc) </p>"
      ],
      "metadata": {
        "id": "qaj4SQqV5fbn"
      }
    },
    {
      "cell_type": "code",
      "source": [
        "# Plot the target graph\n",
        "plt.figure(figsize=(15,5))\n",
        "\n",
        "plt.subplot(1, 2, 1)\n",
        "\n",
        "values, bins, bars = plt.hist(y.target)\n",
        "plt.bar_label(bars, fontsize=10, color='navy', fmt=lambda x: x if x > 0 else '')\n",
        "plt.title(\"Cancer Diagnostic\")\n",
        "plt.xticks(np.arange(2), ('Malignant', 'Benign'))\n",
        "\n",
        "# Create a pie chart- to show percentage\n",
        "plt.subplot(1, 2, 2)\n",
        "plt.pie (y.target.value_counts(), labels=data.target_names, autopct='%1.0f%%')\n",
        "\n",
        "#plt.tight_layout()\n",
        "plt.show()\n"
      ],
      "metadata": {
        "jupyter": {
          "source_hidden": true
        },
        "execution": {
          "iopub.status.busy": "2024-06-05T02:58:09.622695Z",
          "iopub.execute_input": "2024-06-05T02:58:09.623161Z",
          "iopub.status.idle": "2024-06-05T02:58:09.953432Z",
          "shell.execute_reply.started": "2024-06-05T02:58:09.623122Z",
          "shell.execute_reply": "2024-06-05T02:58:09.952218Z"
        },
        "trusted": true,
        "id": "SXGfjNO95fbn",
        "outputId": "14bef502-6a25-49d1-8c0c-016e1ab0dead"
      },
      "execution_count": null,
      "outputs": [
        {
          "output_type": "display_data",
          "data": {
            "text/plain": "<Figure size 1500x500 with 2 Axes>",
            "image/png": "[encoded data removed]"
          },
          "metadata": {}
        }
      ]
    },
    {
      "cell_type": "markdown",
      "source": [
        "### Observation:\n",
        "The 'Malignant' class label is close to 65% of the 'benign' class label, though the classes are not balanced but still the difference is not that significant."
      ],
      "metadata": {
        "id": "KiKvl0r15fbn"
      }
    },
    {
      "cell_type": "markdown",
      "source": [
        "#### Target Correlation with the features\n",
        "Exploration of the features that exhibit higher correlations with target variable"
      ],
      "metadata": {
        "id": "pQdRCr3e5fbn"
      }
    },
    {
      "cell_type": "code",
      "source": [
        "df = pd.concat([X,y], axis=1)\n",
        "\n",
        "temp = df.copy()\n",
        "\n",
        "TargetCorreltions = temp.corr()['target'].sort_values(ascending = False)[1:]\n",
        "TargetCorreltions[::-1].head(15).to_frame()"
      ],
      "metadata": {
        "jupyter": {
          "source_hidden": true
        },
        "execution": {
          "iopub.status.busy": "2024-06-05T02:58:09.954823Z",
          "iopub.execute_input": "2024-06-05T02:58:09.955149Z",
          "iopub.status.idle": "2024-06-05T02:58:09.974393Z",
          "shell.execute_reply.started": "2024-06-05T02:58:09.955121Z",
          "shell.execute_reply": "2024-06-05T02:58:09.973094Z"
        },
        "trusted": true,
        "id": "txjjKwtN5fbn",
        "outputId": "fbf2b31b-b77f-4549-d1ba-18f118c23cf2"
      },
      "execution_count": null,
      "outputs": [
        {
          "execution_count": 611,
          "output_type": "execute_result",
          "data": {
            "text/plain": "                        target\nworst concave points -0.793566\nworst perimeter      -0.782914\nmean concave points  -0.776614\nworst radius         -0.776454\nmean perimeter       -0.742636\nworst area           -0.733825\nmean radius          -0.730029\nmean area            -0.708984\nmean concavity       -0.696360\nworst concavity      -0.659610\nmean compactness     -0.596534\nworst compactness    -0.590998\nradius error         -0.567134\nperimeter error      -0.556141\narea error           -0.548236",
            "text/html": "<div>\n<style scoped>\n    .dataframe tbody tr th:only-of-type {\n        vertical-align: middle;\n    }\n\n    .dataframe tbody tr th {\n        vertical-align: top;\n    }\n\n    .dataframe thead th {\n        text-align: right;\n    }\n</style>\n<table border=\"1\" class=\"dataframe\">\n  <thead>\n    <tr style=\"text-align: right;\">\n      <th></th>\n      <th>target</th>\n    </tr>\n  </thead>\n  <tbody>\n    <tr>\n      <th>worst concave points</th>\n      <td>-0.793566</td>\n    </tr>\n    <tr>\n      <th>worst perimeter</th>\n      <td>-0.782914</td>\n    </tr>\n    <tr>\n      <th>mean concave points</th>\n      <td>-0.776614</td>\n    </tr>\n    <tr>\n      <th>worst radius</th>\n      <td>-0.776454</td>\n    </tr>\n    <tr>\n      <th>mean perimeter</th>\n      <td>-0.742636</td>\n    </tr>\n    <tr>\n      <th>worst area</th>\n      <td>-0.733825</td>\n    </tr>\n    <tr>\n      <th>mean radius</th>\n      <td>-0.730029</td>\n    </tr>\n    <tr>\n      <th>mean area</th>\n      <td>-0.708984</td>\n    </tr>\n    <tr>\n      <th>mean concavity</th>\n      <td>-0.696360</td>\n    </tr>\n    <tr>\n      <th>worst concavity</th>\n      <td>-0.659610</td>\n    </tr>\n    <tr>\n      <th>mean compactness</th>\n      <td>-0.596534</td>\n    </tr>\n    <tr>\n      <th>worst compactness</th>\n      <td>-0.590998</td>\n    </tr>\n    <tr>\n      <th>radius error</th>\n      <td>-0.567134</td>\n    </tr>\n    <tr>\n      <th>perimeter error</th>\n      <td>-0.556141</td>\n    </tr>\n    <tr>\n      <th>area error</th>\n      <td>-0.548236</td>\n    </tr>\n  </tbody>\n</table>\n</div>"
          },
          "metadata": {}
        }
      ]
    },
    {
      "cell_type": "code",
      "source": [
        "TargetCorreltions[::-1].plot(kind = 'bar',\n",
        "                            edgecolor = 'k',\n",
        "                            figsize = (10, 4))\n",
        "plt.axhline(-0.5, c = 'r')\n",
        "plt.grid(False)\n",
        "plt.title(\"Target correlation\");"
      ],
      "metadata": {
        "jupyter": {
          "source_hidden": true
        },
        "execution": {
          "iopub.status.busy": "2024-06-05T02:58:09.976781Z",
          "iopub.execute_input": "2024-06-05T02:58:09.977113Z",
          "iopub.status.idle": "2024-06-05T02:58:10.516690Z",
          "shell.execute_reply.started": "2024-06-05T02:58:09.977086Z",
          "shell.execute_reply": "2024-06-05T02:58:10.515520Z"
        },
        "trusted": true,
        "id": "eG-aoHwP5fbo",
        "outputId": "2bdd6d57-7001-4bf9-8443-f2adc466611e"
      },
      "execution_count": null,
      "outputs": [
        {
          "output_type": "display_data",
          "data": {
            "text/plain": "<Figure size 1000x400 with 1 Axes>",
            "image/png": "[encoded data removed]"
          },
          "metadata": {}
        }
      ]
    },
    {
      "cell_type": "markdown",
      "source": [
        "### Observation:\n",
        "From the above chart, it's observed that most of the features are negatively correlated with the target.The red line indicate the 50% (or 0.5)."
      ],
      "metadata": {
        "id": "PXMtiKBZ5fbo"
      }
    },
    {
      "cell_type": "markdown",
      "source": [
        "## Step-2.2: Check for missing values <a class=\"anchor\" id=\"missing_values\"></a> <p style='text-align: right; font-size: 15px; color:blue; font-weight: bold;'> [Go to Main Menu](#toc) </p>"
      ],
      "metadata": {
        "id": "apT2ylBp5fbo"
      }
    },
    {
      "cell_type": "code",
      "source": [
        "X.isnull().sum() / len(X) * 100"
      ],
      "metadata": {
        "jupyter": {
          "source_hidden": true
        },
        "execution": {
          "iopub.status.busy": "2024-06-05T02:58:10.517996Z",
          "iopub.execute_input": "2024-06-05T02:58:10.518311Z",
          "iopub.status.idle": "2024-06-05T02:58:10.529860Z",
          "shell.execute_reply.started": "2024-06-05T02:58:10.518283Z",
          "shell.execute_reply": "2024-06-05T02:58:10.528582Z"
        },
        "trusted": true,
        "id": "_y6_3jUI5fbo",
        "outputId": "5e6565da-d66b-4418-b22c-1d718a3e87a4"
      },
      "execution_count": null,
      "outputs": [
        {
          "execution_count": 613,
          "output_type": "execute_result",
          "data": {
            "text/plain": "mean radius                0.0\nmean texture               0.0\nmean perimeter             0.0\nmean area                  0.0\nmean smoothness            0.0\nmean compactness           0.0\nmean concavity             0.0\nmean concave points        0.0\nmean symmetry              0.0\nmean fractal dimension     0.0\nradius error               0.0\ntexture error              0.0\nperimeter error            0.0\narea error                 0.0\nsmoothness error           0.0\ncompactness error          0.0\nconcavity error            0.0\nconcave points error       0.0\nsymmetry error             0.0\nfractal dimension error    0.0\nworst radius               0.0\nworst texture              0.0\nworst perimeter            0.0\nworst area                 0.0\nworst smoothness           0.0\nworst compactness          0.0\nworst concavity            0.0\nworst concave points       0.0\nworst symmetry             0.0\nworst fractal dimension    0.0\ndtype: float64"
          },
          "metadata": {}
        }
      ]
    },
    {
      "cell_type": "markdown",
      "source": [
        "## Observataion:\n",
        "No Missing values are observed in the dataset"
      ],
      "metadata": {
        "id": "eJoh8NxW5fbo"
      }
    },
    {
      "cell_type": "markdown",
      "source": [
        "## Step-2.3: Check for duplicate values <a class=\"anchor\" id=\"remove_duplicates\"></a> <p style='text-align: right; font-size: 15px; color:blue; font-weight: bold;'> [Go to Main Menu](#toc) </p>"
      ],
      "metadata": {
        "id": "vSj5tsTq5fbo"
      }
    },
    {
      "cell_type": "code",
      "source": [
        "X.duplicated().sum()"
      ],
      "metadata": {
        "jupyter": {
          "source_hidden": true
        },
        "execution": {
          "iopub.status.busy": "2024-06-05T02:58:10.531360Z",
          "iopub.execute_input": "2024-06-05T02:58:10.531783Z",
          "iopub.status.idle": "2024-06-05T02:58:10.551528Z",
          "shell.execute_reply.started": "2024-06-05T02:58:10.531729Z",
          "shell.execute_reply": "2024-06-05T02:58:10.550445Z"
        },
        "trusted": true,
        "id": "QpnVQiYk5fbo",
        "outputId": "ad79f06f-38f7-4a22-ce0d-0696194d5047"
      },
      "execution_count": null,
      "outputs": [
        {
          "execution_count": 614,
          "output_type": "execute_result",
          "data": {
            "text/plain": "0"
          },
          "metadata": {}
        }
      ]
    },
    {
      "cell_type": "markdown",
      "source": [
        "#### Obseravation: There are no duplicate values observed in the data."
      ],
      "metadata": {
        "id": "szlMUn1R5fbo"
      }
    },
    {
      "cell_type": "markdown",
      "source": [
        "### Step-3: Split the dataset to train and test data <a class=\"anchor\" id=\"split_dataset\"></a> <p style='text-align: right; font-size: 15px; color:blue; font-weight: bold;'> [Go to Main Menu](#toc) </p>"
      ],
      "metadata": {
        "id": "1ryBbGDp5fbp"
      }
    },
    {
      "cell_type": "code",
      "source": [
        "X_train, X_test, y_train, y_test = train_test_split(X, y, stratify=y, test_size=0.2, random_state=117)"
      ],
      "metadata": {
        "jupyter": {
          "source_hidden": true
        },
        "execution": {
          "iopub.status.busy": "2024-06-05T02:58:10.552719Z",
          "iopub.execute_input": "2024-06-05T02:58:10.553085Z",
          "iopub.status.idle": "2024-06-05T02:58:10.566483Z",
          "shell.execute_reply.started": "2024-06-05T02:58:10.553057Z",
          "shell.execute_reply": "2024-06-05T02:58:10.565171Z"
        },
        "trusted": true,
        "id": "9Xo3FQ365fbp"
      },
      "execution_count": null,
      "outputs": []
    },
    {
      "cell_type": "markdown",
      "source": [
        "Setting ‘stratify’ to y makes our training split represent the proportion of each value in the y variable. For example, in our dataset, if 25% of patients have Malignant and 75% Benign, setting ‘stratify’ to y will ensure that the random split has 25% of patients Malignant and 75% of patients Benign."
      ],
      "metadata": {
        "id": "FOykV6ox5fbp"
      }
    },
    {
      "cell_type": "markdown",
      "source": [
        "### Step-4: Feature Scaling <a class=\"anchor\" id=\"scale_data\"></a> <p style='text-align: right; font-size: 15px; color:blue; font-weight: bold;'> [Go to Main Menu](#toc) </p>\n",
        "Scale the features using min-max scaler"
      ],
      "metadata": {
        "id": "KnfjcrtI5fbp"
      }
    },
    {
      "cell_type": "code",
      "source": [
        "# Used min-max scaler\n",
        "scaler = MinMaxScaler()\n",
        "\n",
        "# Scale the training data\n",
        "X_train_scaled = scaler.fit_transform(X_train)\n",
        "\n",
        "# Scale the test data\n",
        "X_test_scaled = scaler.transform(X_test)"
      ],
      "metadata": {
        "jupyter": {
          "source_hidden": true
        },
        "execution": {
          "iopub.status.busy": "2024-06-05T02:58:10.568087Z",
          "iopub.execute_input": "2024-06-05T02:58:10.568518Z",
          "iopub.status.idle": "2024-06-05T02:58:10.583439Z",
          "shell.execute_reply.started": "2024-06-05T02:58:10.568480Z",
          "shell.execute_reply": "2024-06-05T02:58:10.582205Z"
        },
        "trusted": true,
        "id": "VrHH-8HS5fbp"
      },
      "execution_count": null,
      "outputs": []
    },
    {
      "cell_type": "markdown",
      "source": [
        "### Classifier: KNN <a class=\"anchor\" id=\"classifier_knn\"></a> <p style='text-align: right; font-size: 15px; color:blue; font-weight: bold;'> [Go to Main Menu](#toc) </p>"
      ],
      "metadata": {
        "id": "YX-9L4Q45fbp"
      }
    },
    {
      "cell_type": "markdown",
      "source": [
        "### Step-5.1: Train the KNN with all the features. <a class=\"anchor\" id=\"train_knn_all_feats\"></a> <p style='text-align: right; font-size: 15px; color:blue; font-weight: bold;'> [Go to Main Menu](#toc) </p>"
      ],
      "metadata": {
        "id": "i_clC8gs5fbp"
      }
    },
    {
      "cell_type": "code",
      "source": [
        "knn_train_time_start, knn_train_time_end, knn_test_time_start, knn_test_time_end, y_pred = run_classifier(\"KNN\", X_train_scaled, y_train)"
      ],
      "metadata": {
        "execution": {
          "iopub.status.busy": "2024-06-05T02:58:10.588553Z",
          "iopub.execute_input": "2024-06-05T02:58:10.589224Z",
          "iopub.status.idle": "2024-06-05T02:58:10.613028Z",
          "shell.execute_reply.started": "2024-06-05T02:58:10.589189Z",
          "shell.execute_reply": "2024-06-05T02:58:10.611838Z"
        },
        "trusted": true,
        "id": "mMpaCBtQ5fbq"
      },
      "execution_count": null,
      "outputs": []
    },
    {
      "cell_type": "markdown",
      "source": [
        "### Step-5.1.1: Print the Metrices (Accuracy, Precision and Recall) <a class=\"anchor\" id=\"print_knn_mat_all\"></a> <p style='text-align: right; font-size: 15px; color:blue; font-weight: bold;'> [Go to Main Menu](#toc) </p>"
      ],
      "metadata": {
        "id": "ajWZ0r9F5fbq"
      }
    },
    {
      "cell_type": "code",
      "source": [
        "accuracy = accuracy_score(y_test, y_pred)\n",
        "precision = precision_score(y_test, y_pred)\n",
        "recall = recall_score(y_test, y_pred)\n",
        "\n",
        "print(\"Accuracy:\", round(accuracy, 4))\n",
        "print(\"Precision:\", round(precision, 4))\n",
        "print(\"Recall:\", recall)"
      ],
      "metadata": {
        "jupyter": {
          "source_hidden": true
        },
        "execution": {
          "iopub.status.busy": "2024-06-05T02:58:10.614872Z",
          "iopub.execute_input": "2024-06-05T02:58:10.615188Z",
          "iopub.status.idle": "2024-06-05T02:58:10.640347Z",
          "shell.execute_reply.started": "2024-06-05T02:58:10.615160Z",
          "shell.execute_reply": "2024-06-05T02:58:10.639080Z"
        },
        "trusted": true,
        "id": "O9Myjzdc5fbq",
        "outputId": "9322708c-9c3f-4800-e9b6-ba8a5e07dd42"
      },
      "execution_count": null,
      "outputs": [
        {
          "name": "stdout",
          "text": "Accuracy: 0.9649\nPrecision: 0.9474\nRecall: 1.0\n",
          "output_type": "stream"
        }
      ]
    },
    {
      "cell_type": "markdown",
      "source": [
        "### Step-5.1.2: Plot Confusion Matrix <a class=\"anchor\" id=\"plot_knn_conf_mat_all\"></a> <p style='text-align: right; font-size: 15px; color:blue; font-weight: bold;'> [Go to Main Menu](#toc) </p>"
      ],
      "metadata": {
        "id": "WcfvhSUL5fbq"
      }
    },
    {
      "cell_type": "code",
      "source": [
        "cm = confusion_matrix(y_test, y_pred)\n",
        "cm_display = ConfusionMatrixDisplay(cm, display_labels=data.target_names).plot()\n",
        "plt.title('KNN Classifier')\n",
        "plt.show()"
      ],
      "metadata": {
        "jupyter": {
          "source_hidden": true
        },
        "execution": {
          "iopub.status.busy": "2024-06-05T02:58:10.641815Z",
          "iopub.execute_input": "2024-06-05T02:58:10.642147Z",
          "iopub.status.idle": "2024-06-05T02:58:10.924119Z",
          "shell.execute_reply.started": "2024-06-05T02:58:10.642119Z",
          "shell.execute_reply": "2024-06-05T02:58:10.922999Z"
        },
        "trusted": true,
        "id": "CbKhkcBv5fbq",
        "outputId": "b07898db-ddf9-4f01-a0bf-fcbc271b6ba8"
      },
      "execution_count": null,
      "outputs": [
        {
          "output_type": "display_data",
          "data": {
            "text/plain": "<Figure size 640x480 with 2 Axes>",
            "image/png": "[encoded data removed]"
          },
          "metadata": {}
        }
      ]
    },
    {
      "cell_type": "markdown",
      "source": [
        "### Step-5.1.3. Classification report <a class=\"anchor\" id=\"plot_knn_class_rep_all\"></a> <p style='text-align: right; font-size: 15px; color:blue; font-weight: bold;'> [Go to Main Menu](#toc) </p>"
      ],
      "metadata": {
        "id": "1sqgfdfy5fbq"
      }
    },
    {
      "cell_type": "code",
      "source": [
        "print(classification_report(y_test, y_pred, target_names=data.target_names))"
      ],
      "metadata": {
        "jupyter": {
          "source_hidden": true
        },
        "execution": {
          "iopub.status.busy": "2024-06-05T02:58:10.925835Z",
          "iopub.execute_input": "2024-06-05T02:58:10.926291Z",
          "iopub.status.idle": "2024-06-05T02:58:10.945703Z",
          "shell.execute_reply.started": "2024-06-05T02:58:10.926251Z",
          "shell.execute_reply": "2024-06-05T02:58:10.944415Z"
        },
        "trusted": true,
        "id": "Q8LVusOJ5fbq",
        "outputId": "b7b58134-0523-4625-e228-51a67dfcf3ba"
      },
      "execution_count": null,
      "outputs": [
        {
          "name": "stdout",
          "text": "              precision    recall  f1-score   support\n\n   malignant       1.00      0.90      0.95        42\n      benign       0.95      1.00      0.97        72\n\n    accuracy                           0.96       114\n   macro avg       0.97      0.95      0.96       114\nweighted avg       0.97      0.96      0.96       114\n\n",
          "output_type": "stream"
        }
      ]
    },
    {
      "cell_type": "markdown",
      "source": [
        "### Step-5.1.4. Print the Time taken for model training and testing <a class=\"anchor\" id=\"knn_time_all\"></a> <p style='text-align: right; font-size: 15px; color:blue; font-weight: bold;'> [Go to Main Menu](#toc) </p>"
      ],
      "metadata": {
        "id": "LORz8JzN5fbq"
      }
    },
    {
      "cell_type": "code",
      "source": [
        "print(\"Time taken by KNN-classifier for training is: \", round(knn_train_time_end - knn_train_time_start, 4), \"secs\")\n",
        "print(\"Time taken by KNN-classifier for testing is: \", round(knn_test_time_end - knn_test_time_start, 4), \"secs\")"
      ],
      "metadata": {
        "jupyter": {
          "source_hidden": true
        },
        "execution": {
          "iopub.status.busy": "2024-06-05T02:58:10.947148Z",
          "iopub.execute_input": "2024-06-05T02:58:10.947493Z",
          "iopub.status.idle": "2024-06-05T02:58:10.953533Z",
          "shell.execute_reply.started": "2024-06-05T02:58:10.947466Z",
          "shell.execute_reply": "2024-06-05T02:58:10.952459Z"
        },
        "trusted": true,
        "id": "PcJpsMTb5fbq",
        "outputId": "e16689ac-4d23-4bc1-c3a6-d20b5e32aa36"
      },
      "execution_count": null,
      "outputs": [
        {
          "name": "stdout",
          "text": "Time taken by KNN-classifier for training is:  0.0044 secs\nTime taken by KNN-classifier for testing is:  0.015 secs\n",
          "output_type": "stream"
        }
      ]
    },
    {
      "cell_type": "markdown",
      "source": [
        "### Select the best features using the 'SequentialFeatureSelector'for KNN classifier <a class=\"anchor\" id=\"select_best_feats_knn\"></a> <p style='text-align: right; font-size: 15px; color:blue; font-weight: bold;'> [Go to Main Menu](#toc) </p>"
      ],
      "metadata": {
        "id": "5r4TGaYL5fbr"
      }
    },
    {
      "cell_type": "code",
      "source": [
        "# nearset neighbors\n",
        "knn = KNeighborsClassifier()\n",
        "\n",
        "# Forward selection\n",
        "tic =time.time()\n",
        "sfs = SequentialFeatureSelector(knn, n_features_to_select=5, direction='forward')\n",
        "sfs.fit(X_train, y_train)\n",
        "toc= time.time()\n",
        "features = feature_names[sfs.get_support()]\n",
        "\n",
        "print(\"KNN Classifier\")\n",
        "print(f\"Top 5 features:{features}\")\n",
        "print(f\"Forward selection took {round(toc-tic, 2)} seconds\")"
      ],
      "metadata": {
        "execution": {
          "iopub.status.busy": "2024-06-05T02:58:10.954990Z",
          "iopub.execute_input": "2024-06-05T02:58:10.955323Z",
          "iopub.status.idle": "2024-06-05T02:58:19.453414Z",
          "shell.execute_reply.started": "2024-06-05T02:58:10.955277Z",
          "shell.execute_reply": "2024-06-05T02:58:19.452246Z"
        },
        "trusted": true,
        "id": "PYvNHcR35fbr",
        "outputId": "a34a7b64-b94f-4b21-f425-52fa13d0a90f"
      },
      "execution_count": null,
      "outputs": [
        {
          "name": "stdout",
          "text": "KNN Classifier\nTop 5 features:['mean smoothness' 'perimeter error' 'worst radius' 'worst texture'\n 'worst concavity']\nForward selection took 8.48 seconds\n",
          "output_type": "stream"
        }
      ]
    },
    {
      "cell_type": "markdown",
      "source": [
        "### Train the KNN Classifier with the selected features <a class=\"anchor\" id=\"train_knn_select_best_feats\"></a> <p style='text-align: right; font-size: 15px; color:blue; font-weight: bold;'> [Go to Main Menu](#toc) </p>"
      ],
      "metadata": {
        "id": "BcP6yJGv5fbr"
      }
    },
    {
      "cell_type": "code",
      "source": [
        "# train the knn model with the selected features\n",
        "start_train_time_knns = time.time()\n",
        "\n",
        "knn.fit(sfs.transform(X_train), y_train)\n",
        "\n",
        "end_train_time_knns = time.time()"
      ],
      "metadata": {
        "execution": {
          "iopub.status.busy": "2024-06-05T02:58:19.454878Z",
          "iopub.execute_input": "2024-06-05T02:58:19.455292Z",
          "iopub.status.idle": "2024-06-05T02:58:19.466439Z",
          "shell.execute_reply.started": "2024-06-05T02:58:19.455248Z",
          "shell.execute_reply": "2024-06-05T02:58:19.465287Z"
        },
        "trusted": true,
        "id": "7XbkLqNl5fbr"
      },
      "execution_count": null,
      "outputs": []
    },
    {
      "cell_type": "markdown",
      "source": [
        "### Make predictions on the test data using trained classifier <a class=\"anchor\" id=\"predict_knn_select_feats\"></a> <p style='text-align: right; font-size: 15px; color:blue; font-weight: bold;'> [Go to Main Menu](#toc) </p>"
      ],
      "metadata": {
        "id": "S4gO4jm15fbs"
      }
    },
    {
      "cell_type": "code",
      "source": [
        "start_test_time_knns = time.time()\n",
        "\n",
        "yhat = knn.predict(sfs.transform(X_test))\n",
        "\n",
        "end_test_time_knns = time.time()"
      ],
      "metadata": {
        "execution": {
          "iopub.status.busy": "2024-06-05T02:58:19.468060Z",
          "iopub.execute_input": "2024-06-05T02:58:19.468498Z",
          "iopub.status.idle": "2024-06-05T02:58:19.488222Z",
          "shell.execute_reply.started": "2024-06-05T02:58:19.468458Z",
          "shell.execute_reply": "2024-06-05T02:58:19.487121Z"
        },
        "trusted": true,
        "id": "qfSeD8I15fbs"
      },
      "execution_count": null,
      "outputs": []
    },
    {
      "cell_type": "markdown",
      "source": [
        "### Print the Metrices (Train and Test Accuracy) <a class=\"anchor\" id=\"print_knn_mat_select\"></a> <p style='text-align: right; font-size: 15px; color:blue; font-weight: bold;'> [Go to Main Menu](#toc) </p>"
      ],
      "metadata": {
        "id": "B6_p0d2o5fbs"
      }
    },
    {
      "cell_type": "code",
      "source": [
        "print(f\"Train accuracy: {knn.score(sfs.transform(X_train), y_train):.3f}\")\n",
        "print(f\"Test accuracy: {knn.score(sfs.transform(X_test), y_test):.3f}\")"
      ],
      "metadata": {
        "execution": {
          "iopub.status.busy": "2024-06-05T02:58:19.489577Z",
          "iopub.execute_input": "2024-06-05T02:58:19.489923Z",
          "iopub.status.idle": "2024-06-05T02:58:19.540884Z",
          "shell.execute_reply.started": "2024-06-05T02:58:19.489895Z",
          "shell.execute_reply": "2024-06-05T02:58:19.539777Z"
        },
        "trusted": true,
        "id": "NqQgVwDP5fbs",
        "outputId": "9fbd8948-e7d6-4cc5-e1f4-89eba630825b"
      },
      "execution_count": null,
      "outputs": [
        {
          "name": "stdout",
          "text": "Train accuracy: 0.954\nTest accuracy: 0.921\n",
          "output_type": "stream"
        }
      ]
    },
    {
      "cell_type": "markdown",
      "source": [
        "### Plot Confusion Matrix <a class=\"anchor\" id=\"plot_knn_conf_mat_select\"></a> <p style='text-align: right; font-size: 15px; color:blue; font-weight: bold;'> [Go to Main Menu](#toc) </p>\n"
      ],
      "metadata": {
        "id": "Rog9cg5y5fbs"
      }
    },
    {
      "cell_type": "code",
      "source": [
        "# confusion matrix\n",
        "cm = confusion_matrix(y_test, yhat)\n",
        "cm_display = ConfusionMatrixDisplay(cm, display_labels=data.target_names).plot()\n",
        "plt.title('KNN Classifier')\n",
        "plt.show()"
      ],
      "metadata": {
        "execution": {
          "iopub.status.busy": "2024-06-05T02:58:19.542107Z",
          "iopub.execute_input": "2024-06-05T02:58:19.542397Z",
          "iopub.status.idle": "2024-06-05T02:58:19.811968Z",
          "shell.execute_reply.started": "2024-06-05T02:58:19.542372Z",
          "shell.execute_reply": "2024-06-05T02:58:19.810906Z"
        },
        "trusted": true,
        "id": "WmLI2dd25fbs",
        "outputId": "17d94c36-7d78-45ac-fb2d-32d733311929"
      },
      "execution_count": null,
      "outputs": [
        {
          "output_type": "display_data",
          "data": {
            "text/plain": "<Figure size 640x480 with 2 Axes>",
            "image/png": "[encoded data removed]"
          },
          "metadata": {}
        }
      ]
    },
    {
      "cell_type": "markdown",
      "source": [
        "### Classification report <a class=\"anchor\" id=\"plot_knn_class_rep_select\"></a> <p style='text-align: right; font-size: 15px; color:blue; font-weight: bold;'> [Go to Main Menu](#toc) </p>"
      ],
      "metadata": {
        "id": "lth4rskZ5fbs"
      }
    },
    {
      "cell_type": "code",
      "source": [
        "print(classification_report(y_test, y_pred, target_names=data.target_names))"
      ],
      "metadata": {
        "execution": {
          "iopub.status.busy": "2024-06-05T02:58:19.813309Z",
          "iopub.execute_input": "2024-06-05T02:58:19.813645Z",
          "iopub.status.idle": "2024-06-05T02:58:19.831320Z",
          "shell.execute_reply.started": "2024-06-05T02:58:19.813617Z",
          "shell.execute_reply": "2024-06-05T02:58:19.830086Z"
        },
        "trusted": true,
        "id": "hWqjPqhY5fbs",
        "outputId": "2a239984-eef8-46d3-de29-2e708588921c"
      },
      "execution_count": null,
      "outputs": [
        {
          "name": "stdout",
          "text": "              precision    recall  f1-score   support\n\n   malignant       1.00      0.90      0.95        42\n      benign       0.95      1.00      0.97        72\n\n    accuracy                           0.96       114\n   macro avg       0.97      0.95      0.96       114\nweighted avg       0.97      0.96      0.96       114\n\n",
          "output_type": "stream"
        }
      ]
    },
    {
      "cell_type": "markdown",
      "source": [
        "### Print the Time taken for model training and testing <a class=\"anchor\" id=\"knn_time_select\"></a> <p style='text-align: right; font-size: 15px; color:blue; font-weight: bold;'> [Go to Main Menu](#toc) </p>"
      ],
      "metadata": {
        "id": "rKNV2vZL5fbs"
      }
    },
    {
      "cell_type": "code",
      "source": [
        "print(\"Time taken by KNN-classifier for training is: \", round(end_train_time_knns - start_train_time_knns, 4), \"secs\")\n",
        "print(\"Time taken by KNN-classifier for testing is: \", round(end_test_time_knns - start_test_time_knns, 4), \"secs\")"
      ],
      "metadata": {
        "execution": {
          "iopub.status.busy": "2024-06-05T02:58:19.832952Z",
          "iopub.execute_input": "2024-06-05T02:58:19.833318Z",
          "iopub.status.idle": "2024-06-05T02:58:19.839520Z",
          "shell.execute_reply.started": "2024-06-05T02:58:19.833287Z",
          "shell.execute_reply": "2024-06-05T02:58:19.838453Z"
        },
        "trusted": true,
        "id": "GG0ZfjA85fbt",
        "outputId": "03677b48-f2df-43e3-e8ff-d12cdbc6eb3d"
      },
      "execution_count": null,
      "outputs": [
        {
          "name": "stdout",
          "text": "Time taken by KNN-classifier for training is:  0.0043 secs\nTime taken by KNN-classifier for testing is:  0.0106 secs\n",
          "output_type": "stream"
        }
      ]
    },
    {
      "cell_type": "markdown",
      "source": [
        "### Hyperparameter tuning: KNN's K-Parameter Tuning <a class=\"anchor\" id=\"hyper_param_tuning\"></a> <p style='text-align: right; font-size: 15px; color:blue; font-weight: bold;'> [Go to Main Menu](#toc) </p>"
      ],
      "metadata": {
        "id": "MZGAQIbj5fbt"
      }
    },
    {
      "cell_type": "code",
      "source": [
        "k_values = [i for i in range (1,31)]\n",
        "scores = []\n",
        "\n",
        "for k in k_values:\n",
        "    knn = KNeighborsClassifier(n_neighbors=k)\n",
        "\n",
        "    # Cross validation is the standard approach here, but let's experiment with the accuracy this time\n",
        "    # score = cross_val_score(knn, X_train, y_train, cv=5)\n",
        "\n",
        "    knn.fit(sfs.transform(X_train), y_train)\n",
        "    score = accuracy_score(y_test, knn.predict(sfs.transform(X_test)))\n",
        "\n",
        "    scores.append(np.mean(score))"
      ],
      "metadata": {
        "execution": {
          "iopub.status.busy": "2024-06-05T02:58:19.841237Z",
          "iopub.execute_input": "2024-06-05T02:58:19.841568Z",
          "iopub.status.idle": "2024-06-05T02:58:20.345730Z",
          "shell.execute_reply.started": "2024-06-05T02:58:19.841540Z",
          "shell.execute_reply": "2024-06-05T02:58:20.344718Z"
        },
        "trusted": true,
        "id": "PEc13xPO5fbt"
      },
      "execution_count": null,
      "outputs": []
    },
    {
      "cell_type": "code",
      "source": [
        "fig, ax = plt.subplots()\n",
        "sns.lineplot(x = k_values, y = scores, marker = 'o')\n",
        "\n",
        "ax.set_xlim(1,31)\n",
        "ax.set_xticks(range(1,31))\n",
        "\n",
        "plt.xlabel(\"K Values\")\n",
        "plt.ylabel(\"Accuracy Score\")\n",
        "\n",
        "# Get k corresponding to max value of score\n",
        "best_k = k_values[scores.index(max(scores))]\n",
        "print(\"Best value of k:\", best_k)"
      ],
      "metadata": {
        "execution": {
          "iopub.status.busy": "2024-06-05T02:58:20.347087Z",
          "iopub.execute_input": "2024-06-05T02:58:20.347415Z",
          "iopub.status.idle": "2024-06-05T02:58:20.748290Z",
          "shell.execute_reply.started": "2024-06-05T02:58:20.347387Z",
          "shell.execute_reply": "2024-06-05T02:58:20.747053Z"
        },
        "trusted": true,
        "id": "AeEUBA8D5fbt",
        "outputId": "1bc727f8-e96e-474a-8ff5-abb03029ab8a"
      },
      "execution_count": null,
      "outputs": [
        {
          "name": "stdout",
          "text": "Best value of k: 6\n",
          "output_type": "stream"
        },
        {
          "output_type": "display_data",
          "data": {
            "text/plain": "<Figure size 640x480 with 1 Axes>",
            "image/png": "[encoded data removed]"
          },
          "metadata": {}
        }
      ]
    },
    {
      "cell_type": "code",
      "source": [
        "from IPython.display import Markdown as md\n",
        "\n",
        "md(\"#### Observation:: <br><br> From the above chart, we can observe that for values k= {}, the accuracy is the highest. so lets retrain our model with the value of k set to {}.\".format(best_k, best_k))"
      ],
      "metadata": {
        "execution": {
          "iopub.status.busy": "2024-06-05T02:58:20.749616Z",
          "iopub.execute_input": "2024-06-05T02:58:20.749951Z",
          "iopub.status.idle": "2024-06-05T02:58:20.757108Z",
          "shell.execute_reply.started": "2024-06-05T02:58:20.749923Z",
          "shell.execute_reply": "2024-06-05T02:58:20.756096Z"
        },
        "trusted": true,
        "id": "GYdufmgD5fbt",
        "outputId": "c185d37a-0cd5-4aa5-c973-153ab718f67d"
      },
      "execution_count": null,
      "outputs": [
        {
          "execution_count": 631,
          "output_type": "execute_result",
          "data": {
            "text/plain": "<IPython.core.display.Markdown object>",
            "text/markdown": "#### Observation:: <br><br> From the above chart, we can observe that for values k= 6, the accuracy is the highest. so lets retrain our model with the value of k set to 6."
          },
          "metadata": {}
        }
      ]
    },
    {
      "cell_type": "markdown",
      "source": [
        "### Retrain with the Tuned k-parameter <a class=\"anchor\" id=\"retrain_with_knn\"></a> <p style='text-align: right; font-size: 15px; color:blue; font-weight: bold;'> [Go to Main Menu](#toc) </p>"
      ],
      "metadata": {
        "id": "ZAXdiZB65fbt"
      }
    },
    {
      "cell_type": "code",
      "source": [
        "knn = KNeighborsClassifier(n_neighbors=best_k)\n",
        "\n",
        "start_train_time_knns_k = time.time()\n",
        "\n",
        "knn.fit(sfs.transform(X_train), y_train)\n",
        "\n",
        "end_train_time_knns_k = time.time()"
      ],
      "metadata": {
        "execution": {
          "iopub.status.busy": "2024-06-05T02:58:20.762883Z",
          "iopub.execute_input": "2024-06-05T02:58:20.763420Z",
          "iopub.status.idle": "2024-06-05T02:58:20.774392Z",
          "shell.execute_reply.started": "2024-06-05T02:58:20.763386Z",
          "shell.execute_reply": "2024-06-05T02:58:20.773331Z"
        },
        "trusted": true,
        "id": "YWHcaq0Q5fbt"
      },
      "execution_count": null,
      "outputs": []
    },
    {
      "cell_type": "markdown",
      "source": [
        "### Make predictions on the test data using trained classifier <a class=\"anchor\" id=\"predict_knn_select_feats_k\"></a> <p style='text-align: right; font-size: 15px; color:blue; font-weight: bold;'> [Go to Main Menu](#toc) </p>"
      ],
      "metadata": {
        "id": "IjWBF9605fbt"
      }
    },
    {
      "cell_type": "code",
      "source": [
        "start_test_time_knns_k = time.time()\n",
        "\n",
        "yhat = knn.predict(sfs.transform(X_test))\n",
        "\n",
        "end_test_time_knns_k = time.time()"
      ],
      "metadata": {
        "execution": {
          "iopub.status.busy": "2024-06-05T02:58:20.779132Z",
          "iopub.execute_input": "2024-06-05T02:58:20.779539Z",
          "iopub.status.idle": "2024-06-05T02:58:20.801001Z",
          "shell.execute_reply.started": "2024-06-05T02:58:20.779500Z",
          "shell.execute_reply": "2024-06-05T02:58:20.799992Z"
        },
        "trusted": true,
        "id": "g2adK0aB5fbt"
      },
      "execution_count": null,
      "outputs": []
    },
    {
      "cell_type": "markdown",
      "source": [
        "### Print the Metrices (Train and Test Accuracy) <a class=\"anchor\" id=\"print_knn_mat_select_k\"></a> <p style='text-align: right; font-size: 15px; color:blue; font-weight: bold;'> [Go to Main Menu](#toc) </p>"
      ],
      "metadata": {
        "id": "2vHYHZvS5fbu"
      }
    },
    {
      "cell_type": "code",
      "source": [
        "print(f\"Train accuracy: {knn.score(sfs.transform(X_train), y_train):.3f}\")\n",
        "print(f\"Test accuracy: {knn.score(sfs.transform(X_test), y_test):.3f}\")"
      ],
      "metadata": {
        "execution": {
          "iopub.status.busy": "2024-06-05T02:58:20.802288Z",
          "iopub.execute_input": "2024-06-05T02:58:20.802733Z",
          "iopub.status.idle": "2024-06-05T02:58:20.852961Z",
          "shell.execute_reply.started": "2024-06-05T02:58:20.802696Z",
          "shell.execute_reply": "2024-06-05T02:58:20.851852Z"
        },
        "trusted": true,
        "id": "gRr4thso5fbu",
        "outputId": "e557396d-995f-4bbe-b4b0-2a2f554c64ea"
      },
      "execution_count": null,
      "outputs": [
        {
          "name": "stdout",
          "text": "Train accuracy: 0.956\nTest accuracy: 0.939\n",
          "output_type": "stream"
        }
      ]
    },
    {
      "cell_type": "markdown",
      "source": [
        "### Plot Confusion Matrix <a class=\"anchor\" id=\"plot_knn_conf_mat_select_k\"></a> <p style='text-align: right; font-size: 15px; color:blue; font-weight: bold;'> [Go to Main Menu](#toc) </p>"
      ],
      "metadata": {
        "id": "EsWqL34T5fbu"
      }
    },
    {
      "cell_type": "code",
      "source": [
        "# confusion matrix\n",
        "cm = confusion_matrix(y_test, yhat)\n",
        "cm_display = ConfusionMatrixDisplay(cm, display_labels=data.target_names).plot()\n",
        "plt.title('KNN Classifier')\n",
        "plt.show()"
      ],
      "metadata": {
        "execution": {
          "iopub.status.busy": "2024-06-05T02:58:20.854377Z",
          "iopub.execute_input": "2024-06-05T02:58:20.854797Z",
          "iopub.status.idle": "2024-06-05T02:58:21.135203Z",
          "shell.execute_reply.started": "2024-06-05T02:58:20.854736Z",
          "shell.execute_reply": "2024-06-05T02:58:21.134101Z"
        },
        "trusted": true,
        "id": "PI_IHxd45fbu",
        "outputId": "985ed8ff-6aa7-4118-d165-9b370a349c13"
      },
      "execution_count": null,
      "outputs": [
        {
          "output_type": "display_data",
          "data": {
            "text/plain": "<Figure size 640x480 with 2 Axes>",
            "image/png": "[encoded data removed]"
          },
          "metadata": {}
        }
      ]
    },
    {
      "cell_type": "markdown",
      "source": [
        "### Classification report <a class=\"anchor\" id=\"plot_knn_class_rep_select_k\"></a> <p style='text-align: right; font-size: 15px; color:blue; font-weight: bold;'> [Go to Main Menu](#toc) </p>"
      ],
      "metadata": {
        "id": "10jpPeuU5fbu"
      }
    },
    {
      "cell_type": "code",
      "source": [
        "print(classification_report(y_test, y_pred, target_names=data.target_names))"
      ],
      "metadata": {
        "execution": {
          "iopub.status.busy": "2024-06-05T02:58:21.136744Z",
          "iopub.execute_input": "2024-06-05T02:58:21.137196Z",
          "iopub.status.idle": "2024-06-05T02:58:21.158947Z",
          "shell.execute_reply.started": "2024-06-05T02:58:21.137158Z",
          "shell.execute_reply": "2024-06-05T02:58:21.157888Z"
        },
        "trusted": true,
        "id": "RSok_JRU5fbu",
        "outputId": "e4840268-47c5-4a26-b337-87c1e1d646cd"
      },
      "execution_count": null,
      "outputs": [
        {
          "name": "stdout",
          "text": "              precision    recall  f1-score   support\n\n   malignant       1.00      0.90      0.95        42\n      benign       0.95      1.00      0.97        72\n\n    accuracy                           0.96       114\n   macro avg       0.97      0.95      0.96       114\nweighted avg       0.97      0.96      0.96       114\n\n",
          "output_type": "stream"
        }
      ]
    },
    {
      "cell_type": "markdown",
      "source": [
        "### Print the Time taken for model training and testing <a class=\"anchor\" id=\"knn_time_select_k\"></a> <p style='text-align: right; font-size: 15px; color:blue; font-weight: bold;'> [Go to Main Menu](#toc) </p>"
      ],
      "metadata": {
        "id": "gAq7Nr2r5fbu"
      }
    },
    {
      "cell_type": "code",
      "source": [
        "print(\"Time taken by KNN-classifier for training is: \", round(end_train_time_knns_k - start_train_time_knns_k, 4), \"secs\")\n",
        "print(\"Time taken by KNN-classifier for testing is: \", round(end_test_time_knns_k - start_test_time_knns_k, 4), \"secs\")"
      ],
      "metadata": {
        "execution": {
          "iopub.status.busy": "2024-06-05T02:58:21.160645Z",
          "iopub.execute_input": "2024-06-05T02:58:21.160983Z",
          "iopub.status.idle": "2024-06-05T02:58:21.167574Z",
          "shell.execute_reply.started": "2024-06-05T02:58:21.160956Z",
          "shell.execute_reply": "2024-06-05T02:58:21.166420Z"
        },
        "trusted": true,
        "id": "QSbSXsOk5fbu",
        "outputId": "c0540000-582b-4f5b-929b-214107e2ffef"
      },
      "execution_count": null,
      "outputs": [
        {
          "name": "stdout",
          "text": "Time taken by KNN-classifier for training is:  0.0047 secs\nTime taken by KNN-classifier for testing is:  0.0138 secs\n",
          "output_type": "stream"
        }
      ]
    },
    {
      "cell_type": "markdown",
      "source": [
        "### Classifier: NB <a class=\"anchor\" id=\"classifier_nb\"></a> <p style='text-align: right; font-size: 15px; color:blue; font-weight: bold;'> [Go to Main Menu](#toc) </p>"
      ],
      "metadata": {
        "id": "aLxH_VIq5fbu"
      }
    },
    {
      "cell_type": "markdown",
      "source": [
        "### Train the Naive Bayes with all the features <a class=\"anchor\" id=\"train_nb_all_feats\"></a> <p style='text-align: right; font-size: 15px; color:blue; font-weight: bold;'> [Go to Main Menu](#toc) </p>"
      ],
      "metadata": {
        "id": "ealGHzvw5fbv"
      }
    },
    {
      "cell_type": "code",
      "source": [
        "gnb_train_time_start, gnb_train_time_end, gnb_test_time_start, gnb_test_time_end, y_pred = run_classifier(\"NB\", X_train_scaled, y_train)"
      ],
      "metadata": {
        "execution": {
          "iopub.status.busy": "2024-06-05T02:58:21.168922Z",
          "iopub.execute_input": "2024-06-05T02:58:21.169257Z",
          "iopub.status.idle": "2024-06-05T02:58:21.187046Z",
          "shell.execute_reply.started": "2024-06-05T02:58:21.169223Z",
          "shell.execute_reply": "2024-06-05T02:58:21.185359Z"
        },
        "trusted": true,
        "id": "uQz1cp095fbv"
      },
      "execution_count": null,
      "outputs": []
    },
    {
      "cell_type": "markdown",
      "source": [
        " ### Print the Metrices (Accuracy, Precision and Recall) <a class=\"anchor\" id=\"print_nb_mat_all\"></a> <p style='text-align: right; font-size: 15px; color:blue; font-weight: bold;'> [Go to Main Menu](#toc) </p>"
      ],
      "metadata": {
        "id": "yfpRz0ce5fbv"
      }
    },
    {
      "cell_type": "code",
      "source": [
        "accuracy = accuracy_score(y_test, y_pred)\n",
        "precision = precision_score(y_test, y_pred)\n",
        "recall = recall_score(y_test, y_pred)\n",
        "\n",
        "print(\"Accuracy:\", round(accuracy, 4))\n",
        "print(\"Precision:\", round(precision, 4))\n",
        "print(\"Recall:\", round(recall))"
      ],
      "metadata": {
        "execution": {
          "iopub.status.busy": "2024-06-05T02:58:21.188929Z",
          "iopub.execute_input": "2024-06-05T02:58:21.189392Z",
          "iopub.status.idle": "2024-06-05T02:58:21.217429Z",
          "shell.execute_reply.started": "2024-06-05T02:58:21.189350Z",
          "shell.execute_reply": "2024-06-05T02:58:21.216385Z"
        },
        "trusted": true,
        "id": "YA4g1a9L5fbv",
        "outputId": "3655cb1f-1697-404e-f126-c403b801ed6f"
      },
      "execution_count": null,
      "outputs": [
        {
          "name": "stdout",
          "text": "Accuracy: 0.9474\nPrecision: 0.9459\nRecall: 1\n",
          "output_type": "stream"
        }
      ]
    },
    {
      "cell_type": "markdown",
      "source": [
        "### Plot Confusion Matrix <a class=\"anchor\" id=\"plot_nb_conf_mat_all\"></a> <p style='text-align: right; font-size: 15px; color:blue; font-weight: bold;'> [Go to Main Menu](#toc) </p>"
      ],
      "metadata": {
        "id": "bMWKDs4z5fbv"
      }
    },
    {
      "cell_type": "code",
      "source": [
        "cm = confusion_matrix(y_test, y_pred)\n",
        "cm_display = ConfusionMatrixDisplay(cm, display_labels=data.target_names).plot()\n",
        "plt.title('Naive bayes Classifier')\n",
        "plt.show()"
      ],
      "metadata": {
        "execution": {
          "iopub.status.busy": "2024-06-05T02:58:21.218737Z",
          "iopub.execute_input": "2024-06-05T02:58:21.219061Z",
          "iopub.status.idle": "2024-06-05T02:58:21.494906Z",
          "shell.execute_reply.started": "2024-06-05T02:58:21.219034Z",
          "shell.execute_reply": "2024-06-05T02:58:21.493795Z"
        },
        "trusted": true,
        "id": "S5W_tMKF5fbv",
        "outputId": "5843b170-11bb-4a66-e50b-02b6c984435d"
      },
      "execution_count": null,
      "outputs": [
        {
          "output_type": "display_data",
          "data": {
            "text/plain": "<Figure size 640x480 with 2 Axes>",
            "image/png": "[encoded data removed]"
          },
          "metadata": {}
        }
      ]
    },
    {
      "cell_type": "markdown",
      "source": [
        "### Classification report <a class=\"anchor\" id=\"plot_nb_class_rep_all\"></a> <p style='text-align: right; font-size: 15px; color:blue; font-weight: bold;'> [Go to Main Menu](#toc) </p>"
      ],
      "metadata": {
        "id": "lExq80BA5fbv"
      }
    },
    {
      "cell_type": "code",
      "source": [
        "print(classification_report(y_test, y_pred, target_names=data.target_names))"
      ],
      "metadata": {
        "jupyter": {
          "source_hidden": true
        },
        "execution": {
          "iopub.status.busy": "2024-06-05T02:58:21.496384Z",
          "iopub.execute_input": "2024-06-05T02:58:21.496823Z",
          "iopub.status.idle": "2024-06-05T02:58:21.517084Z",
          "shell.execute_reply.started": "2024-06-05T02:58:21.496785Z",
          "shell.execute_reply": "2024-06-05T02:58:21.515788Z"
        },
        "trusted": true,
        "id": "sKGCVaBA5fbv",
        "outputId": "3f436bd9-7d7d-4e33-ef8a-b452c608cae9"
      },
      "execution_count": null,
      "outputs": [
        {
          "name": "stdout",
          "text": "              precision    recall  f1-score   support\n\n   malignant       0.95      0.90      0.93        42\n      benign       0.95      0.97      0.96        72\n\n    accuracy                           0.95       114\n   macro avg       0.95      0.94      0.94       114\nweighted avg       0.95      0.95      0.95       114\n\n",
          "output_type": "stream"
        }
      ]
    },
    {
      "cell_type": "markdown",
      "source": [
        "### Print the Time taken for model training and testing <a class=\"anchor\" id=\"nb_time_all\"></a> <p style='text-align: right; font-size: 15px; color:blue; font-weight: bold;'> [Go to Main Menu](#toc) </p>"
      ],
      "metadata": {
        "id": "hBESgm7x5fbv"
      }
    },
    {
      "cell_type": "code",
      "source": [
        "print(\"Time taken by NB-classifier for training is: \", round(gnb_train_time_end - gnb_train_time_start, 4), \"secs\")\n",
        "print(\"Time taken by NB-classifier for testing is: \", round(gnb_test_time_end - gnb_test_time_start, 4), \"secs\")"
      ],
      "metadata": {
        "execution": {
          "iopub.status.busy": "2024-06-05T02:58:21.518334Z",
          "iopub.execute_input": "2024-06-05T02:58:21.518668Z",
          "iopub.status.idle": "2024-06-05T02:58:21.525210Z",
          "shell.execute_reply.started": "2024-06-05T02:58:21.518640Z",
          "shell.execute_reply": "2024-06-05T02:58:21.524019Z"
        },
        "trusted": true,
        "id": "MvVHY4nr5fbv",
        "outputId": "b4ca7268-0cda-49fc-a606-263720b2583d"
      },
      "execution_count": null,
      "outputs": [
        {
          "name": "stdout",
          "text": "Time taken by NB-classifier for training is:  0.0046 secs\nTime taken by NB-classifier for testing is:  0.0007 secs\n",
          "output_type": "stream"
        }
      ]
    },
    {
      "cell_type": "markdown",
      "source": [
        "### Select the best features using the 'SequentialFeatureSelector'for NB classifier <a class=\"anchor\" id=\"select_best_feats_nb\"></a> <p style='text-align: right; font-size: 15px; color:blue; font-weight: bold;'> [Go to Main Menu](#toc) </p>"
      ],
      "metadata": {
        "id": "V0-013We5fbw"
      }
    },
    {
      "cell_type": "code",
      "source": [
        "gnb = GaussianNB()\n",
        "\n",
        "# Forward selection\n",
        "tic =time.time()\n",
        "sfs = SequentialFeatureSelector(gnb, n_features_to_select=5, direction='forward')\n",
        "sfs.fit(X_train, y_train)\n",
        "toc= time.time()\n",
        "features = feature_names[sfs.get_support()]\n",
        "print(\"Naive Bayes Classifier\")\n",
        "print(f\"Top 5 features with SFS forward:{features}\")\n",
        "print(f\"Forward selection took {toc-tic} seconds\")"
      ],
      "metadata": {
        "jupyter": {
          "source_hidden": true
        },
        "execution": {
          "iopub.status.busy": "2024-06-05T02:58:21.526701Z",
          "iopub.execute_input": "2024-06-05T02:58:21.527081Z",
          "iopub.status.idle": "2024-06-05T02:58:26.297950Z",
          "shell.execute_reply.started": "2024-06-05T02:58:21.527042Z",
          "shell.execute_reply": "2024-06-05T02:58:26.296778Z"
        },
        "trusted": true,
        "id": "uYjYOSfl5fbw",
        "outputId": "29a873d1-f259-40de-9277-7555fb9825f3"
      },
      "execution_count": null,
      "outputs": [
        {
          "name": "stdout",
          "text": "Naive Bayes Classifier\nTop 5 features with SFS forward:['mean fractal dimension' 'texture error' 'worst texture'\n 'worst perimeter' 'worst smoothness']\nForward selection took 4.759461402893066 seconds\n",
          "output_type": "stream"
        }
      ]
    },
    {
      "cell_type": "markdown",
      "source": [
        "### Train the NB Classifier with the selected features <a class=\"anchor\" id=\"train_nb_select_feats\"></a> <p style='text-align: right; font-size: 15px; color:blue; font-weight: bold;'> [Go to Main Menu](#toc) </p>"
      ],
      "metadata": {
        "id": "T-9G2ZCf5fbw"
      }
    },
    {
      "cell_type": "code",
      "source": [
        "# train the model\n",
        "\n",
        "start_train_time_nbs = time.time()\n",
        "\n",
        "gnb.fit(sfs.transform(X_train), y_train)\n",
        "\n",
        "end_train_time_nbs = time.time()"
      ],
      "metadata": {
        "execution": {
          "iopub.status.busy": "2024-06-05T02:58:26.299620Z",
          "iopub.execute_input": "2024-06-05T02:58:26.300105Z",
          "iopub.status.idle": "2024-06-05T02:58:26.313825Z",
          "shell.execute_reply.started": "2024-06-05T02:58:26.300057Z",
          "shell.execute_reply": "2024-06-05T02:58:26.312644Z"
        },
        "trusted": true,
        "id": "hYOHqzAq5fbw"
      },
      "execution_count": null,
      "outputs": []
    },
    {
      "cell_type": "markdown",
      "source": [
        "### Make predictions on the test data using trained classifier <a class=\"anchor\" id=\"predict_nb_select_feats\"></a> <p style='text-align: right; font-size: 15px; color:blue; font-weight: bold;'> [Go to Main Menu](#toc) </p>"
      ],
      "metadata": {
        "id": "XkbDKG2H5fbw"
      }
    },
    {
      "cell_type": "code",
      "source": [
        "start_test_time_nbs = time.time()\n",
        "\n",
        "yhat = gnb.predict(sfs.transform(X_test))\n",
        "\n",
        "end_test_time_nbs = time.time()"
      ],
      "metadata": {
        "execution": {
          "iopub.status.busy": "2024-06-05T02:58:26.315472Z",
          "iopub.execute_input": "2024-06-05T02:58:26.315902Z",
          "iopub.status.idle": "2024-06-05T02:58:26.328166Z",
          "shell.execute_reply.started": "2024-06-05T02:58:26.315870Z",
          "shell.execute_reply": "2024-06-05T02:58:26.326545Z"
        },
        "trusted": true,
        "id": "pDK7e-vg5fbw"
      },
      "execution_count": null,
      "outputs": []
    },
    {
      "cell_type": "markdown",
      "source": [
        "### Print the Metrices (Accuracy, Precision and Recall) <a class=\"anchor\" id=\"print_nb_mat_select\"></a> <p style='text-align: right; font-size: 15px; color:blue; font-weight: bold;'> [Go to Main Menu](#toc) </p>"
      ],
      "metadata": {
        "id": "cKiKKtdw5fbw"
      }
    },
    {
      "cell_type": "code",
      "source": [
        "print(f\"Train accuracy: {gnb.score(sfs.transform(X_train), y_train):.3f}\")\n",
        "print(f\"Test accuracy: {gnb.score(sfs.transform(X_test), y_test):.3f}\")"
      ],
      "metadata": {
        "jupyter": {
          "source_hidden": true
        },
        "execution": {
          "iopub.status.busy": "2024-06-05T02:58:26.329731Z",
          "iopub.execute_input": "2024-06-05T02:58:26.332218Z",
          "iopub.status.idle": "2024-06-05T02:58:26.356219Z",
          "shell.execute_reply.started": "2024-06-05T02:58:26.332170Z",
          "shell.execute_reply": "2024-06-05T02:58:26.355005Z"
        },
        "trusted": true,
        "id": "zUyXl30L5fbw",
        "outputId": "b56f3de6-0eb3-43d5-b831-82a98e1170d8"
      },
      "execution_count": null,
      "outputs": [
        {
          "name": "stdout",
          "text": "Train accuracy: 0.974\nTest accuracy: 0.939\n",
          "output_type": "stream"
        }
      ]
    },
    {
      "cell_type": "markdown",
      "source": [
        "### Plot Confusion Matrix <a class=\"anchor\" id=\"plot_nb_conf_mat_select\"></a> <p style='text-align: right; font-size: 15px; color:blue; font-weight: bold;'> [Go to Main Menu](#toc) </p>"
      ],
      "metadata": {
        "id": "wDmfh9Tp5fbw"
      }
    },
    {
      "cell_type": "code",
      "source": [
        "cm = confusion_matrix(y_test, yhat)\n",
        "cm_display = ConfusionMatrixDisplay(cm, display_labels=data.target_names).plot()\n",
        "plt.title('Naive Bayes Classifier')\n",
        "plt.show()"
      ],
      "metadata": {
        "jupyter": {
          "source_hidden": true
        },
        "execution": {
          "iopub.status.busy": "2024-06-05T02:58:26.357980Z",
          "iopub.execute_input": "2024-06-05T02:58:26.358443Z",
          "iopub.status.idle": "2024-06-05T02:58:26.635083Z",
          "shell.execute_reply.started": "2024-06-05T02:58:26.358402Z",
          "shell.execute_reply": "2024-06-05T02:58:26.634029Z"
        },
        "trusted": true,
        "id": "pjqCLRrK5fbw",
        "outputId": "9c2e0e72-68a4-4d32-9ed9-04c04b3d8abb"
      },
      "execution_count": null,
      "outputs": [
        {
          "output_type": "display_data",
          "data": {
            "text/plain": "<Figure size 640x480 with 2 Axes>",
            "image/png": "[encoded data removed]"
          },
          "metadata": {}
        }
      ]
    },
    {
      "cell_type": "markdown",
      "source": [
        "### Classification report <a class=\"anchor\" id=\"plot_nb_class_rep_select\"></a> <p style='text-align: right; font-size: 15px; color:blue; font-weight: bold;'> [Go to Main Menu](#toc) </p>"
      ],
      "metadata": {
        "id": "t-KTbM1O5fbw"
      }
    },
    {
      "cell_type": "code",
      "source": [
        "print(classification_report(y_test, y_pred, target_names=data.target_names))"
      ],
      "metadata": {
        "jupyter": {
          "source_hidden": true
        },
        "execution": {
          "iopub.status.busy": "2024-06-05T02:58:26.636575Z",
          "iopub.execute_input": "2024-06-05T02:58:26.637006Z",
          "iopub.status.idle": "2024-06-05T02:58:26.656647Z",
          "shell.execute_reply.started": "2024-06-05T02:58:26.636969Z",
          "shell.execute_reply": "2024-06-05T02:58:26.655509Z"
        },
        "trusted": true,
        "id": "bztqVl9R5fbw",
        "outputId": "07e3064c-3207-4f9b-d093-8e4ba61183b6"
      },
      "execution_count": null,
      "outputs": [
        {
          "name": "stdout",
          "text": "              precision    recall  f1-score   support\n\n   malignant       0.95      0.90      0.93        42\n      benign       0.95      0.97      0.96        72\n\n    accuracy                           0.95       114\n   macro avg       0.95      0.94      0.94       114\nweighted avg       0.95      0.95      0.95       114\n\n",
          "output_type": "stream"
        }
      ]
    },
    {
      "cell_type": "markdown",
      "source": [
        "### Print the Time taken for model training and testing <a class=\"anchor\" id=\"nb_time_select\"></a> <p style='text-align: right; font-size: 15px; color:blue; font-weight: bold;'> [Go to Main Menu](#toc) </p>"
      ],
      "metadata": {
        "id": "BEC8zmwI5fbx"
      }
    },
    {
      "cell_type": "code",
      "source": [
        "print(\"Time taken by NB-classifier for training is: \", round(end_train_time_nbs - start_train_time_nbs, 4), \"secs\")\n",
        "print(\"Time taken by NB-classifier for testing is: \", round(end_test_time_nbs - start_test_time_nbs, 4), \"secs\")"
      ],
      "metadata": {
        "execution": {
          "iopub.status.busy": "2024-06-05T02:58:26.658348Z",
          "iopub.execute_input": "2024-06-05T02:58:26.658677Z",
          "iopub.status.idle": "2024-06-05T02:58:26.665168Z",
          "shell.execute_reply.started": "2024-06-05T02:58:26.658646Z",
          "shell.execute_reply": "2024-06-05T02:58:26.663981Z"
        },
        "trusted": true,
        "id": "xosxe4s-5fbx",
        "outputId": "bb87959d-b205-486b-f8bb-c82a68347f7a"
      },
      "execution_count": null,
      "outputs": [
        {
          "name": "stdout",
          "text": "Time taken by NB-classifier for training is:  0.0087 secs\nTime taken by NB-classifier for testing is:  0.0025 secs\n",
          "output_type": "stream"
        }
      ]
    },
    {
      "cell_type": "markdown",
      "source": [
        "### Summary <a class=\"anchor\" id=\"summary\"></a> <p style='text-align: right; font-size: 15px; color:blue; font-weight: bold;'> [Go to Main Menu](#toc) </p>\n",
        "\n",
        "Compare the models generated in step-5 and step-7: <br>\n",
        "- Accuracy measures <br>\n",
        "- Execution times for model training and testing\n"
      ],
      "metadata": {
        "id": "_BlJiDBB5fbx"
      }
    },
    {
      "cell_type": "markdown",
      "source": [
        "<table style=\"height: 448px; width: 956px; border-color: #ff00ff;\" border=\"1\">\n",
        "<tbody>\n",
        "<tr>\n",
        "<td style=\"width: 154px;\">&nbsp;</td>\n",
        "<td style=\"width: 278.125px;\">Features</td>\n",
        "<td style=\"width: 192.875px;\">Accuracy Measures</td>\n",
        "<td style=\"width: 132px;\">Feature selection time</td>\n",
        "<td style=\"width: 96px;\">Training Time</td>\n",
        "<td style=\"width: 83px;\">Testing Time</td>\n",
        "</tr>\n",
        "<tr>\n",
        "<td style=\"width: 154px;\" rowspan=\"3\">KNN</td>\n",
        "<td style=\"width: 278.125px;\">\n",
        "<ul>\n",
        "<li>All Features</li>\n",
        "<li>Default Paramaters of KNN</li>\n",
        "</ul>\n",
        "</td>\n",
        "<td style=\"width: 192.875px;\">&nbsp;\n",
        "<pre>Accuracy: 0.9649\n",
        "Precision: 0.9474\n",
        "Recall: 1.0</pre>\n",
        "</td>\n",
        "<td style=\"width: 132px;\">N/A</td>\n",
        "<td style=\"width: 96px;\">&nbsp;\n",
        "<pre>0.0022 secs</pre>\n",
        "</td>\n",
        "<td style=\"width: 83px;\">&nbsp;\n",
        "<pre>0.0154 secs</pre>\n",
        "</td>\n",
        "</tr>\n",
        "<tr>\n",
        "<td style=\"width: 278.125px;\">\n",
        "<ul>\n",
        "<li>Top 5 selected Features</li>\n",
        "<ul>\n",
        "<li>'mean smoothness'</li>\n",
        "<li>'perimeter error'</li>\n",
        "<li>'worst radius'</li>\n",
        "<li>'worst texture'</li>\n",
        "<li>'worst concavity'</li>\n",
        "</ul>\n",
        "</ul>\n",
        "<ul>\n",
        "<li>Default Paramaters of KNN</li>\n",
        "</ul>\n",
        "</td>\n",
        "<td style=\"width: 192.875px;\">&nbsp;\n",
        "<pre>Train accuracy: 0.954\n",
        "Test accuracy: 0.921</pre>\n",
        "<pre>&nbsp;</pre>\n",
        "</td>\n",
        "<td style=\"width: 132px;\">&nbsp;\n",
        "<pre>8.32 seconds</pre>\n",
        "</td>\n",
        "<td style=\"width: 96px;\">\n",
        "<pre>0.0048 secs</pre>\n",
        "&nbsp;</td>\n",
        "<td style=\"width: 83px;\">&nbsp;\n",
        "<pre>0.0102 secs</pre>\n",
        "</td>\n",
        "</tr>\n",
        "<tr>\n",
        "<td style=\"width: 278.125px;\">&nbsp;\n",
        "<ul>\n",
        "<li>Top 5 selected Features</li>\n",
        "<li>With optimized k-value\n",
        "<ul>\n",
        "<li>k = 6</li>\n",
        "</ul>\n",
        "</li>\n",
        "</ul>\n",
        "</td>\n",
        "<td style=\"width: 192.875px;\">&nbsp;\n",
        "<pre>Train accuracy: 0.956\n",
        "Test accuracy: 0.939</pre>\n",
        "</td>\n",
        "<td style=\"width: 132px;\">&nbsp;N/A</td>\n",
        "<td style=\"width: 96px;\">&nbsp;\n",
        "<pre>0.0045 secs</pre>\n",
        "</td>\n",
        "<td style=\"width: 83px;\">&nbsp;\n",
        "<pre>0.0135 secs</pre>\n",
        "</td>\n",
        "</tr>\n",
        "<tr>\n",
        "<td style=\"width: 154px;\" rowspan=\"2\">Naive Bayes</td>\n",
        "<td style=\"width: 278.125px;\">\n",
        "<ul>\n",
        "<li>All Features</li>\n",
        "<li>Default Paramaters of Naive Bayes</li>\n",
        "</ul>\n",
        "</td>\n",
        "<td style=\"width: 192.875px;\">\n",
        "<pre>Accuracy: 0.9474\n",
        "Precision: 0.9459\n",
        "Recall: 1</pre>\n",
        "&nbsp;</td>\n",
        "<td style=\"width: 132px;\">N/A</td>\n",
        "<td style=\"width: 96px;\">\n",
        "<pre>0.0029 secs</pre>\n",
        "&nbsp;</td>\n",
        "<td style=\"width: 83px;\">&nbsp;\n",
        "<pre>0.0003 secs</pre>\n",
        "</td>\n",
        "</tr>\n",
        "<tr>\n",
        "<td style=\"width: 278.125px;\">\n",
        "<ul>\n",
        "<li>Top 5 selected Features</li>\n",
        "<ul>\n",
        "<li>'mean fractal dimension'</li>\n",
        "<li>'texture error'</li>\n",
        "<li>'worst texture'</li>\n",
        "<li>'worst perimeter'</li>\n",
        "<li>'worst smoothness'</li>\n",
        "</ul>\n",
        "</ul>\n",
        "<ul>\n",
        "<li>Default Paramaters of&nbsp;Naive Bayes</li>\n",
        "</ul>\n",
        "</td>\n",
        "<td style=\"width: 192.875px;\">\n",
        "<pre>Train accuracy: 0.974\n",
        "Test accuracy: 0.939</pre>\n",
        "&nbsp;</td>\n",
        "<td style=\"width: 132px;\">\n",
        "<pre>4.18 seconds</pre>\n",
        "&nbsp;</td>\n",
        "<td style=\"width: 96px;\">\n",
        "<pre>0.0048 secs</pre>\n",
        "&nbsp;</td>\n",
        "<td style=\"width: 83px;\">&nbsp;\n",
        "<pre>0.0102 secs</pre>\n",
        "</td>\n",
        "</tr>\n",
        "</tbody>\n",
        "</table>"
      ],
      "metadata": {
        "id": "BuEyNvoN5fbx"
      }
    },
    {
      "cell_type": "code",
      "source": [],
      "metadata": {
        "id": "qWPZrvFF5fbx"
      },
      "execution_count": null,
      "outputs": []
    }
  ]
}