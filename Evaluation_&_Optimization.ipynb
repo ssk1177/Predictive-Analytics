{
  "cells": [
    {
      "cell_type": "markdown",
      "metadata": {
        "id": "view-in-github",
        "colab_type": "text"
      },
      "source": [
        "<a href=\"https://colab.research.google.com/github/ssk1177/Predictive-Analytics/blob/main/Evaluation_%26_Optimization.ipynb\" target=\"_parent\"><img src=\"https://colab.research.google.com/assets/colab-badge.svg\" alt=\"Open In Colab\"/></a>"
      ]
    },
    {
      "cell_type": "markdown",
      "id": "9a6ba121-20e0-4b3d-9336-f010249a5479",
      "metadata": {
        "id": "9a6ba121-20e0-4b3d-9336-f010249a5479"
      },
      "source": [
        "**Evaluation & Optimization**\n",
        "\n",
        "__Objective__ is to train and evaluate three (3) classification models with different algorithms (SVM, Logistic regression, & KNN) and compare the performance on the test dataset using multiple measures of performance.\n",
        "\n",
        "**Dataset**: Digits dataset\n",
        "\n",
        "The digits dataset consists of 8x8 pixel images of digits. The images attribute of the dataset stores 8x8 arrays of grayscale values for each image.\n",
        "\n",
        "https://scikit-learn.org/stable/auto_examples/classification/plot_digits_classification.html#digits-dataset"
      ]
    },
    {
      "cell_type": "markdown",
      "id": "777b1f96-aef6-4c9f-9dae-875ed91059e0",
      "metadata": {
        "id": "777b1f96-aef6-4c9f-9dae-875ed91059e0"
      },
      "source": [
        "# Table of Contents <a class=\"anchor\" id=\"toc\"></a>\n",
        "* [Functional Blocks](#functional_blocks)\n",
        "* [Load the Packages](#load_packages)\n",
        "* [Data Preparation](#data_prep)\n",
        "    * [flatten the images](#flatten_images)\n",
        "    * [Split the dataset](#split_data)\n",
        "* [Classifier: SVM](#svm)\n",
        "    * [Fit the Classifier](#fit_svm)\n",
        "    * [Predictions](#svm_preds)\n",
        "    * [Metrics](#svm_metrics)\n",
        "        * [Classification Report](#svm_metrics_cr)\n",
        "        * [Classification Matrix](#svm_metrics_cm)\n",
        "* [Classifier: Logistic Regression](#lr)\n",
        "    * [Fit the Classifier](#fit_lr)\n",
        "    * [Predictions](#lr_preds)\n",
        "    * [Metrics](#lr_metrics)\n",
        "        * [Classification Report](#lr_metrics_cr)\n",
        "        * [Classification Matrix](#lr_metrics_cm)\n",
        "* [Classifier: KNN](#knn)\n",
        "    * [Fit the Classifier](#fit_knn)\n",
        "    * [Predictions](#knn_preds)\n",
        "    * [Metrics](#knn_metrics)\n",
        "        * [Classification Report](#knn_metrics_cr)\n",
        "        * [Classification Matrix](#knn_metrics_cm)\n",
        "* [Models Comparison](#comparison)\n",
        "* [Hyperparameter Tuning](#lr_Hyperparameter_Tuning)\n",
        "    * [RandomizedSearchCV](#lr_rcv)\n",
        "    * [GridSearchCV](#lr_gcv)\n",
        "* [Summary](#summary)\n",
        "    "
      ]
    },
    {
      "cell_type": "markdown",
      "id": "a9712daf-9adc-462e-a611-8fc5346935b0",
      "metadata": {
        "tags": [],
        "id": "a9712daf-9adc-462e-a611-8fc5346935b0"
      },
      "source": [
        "# Functional Blocks <a class=\"anchor\" id=\"functional_blocks\"></a> <p style=\"text-align: right; color: blue; font-size: 15px;\"> [Go to Main Menu](#toc) </p>"
      ]
    },
    {
      "cell_type": "code",
      "execution_count": null,
      "id": "a1c5457f-2b17-4a01-a854-ac8f80cfe1d4",
      "metadata": {
        "tags": [],
        "id": "a1c5457f-2b17-4a01-a854-ac8f80cfe1d4"
      },
      "outputs": [],
      "source": [
        "def displayConfusionMatrix(y_test, predictions):\n",
        "    disp = metrics.ConfusionMatrixDisplay.from_predictions(y_test, predictions)\n",
        "    disp.figure_.suptitle(\"Confusion Matrix\")\n",
        "    #print(f\"Confusion matrix:\\n{disp.confusion_matrix}\")\n",
        "\n",
        "    plt.show()\n",
        "\n",
        "# Utility function to report best scores\n",
        "def report(results, n_top=3):\n",
        "    for i in range(1, n_top + 1):\n",
        "        candidates = np.flatnonzero(results[\"rank_test_score\"] == i)\n",
        "        for candidate in candidates:\n",
        "            print(\"Model with rank: {0}\".format(i))\n",
        "            print(\n",
        "                \"Mean validation score: {0:.3f} (std: {1:.3f})\".format(\n",
        "                    results[\"mean_test_score\"][candidate],\n",
        "                    results[\"std_test_score\"][candidate],\n",
        "                )\n",
        "            )\n",
        "            print(\"Parameters: {0}\".format(results[\"params\"][candidate]))\n",
        "            print(\"\")\n",
        "\n"
      ]
    },
    {
      "cell_type": "markdown",
      "id": "7ce819ed-aeaf-4b70-a2e6-91b2106674f6",
      "metadata": {
        "tags": [],
        "id": "7ce819ed-aeaf-4b70-a2e6-91b2106674f6"
      },
      "source": [
        "# Load the Packages <a class=\"anchor\" id=\"load_packages\"></a> <p style=\"text-align: right; color: blue; font-size: 15px;\"> [Go to Main Menu](#toc) </p>"
      ]
    },
    {
      "cell_type": "code",
      "execution_count": null,
      "id": "bcd1da11-b36a-4184-958e-a27c383da9f5",
      "metadata": {
        "tags": [],
        "id": "bcd1da11-b36a-4184-958e-a27c383da9f5"
      },
      "outputs": [],
      "source": [
        "import matplotlib.pyplot as plt\n",
        "import scipy.stats as stats\n",
        "from time import time\n",
        "import numpy as np\n",
        "\n",
        "from skopt.space import Integer\n",
        "from skopt.utils import use_named_args\n",
        "from skopt import gp_minimize\n",
        "\n",
        "# Import datasets, classifiers and performance metrics\n",
        "from sklearn import datasets, metrics, svm\n",
        "from sklearn.model_selection import train_test_split\n",
        "from sklearn.linear_model import SGDClassifier\n",
        "from sklearn.neighbors import KNeighborsClassifier\n",
        "from sklearn.model_selection import GridSearchCV, RandomizedSearchCV, cross_val_score\n",
        "\n",
        "import warnings\n",
        "warnings.filterwarnings('ignore')"
      ]
    },
    {
      "cell_type": "markdown",
      "id": "fd5d6f07-6b72-458b-b948-7319a20b6c92",
      "metadata": {
        "tags": [],
        "id": "fd5d6f07-6b72-458b-b948-7319a20b6c92"
      },
      "source": [
        "# Data Preparation <a class=\"anchor\" id=\"data_prep\"></a> <p style=\"text-align: right; color: blue; font-size: 15px;\"> [Go to Main Menu](#toc) </p>"
      ]
    },
    {
      "cell_type": "code",
      "execution_count": null,
      "id": "da6ce883-b67b-4dec-97d4-738adafdbbb9",
      "metadata": {
        "tags": [],
        "id": "da6ce883-b67b-4dec-97d4-738adafdbbb9",
        "outputId": "403c7349-8ebe-450a-a393-0df7695fa054"
      },
      "outputs": [
        {
          "data": {
            "image/png": "[encoded data removed]",
            "text/plain": [
              "<Figure size 1000x300 with 4 Axes>"
            ]
          },
          "metadata": {},
          "output_type": "display_data"
        }
      ],
      "source": [
        "X, y = datasets.load_digits(return_X_y=True)\n",
        "\n",
        "# Show the first 4 Training Samples with their label in title\n",
        "_, axes = plt.subplots(nrows=1, ncols=4, figsize=(10, 3))\n",
        "for ax, image, label in zip(axes, X, y):\n",
        "    ax.set_axis_off()\n",
        "    ax.imshow(image.reshape(8, 8), cmap=plt.cm.gray_r, interpolation=\"nearest\")\n",
        "    ax.set_title(\"Label: %i\" % label)"
      ]
    },
    {
      "cell_type": "markdown",
      "id": "a826f21c-cd70-4ffc-a264-c070f1d7eed9",
      "metadata": {
        "tags": [],
        "id": "a826f21c-cd70-4ffc-a264-c070f1d7eed9"
      },
      "source": [
        "## flatten the images <a class=\"anchor\" id=\"flatten_images\"></a> <p style=\"text-align: right; color: blue; font-size: 15px;\"> [Go to Main Menu](#toc) </p>\n",
        "To apply a classifier on this dataset, we need to flatten the images, turning each 2-D array of grayscale values from shape (8, 8) into shape (64,)"
      ]
    },
    {
      "cell_type": "code",
      "execution_count": null,
      "id": "9db97b65-5880-42ac-ab9a-7d9a3fce1138",
      "metadata": {
        "tags": [],
        "id": "9db97b65-5880-42ac-ab9a-7d9a3fce1138"
      },
      "outputs": [],
      "source": [
        "# flatten the images\n",
        "n_samples = len(X)\n",
        "data = X.reshape((n_samples, -1))"
      ]
    },
    {
      "cell_type": "markdown",
      "id": "930c832e-abca-4dbb-90c1-902cd7d8e6b4",
      "metadata": {
        "tags": [],
        "id": "930c832e-abca-4dbb-90c1-902cd7d8e6b4"
      },
      "source": [
        "# Split the dataset <a class=\"anchor\" id=\"split_data\"></a> <p style=\"text-align: right; color: blue; font-size: 15px;\"> [Go to Main Menu](#toc) </p>"
      ]
    },
    {
      "cell_type": "code",
      "execution_count": null,
      "id": "b1909d23-5d62-451d-9fd6-22859051bf7f",
      "metadata": {
        "tags": [],
        "id": "b1909d23-5d62-451d-9fd6-22859051bf7f"
      },
      "outputs": [],
      "source": [
        "# Split data into 50% train and 50% test subsets\n",
        "X_train, X_test, y_train, y_test = train_test_split(\n",
        "    data, y, test_size=0.5, shuffle=False\n",
        ")"
      ]
    },
    {
      "cell_type": "markdown",
      "id": "e7bae596-6a5b-44a7-a7db-3e32ed3acad5",
      "metadata": {
        "tags": [],
        "id": "e7bae596-6a5b-44a7-a7db-3e32ed3acad5"
      },
      "source": [
        "# Classifier: SVM <a class=\"anchor\" id=\"svm\"></a> <p style=\"text-align: right; color: blue; font-size: 15px;\"> [Go to Main Menu](#toc) </p>"
      ]
    },
    {
      "cell_type": "code",
      "execution_count": null,
      "id": "06eae6ac-d80a-4d81-953a-6e5edc55412f",
      "metadata": {
        "tags": [],
        "id": "06eae6ac-d80a-4d81-953a-6e5edc55412f"
      },
      "outputs": [],
      "source": [
        "# Create a classifier: a support vector classifier\n",
        "clf = SGDClassifier(loss=\"hinge\", penalty=\"elasticnet\", max_iter=1500)"
      ]
    },
    {
      "cell_type": "markdown",
      "id": "713a1501-f717-4d41-8dff-945483bf9421",
      "metadata": {
        "tags": [],
        "id": "713a1501-f717-4d41-8dff-945483bf9421"
      },
      "source": [
        "## Fit the Classifier <a class=\"anchor\" id=\"fit_svm\"></a> <p style=\"text-align: right; color: blue; font-size: 15px;\"> [Go to Main Menu](#toc) </p>"
      ]
    },
    {
      "cell_type": "code",
      "execution_count": null,
      "id": "d85ebf13-225b-4984-8f9f-9ba45b032905",
      "metadata": {
        "tags": [],
        "id": "d85ebf13-225b-4984-8f9f-9ba45b032905",
        "outputId": "d82758a5-0ad3-4f87-ee2c-55d05c9d07a7"
      },
      "outputs": [
        {
          "data": {
            "text/html": [
              "<style>#sk-container-id-1 {color: black;}#sk-container-id-1 pre{padding: 0;}#sk-container-id-1 div.sk-toggleable {background-color: white;}#sk-container-id-1 label.sk-toggleable__label {cursor: pointer;display: block;width: 100%;margin-bottom: 0;padding: 0.3em;box-sizing: border-box;text-align: center;}#sk-container-id-1 label.sk-toggleable__label-arrow:before {content: \"▸\";float: left;margin-right: 0.25em;color: #696969;}#sk-container-id-1 label.sk-toggleable__label-arrow:hover:before {color: black;}#sk-container-id-1 div.sk-estimator:hover label.sk-toggleable__label-arrow:before {color: black;}#sk-container-id-1 div.sk-toggleable__content {max-height: 0;max-width: 0;overflow: hidden;text-align: left;background-color: #f0f8ff;}#sk-container-id-1 div.sk-toggleable__content pre {margin: 0.2em;color: black;border-radius: 0.25em;background-color: #f0f8ff;}#sk-container-id-1 input.sk-toggleable__control:checked~div.sk-toggleable__content {max-height: 200px;max-width: 100%;overflow: auto;}#sk-container-id-1 input.sk-toggleable__control:checked~label.sk-toggleable__label-arrow:before {content: \"▾\";}#sk-container-id-1 div.sk-estimator input.sk-toggleable__control:checked~label.sk-toggleable__label {background-color: #d4ebff;}#sk-container-id-1 div.sk-label input.sk-toggleable__control:checked~label.sk-toggleable__label {background-color: #d4ebff;}#sk-container-id-1 input.sk-hidden--visually {border: 0;clip: rect(1px 1px 1px 1px);clip: rect(1px, 1px, 1px, 1px);height: 1px;margin: -1px;overflow: hidden;padding: 0;position: absolute;width: 1px;}#sk-container-id-1 div.sk-estimator {font-family: monospace;background-color: #f0f8ff;border: 1px dotted black;border-radius: 0.25em;box-sizing: border-box;margin-bottom: 0.5em;}#sk-container-id-1 div.sk-estimator:hover {background-color: #d4ebff;}#sk-container-id-1 div.sk-parallel-item::after {content: \"\";width: 100%;border-bottom: 1px solid gray;flex-grow: 1;}#sk-container-id-1 div.sk-label:hover label.sk-toggleable__label {background-color: #d4ebff;}#sk-container-id-1 div.sk-serial::before {content: \"\";position: absolute;border-left: 1px solid gray;box-sizing: border-box;top: 0;bottom: 0;left: 50%;z-index: 0;}#sk-container-id-1 div.sk-serial {display: flex;flex-direction: column;align-items: center;background-color: white;padding-right: 0.2em;padding-left: 0.2em;position: relative;}#sk-container-id-1 div.sk-item {position: relative;z-index: 1;}#sk-container-id-1 div.sk-parallel {display: flex;align-items: stretch;justify-content: center;background-color: white;position: relative;}#sk-container-id-1 div.sk-item::before, #sk-container-id-1 div.sk-parallel-item::before {content: \"\";position: absolute;border-left: 1px solid gray;box-sizing: border-box;top: 0;bottom: 0;left: 50%;z-index: -1;}#sk-container-id-1 div.sk-parallel-item {display: flex;flex-direction: column;z-index: 1;position: relative;background-color: white;}#sk-container-id-1 div.sk-parallel-item:first-child::after {align-self: flex-end;width: 50%;}#sk-container-id-1 div.sk-parallel-item:last-child::after {align-self: flex-start;width: 50%;}#sk-container-id-1 div.sk-parallel-item:only-child::after {width: 0;}#sk-container-id-1 div.sk-dashed-wrapped {border: 1px dashed gray;margin: 0 0.4em 0.5em 0.4em;box-sizing: border-box;padding-bottom: 0.4em;background-color: white;}#sk-container-id-1 div.sk-label label {font-family: monospace;font-weight: bold;display: inline-block;line-height: 1.2em;}#sk-container-id-1 div.sk-label-container {text-align: center;}#sk-container-id-1 div.sk-container {/* jupyter's `normalize.less` sets `[hidden] { display: none; }` but bootstrap.min.css set `[hidden] { display: none !important; }` so we also need the `!important` here to be able to override the default hidden behavior on the sphinx rendered scikit-learn.org. See: https://github.com/scikit-learn/scikit-learn/issues/21755 */display: inline-block !important;position: relative;}#sk-container-id-1 div.sk-text-repr-fallback {display: none;}</style><div id=\"sk-container-id-1\" class=\"sk-top-container\"><div class=\"sk-text-repr-fallback\"><pre>SGDClassifier(max_iter=1500, penalty=&#x27;elasticnet&#x27;)</pre><b>In a Jupyter environment, please rerun this cell to show the HTML representation or trust the notebook. <br />On GitHub, the HTML representation is unable to render, please try loading this page with nbviewer.org.</b></div><div class=\"sk-container\" hidden><div class=\"sk-item\"><div class=\"sk-estimator sk-toggleable\"><input class=\"sk-toggleable__control sk-hidden--visually\" id=\"sk-estimator-id-1\" type=\"checkbox\" checked><label for=\"sk-estimator-id-1\" class=\"sk-toggleable__label sk-toggleable__label-arrow\">SGDClassifier</label><div class=\"sk-toggleable__content\"><pre>SGDClassifier(max_iter=1500, penalty=&#x27;elasticnet&#x27;)</pre></div></div></div></div></div>"
            ],
            "text/plain": [
              "SGDClassifier(max_iter=1500, penalty='elasticnet')"
            ]
          },
          "execution_count": 16,
          "metadata": {},
          "output_type": "execute_result"
        }
      ],
      "source": [
        "# Learn the digits on the train subset\n",
        "clf.fit(X_train, y_train)"
      ]
    },
    {
      "cell_type": "markdown",
      "id": "d8f55c50-a3a6-40d4-a25b-7275fa2ba51c",
      "metadata": {
        "tags": [],
        "id": "d8f55c50-a3a6-40d4-a25b-7275fa2ba51c"
      },
      "source": [
        "## Predictions <a class=\"anchor\" id=\"svm_preds\"></a> <p style=\"text-align: right; color: blue; font-size: 15px;\"> [Go to Main Menu](#toc) </p>"
      ]
    },
    {
      "cell_type": "code",
      "execution_count": null,
      "id": "a72bf530-5c28-4ee1-9d39-bba12c09ba98",
      "metadata": {
        "tags": [],
        "id": "a72bf530-5c28-4ee1-9d39-bba12c09ba98",
        "outputId": "3d0df7b7-c116-4dcd-bc8a-a46082bca781"
      },
      "outputs": [
        {
          "data": {
            "image/png": "[encoded data removed]",
            "text/plain": [
              "<Figure size 1000x300 with 4 Axes>"
            ]
          },
          "metadata": {},
          "output_type": "display_data"
        }
      ],
      "source": [
        "# Predict the value of the digit on the test subset\n",
        "predictions = clf.predict(X_test)\n",
        "\n",
        "# Plot first 4 test samples and show their predicted digit value in the title\n",
        "_, axes = plt.subplots(nrows=1, ncols=4, figsize=(10, 3))\n",
        "for ax, image, prediction in zip(axes, X_test, predictions):\n",
        "    ax.set_axis_off()\n",
        "    image = image.reshape(8, 8)\n",
        "    ax.imshow(image, cmap=plt.cm.gray_r, interpolation=\"nearest\")\n",
        "    ax.set_title(f\"Prediction: {prediction}\")"
      ]
    },
    {
      "cell_type": "markdown",
      "id": "e979ae21-3fa3-4ef8-a0ba-8e600de3273b",
      "metadata": {
        "tags": [],
        "id": "e979ae21-3fa3-4ef8-a0ba-8e600de3273b"
      },
      "source": [
        "## Metrics <a class=\"anchor\" id=\"svm_metrics\"></a> <p style=\"text-align: right; color: blue; font-size: 15px;\"> [Go to Main Menu](#toc) </p>"
      ]
    },
    {
      "cell_type": "markdown",
      "id": "0d65a9fd-9d0a-4eed-b82c-e61a6e11d2e2",
      "metadata": {
        "tags": [],
        "id": "0d65a9fd-9d0a-4eed-b82c-e61a6e11d2e2"
      },
      "source": [
        "### Classification Report <a class=\"anchor\" id=\"svm_metrics_cr\"></a> <p style=\"text-align: right; color: blue; font-size: 15px;\"> [Go to Main Menu](#toc) </p>"
      ]
    },
    {
      "cell_type": "code",
      "execution_count": null,
      "id": "3e9215fe-ec9f-4d22-b788-b0a2c6e26a67",
      "metadata": {
        "tags": [],
        "id": "3e9215fe-ec9f-4d22-b788-b0a2c6e26a67",
        "outputId": "6ccbf58b-d75d-49b4-8a62-a9dff5aa18a4"
      },
      "outputs": [
        {
          "name": "stdout",
          "output_type": "stream",
          "text": [
            "Accuracy: 92.77\n",
            "\n",
            "Classification report for classifier SGDClassifier(max_iter=1500, penalty='elasticnet'):\n",
            "\n",
            "              precision    recall  f1-score   support\n",
            "\n",
            "           0       0.95      0.98      0.96        88\n",
            "           1       0.90      0.89      0.90        91\n",
            "           2       1.00      1.00      1.00        86\n",
            "           3       0.96      0.84      0.89        91\n",
            "           4       0.99      0.93      0.96        92\n",
            "           5       0.87      0.95      0.91        91\n",
            "           6       0.93      0.99      0.96        91\n",
            "           7       0.96      0.96      0.96        89\n",
            "           8       0.90      0.85      0.88        88\n",
            "           9       0.85      0.90      0.87        92\n",
            "\n",
            "    accuracy                           0.93       899\n",
            "   macro avg       0.93      0.93      0.93       899\n",
            "weighted avg       0.93      0.93      0.93       899\n",
            "\n",
            "\n"
          ]
        }
      ],
      "source": [
        "svm_acc = round(metrics.accuracy_score(y_test, predictions), 4)*100\n",
        "\n",
        "print(\n",
        "    f\"Accuracy: {svm_acc}\\n\\n\"\n",
        "    f\"Classification report for classifier {clf}:\\n\\n\"\n",
        "    f\"{metrics.classification_report(y_test, predictions)}\\n\"\n",
        ")"
      ]
    },
    {
      "cell_type": "markdown",
      "id": "3bf86505-a5ba-42f1-97f6-ba01fef2278b",
      "metadata": {
        "tags": [],
        "id": "3bf86505-a5ba-42f1-97f6-ba01fef2278b"
      },
      "source": [
        "### Classification Matrix <a class=\"anchor\" id=\"svm_metrics_cm\"></a> <p style=\"text-align: right; color: blue; font-size: 15px;\"> [Go to Main Menu](#toc) </p>"
      ]
    },
    {
      "cell_type": "code",
      "execution_count": null,
      "id": "174f7916-c686-4090-82d5-99854838e971",
      "metadata": {
        "tags": [],
        "id": "174f7916-c686-4090-82d5-99854838e971",
        "outputId": "0302fe78-278c-4eff-89c0-553dc3bd4c08"
      },
      "outputs": [
        {
          "data": {
            "image/png": "[encoded data removed]",
            "text/plain": [
              "<Figure size 640x480 with 2 Axes>"
            ]
          },
          "metadata": {},
          "output_type": "display_data"
        }
      ],
      "source": [
        "displayConfusionMatrix(y_test, predictions)"
      ]
    },
    {
      "cell_type": "markdown",
      "id": "592733b6-e2c0-45be-a351-8c7c48968f7d",
      "metadata": {
        "tags": [],
        "id": "592733b6-e2c0-45be-a351-8c7c48968f7d"
      },
      "source": [
        "# Classifier: Logistic Regression <a class=\"anchor\" id=\"lr\"></a> <p style=\"text-align: right; color: blue; font-size: 15px;\"> [Go to Main Menu](#toc) </p>"
      ]
    },
    {
      "cell_type": "code",
      "execution_count": null,
      "id": "bb12506e-cc91-4156-a6ea-154d84823531",
      "metadata": {
        "tags": [],
        "id": "bb12506e-cc91-4156-a6ea-154d84823531"
      },
      "outputs": [],
      "source": [
        "LogRegression = SGDClassifier(loss=\"log_loss\", penalty=\"elasticnet\", max_iter=1500)"
      ]
    },
    {
      "cell_type": "markdown",
      "id": "12b83e89-4757-4c17-93bc-399949abf8e2",
      "metadata": {
        "tags": [],
        "id": "12b83e89-4757-4c17-93bc-399949abf8e2"
      },
      "source": [
        "## Fit the Classifier <a class=\"anchor\" id=\"fit_lr\"></a> <p style=\"text-align: right; color: blue; font-size: 15px;\"> [Go to Main Menu](#toc) </p>"
      ]
    },
    {
      "cell_type": "code",
      "execution_count": null,
      "id": "62db4faf-3c7e-4d83-891d-385efaa4f1c4",
      "metadata": {
        "tags": [],
        "id": "62db4faf-3c7e-4d83-891d-385efaa4f1c4",
        "outputId": "f165d494-857f-4f7f-d568-4748479520d6"
      },
      "outputs": [
        {
          "data": {
            "text/html": [
              "<style>#sk-container-id-2 {color: black;}#sk-container-id-2 pre{padding: 0;}#sk-container-id-2 div.sk-toggleable {background-color: white;}#sk-container-id-2 label.sk-toggleable__label {cursor: pointer;display: block;width: 100%;margin-bottom: 0;padding: 0.3em;box-sizing: border-box;text-align: center;}#sk-container-id-2 label.sk-toggleable__label-arrow:before {content: \"▸\";float: left;margin-right: 0.25em;color: #696969;}#sk-container-id-2 label.sk-toggleable__label-arrow:hover:before {color: black;}#sk-container-id-2 div.sk-estimator:hover label.sk-toggleable__label-arrow:before {color: black;}#sk-container-id-2 div.sk-toggleable__content {max-height: 0;max-width: 0;overflow: hidden;text-align: left;background-color: #f0f8ff;}#sk-container-id-2 div.sk-toggleable__content pre {margin: 0.2em;color: black;border-radius: 0.25em;background-color: #f0f8ff;}#sk-container-id-2 input.sk-toggleable__control:checked~div.sk-toggleable__content {max-height: 200px;max-width: 100%;overflow: auto;}#sk-container-id-2 input.sk-toggleable__control:checked~label.sk-toggleable__label-arrow:before {content: \"▾\";}#sk-container-id-2 div.sk-estimator input.sk-toggleable__control:checked~label.sk-toggleable__label {background-color: #d4ebff;}#sk-container-id-2 div.sk-label input.sk-toggleable__control:checked~label.sk-toggleable__label {background-color: #d4ebff;}#sk-container-id-2 input.sk-hidden--visually {border: 0;clip: rect(1px 1px 1px 1px);clip: rect(1px, 1px, 1px, 1px);height: 1px;margin: -1px;overflow: hidden;padding: 0;position: absolute;width: 1px;}#sk-container-id-2 div.sk-estimator {font-family: monospace;background-color: #f0f8ff;border: 1px dotted black;border-radius: 0.25em;box-sizing: border-box;margin-bottom: 0.5em;}#sk-container-id-2 div.sk-estimator:hover {background-color: #d4ebff;}#sk-container-id-2 div.sk-parallel-item::after {content: \"\";width: 100%;border-bottom: 1px solid gray;flex-grow: 1;}#sk-container-id-2 div.sk-label:hover label.sk-toggleable__label {background-color: #d4ebff;}#sk-container-id-2 div.sk-serial::before {content: \"\";position: absolute;border-left: 1px solid gray;box-sizing: border-box;top: 0;bottom: 0;left: 50%;z-index: 0;}#sk-container-id-2 div.sk-serial {display: flex;flex-direction: column;align-items: center;background-color: white;padding-right: 0.2em;padding-left: 0.2em;position: relative;}#sk-container-id-2 div.sk-item {position: relative;z-index: 1;}#sk-container-id-2 div.sk-parallel {display: flex;align-items: stretch;justify-content: center;background-color: white;position: relative;}#sk-container-id-2 div.sk-item::before, #sk-container-id-2 div.sk-parallel-item::before {content: \"\";position: absolute;border-left: 1px solid gray;box-sizing: border-box;top: 0;bottom: 0;left: 50%;z-index: -1;}#sk-container-id-2 div.sk-parallel-item {display: flex;flex-direction: column;z-index: 1;position: relative;background-color: white;}#sk-container-id-2 div.sk-parallel-item:first-child::after {align-self: flex-end;width: 50%;}#sk-container-id-2 div.sk-parallel-item:last-child::after {align-self: flex-start;width: 50%;}#sk-container-id-2 div.sk-parallel-item:only-child::after {width: 0;}#sk-container-id-2 div.sk-dashed-wrapped {border: 1px dashed gray;margin: 0 0.4em 0.5em 0.4em;box-sizing: border-box;padding-bottom: 0.4em;background-color: white;}#sk-container-id-2 div.sk-label label {font-family: monospace;font-weight: bold;display: inline-block;line-height: 1.2em;}#sk-container-id-2 div.sk-label-container {text-align: center;}#sk-container-id-2 div.sk-container {/* jupyter's `normalize.less` sets `[hidden] { display: none; }` but bootstrap.min.css set `[hidden] { display: none !important; }` so we also need the `!important` here to be able to override the default hidden behavior on the sphinx rendered scikit-learn.org. See: https://github.com/scikit-learn/scikit-learn/issues/21755 */display: inline-block !important;position: relative;}#sk-container-id-2 div.sk-text-repr-fallback {display: none;}</style><div id=\"sk-container-id-2\" class=\"sk-top-container\"><div class=\"sk-text-repr-fallback\"><pre>SGDClassifier(loss=&#x27;log_loss&#x27;, max_iter=1500, penalty=&#x27;elasticnet&#x27;)</pre><b>In a Jupyter environment, please rerun this cell to show the HTML representation or trust the notebook. <br />On GitHub, the HTML representation is unable to render, please try loading this page with nbviewer.org.</b></div><div class=\"sk-container\" hidden><div class=\"sk-item\"><div class=\"sk-estimator sk-toggleable\"><input class=\"sk-toggleable__control sk-hidden--visually\" id=\"sk-estimator-id-2\" type=\"checkbox\" checked><label for=\"sk-estimator-id-2\" class=\"sk-toggleable__label sk-toggleable__label-arrow\">SGDClassifier</label><div class=\"sk-toggleable__content\"><pre>SGDClassifier(loss=&#x27;log_loss&#x27;, max_iter=1500, penalty=&#x27;elasticnet&#x27;)</pre></div></div></div></div></div>"
            ],
            "text/plain": [
              "SGDClassifier(loss='log_loss', max_iter=1500, penalty='elasticnet')"
            ]
          },
          "execution_count": 27,
          "metadata": {},
          "output_type": "execute_result"
        }
      ],
      "source": [
        "LogRegression.fit(X_train, y_train)"
      ]
    },
    {
      "cell_type": "markdown",
      "id": "9d2d7868-4d23-4f4a-9d0e-be4910f7af42",
      "metadata": {
        "tags": [],
        "id": "9d2d7868-4d23-4f4a-9d0e-be4910f7af42"
      },
      "source": [
        "## Predictions <a class=\"anchor\" id=\"lr_preds\"></a> <p style=\"text-align: right; color: blue; font-size: 15px;\"> [Go to Main Menu](#toc) </p>"
      ]
    },
    {
      "cell_type": "code",
      "execution_count": null,
      "id": "52a9674e-d602-4814-93f7-eba718f5c703",
      "metadata": {
        "tags": [],
        "id": "52a9674e-d602-4814-93f7-eba718f5c703"
      },
      "outputs": [],
      "source": [
        "predictions = LogRegression.predict(X_test)"
      ]
    },
    {
      "cell_type": "markdown",
      "id": "a572e1af-3f43-4037-a556-d72784076b31",
      "metadata": {
        "tags": [],
        "id": "a572e1af-3f43-4037-a556-d72784076b31"
      },
      "source": [
        "## Metrics <a class=\"anchor\" id=\"lr_metrics\"></a> <p style=\"text-align: right; color: blue; font-size: 15px;\"> [Go to Main Menu](#toc) </p>"
      ]
    },
    {
      "cell_type": "markdown",
      "id": "492038a5-bd7b-496f-92ee-de87ac3a2d18",
      "metadata": {
        "tags": [],
        "id": "492038a5-bd7b-496f-92ee-de87ac3a2d18"
      },
      "source": [
        "### Classification Report <a class=\"anchor\" id=\"lr_metrics_cr\"></a> <p style=\"text-align: right; color: blue; font-size: 15px;\"> [Go to Main Menu](#toc) </p>"
      ]
    },
    {
      "cell_type": "code",
      "execution_count": null,
      "id": "8f93a9fd-64f0-4cdb-b0be-5e7b8dc30817",
      "metadata": {
        "tags": [],
        "id": "8f93a9fd-64f0-4cdb-b0be-5e7b8dc30817",
        "outputId": "b340e401-cf75-4118-a0ff-e48b216190f2"
      },
      "outputs": [
        {
          "name": "stdout",
          "output_type": "stream",
          "text": [
            "Accuracy: 92.10000000000001\n",
            "\n",
            "Classification report for classifier SGDClassifier(max_iter=1500, penalty='elasticnet'):\n",
            "\n",
            "              precision    recall  f1-score   support\n",
            "\n",
            "           0       1.00      0.94      0.97        88\n",
            "           1       0.93      0.89      0.91        91\n",
            "           2       0.98      0.99      0.98        86\n",
            "           3       0.95      0.82      0.88        91\n",
            "           4       0.99      0.91      0.95        92\n",
            "           5       0.83      0.95      0.88        91\n",
            "           6       0.91      0.99      0.95        91\n",
            "           7       0.95      0.94      0.95        89\n",
            "           8       0.84      0.89      0.86        88\n",
            "           9       0.87      0.89      0.88        92\n",
            "\n",
            "    accuracy                           0.92       899\n",
            "   macro avg       0.92      0.92      0.92       899\n",
            "weighted avg       0.92      0.92      0.92       899\n",
            "\n",
            "\n"
          ]
        }
      ],
      "source": [
        "lr_acc = round(metrics.accuracy_score(y_test, predictions), 4)*100\n",
        "print(\n",
        "    f\"Accuracy: {lr_acc}\\n\\n\"\n",
        "    f\"Classification report for classifier {clf}:\\n\\n\"\n",
        "    f\"{metrics.classification_report(y_test, predictions)}\\n\"\n",
        ")"
      ]
    },
    {
      "cell_type": "markdown",
      "id": "ab1c6405-0403-48d3-8c41-6142db3492ba",
      "metadata": {
        "tags": [],
        "id": "ab1c6405-0403-48d3-8c41-6142db3492ba"
      },
      "source": [
        "### Classification Matrix <a class=\"anchor\" id=\"lr_metrics_cm\"></a> <p style=\"text-align: right; color: blue; font-size: 15px;\"> [Go to Main Menu](#toc) </p>"
      ]
    },
    {
      "cell_type": "code",
      "execution_count": null,
      "id": "09789d4d-ab9d-4480-9adf-6cf73c47b860",
      "metadata": {
        "tags": [],
        "id": "09789d4d-ab9d-4480-9adf-6cf73c47b860",
        "outputId": "0a652873-e56f-4450-87ef-dd4d71eb5be6"
      },
      "outputs": [
        {
          "data": {
            "image/png": "[encoded data removed]",
            "text/plain": [
              "<Figure size 640x480 with 2 Axes>"
            ]
          },
          "metadata": {},
          "output_type": "display_data"
        }
      ],
      "source": [
        "displayConfusionMatrix(y_test, predictions)"
      ]
    },
    {
      "cell_type": "markdown",
      "id": "e08e4afa-79d7-4777-9539-d1766a08d9d0",
      "metadata": {
        "id": "e08e4afa-79d7-4777-9539-d1766a08d9d0"
      },
      "source": [
        "# Classifier: KNN <a class=\"anchor\" id=\"knn\"></a> <p style=\"text-align: right; color: blue; font-size: 15px;\"> [Go to Main Menu](#toc) </p>"
      ]
    },
    {
      "cell_type": "code",
      "execution_count": null,
      "id": "414a7c5f-7779-4e1d-9e08-6503562ad632",
      "metadata": {
        "id": "414a7c5f-7779-4e1d-9e08-6503562ad632"
      },
      "outputs": [],
      "source": [
        "knn = KNeighborsClassifier()"
      ]
    },
    {
      "cell_type": "markdown",
      "id": "84fcc6aa-d316-4a2a-8870-0fa64db6bfff",
      "metadata": {
        "tags": [],
        "id": "84fcc6aa-d316-4a2a-8870-0fa64db6bfff"
      },
      "source": [
        "## Fit the Classifier <a class=\"anchor\" id=\"fit_knn\"></a> <p style=\"text-align: right; color: blue; font-size: 15px;\"> [Go to Main Menu](#toc) </p>"
      ]
    },
    {
      "cell_type": "code",
      "execution_count": null,
      "id": "f54f6b30-5e9a-4de3-aa9c-eb82be4fc132",
      "metadata": {
        "tags": [],
        "id": "f54f6b30-5e9a-4de3-aa9c-eb82be4fc132",
        "outputId": "1d78fdd7-ca73-430e-e340-3ce1adc49606"
      },
      "outputs": [
        {
          "data": {
            "text/html": [
              "<style>#sk-container-id-3 {color: black;}#sk-container-id-3 pre{padding: 0;}#sk-container-id-3 div.sk-toggleable {background-color: white;}#sk-container-id-3 label.sk-toggleable__label {cursor: pointer;display: block;width: 100%;margin-bottom: 0;padding: 0.3em;box-sizing: border-box;text-align: center;}#sk-container-id-3 label.sk-toggleable__label-arrow:before {content: \"▸\";float: left;margin-right: 0.25em;color: #696969;}#sk-container-id-3 label.sk-toggleable__label-arrow:hover:before {color: black;}#sk-container-id-3 div.sk-estimator:hover label.sk-toggleable__label-arrow:before {color: black;}#sk-container-id-3 div.sk-toggleable__content {max-height: 0;max-width: 0;overflow: hidden;text-align: left;background-color: #f0f8ff;}#sk-container-id-3 div.sk-toggleable__content pre {margin: 0.2em;color: black;border-radius: 0.25em;background-color: #f0f8ff;}#sk-container-id-3 input.sk-toggleable__control:checked~div.sk-toggleable__content {max-height: 200px;max-width: 100%;overflow: auto;}#sk-container-id-3 input.sk-toggleable__control:checked~label.sk-toggleable__label-arrow:before {content: \"▾\";}#sk-container-id-3 div.sk-estimator input.sk-toggleable__control:checked~label.sk-toggleable__label {background-color: #d4ebff;}#sk-container-id-3 div.sk-label input.sk-toggleable__control:checked~label.sk-toggleable__label {background-color: #d4ebff;}#sk-container-id-3 input.sk-hidden--visually {border: 0;clip: rect(1px 1px 1px 1px);clip: rect(1px, 1px, 1px, 1px);height: 1px;margin: -1px;overflow: hidden;padding: 0;position: absolute;width: 1px;}#sk-container-id-3 div.sk-estimator {font-family: monospace;background-color: #f0f8ff;border: 1px dotted black;border-radius: 0.25em;box-sizing: border-box;margin-bottom: 0.5em;}#sk-container-id-3 div.sk-estimator:hover {background-color: #d4ebff;}#sk-container-id-3 div.sk-parallel-item::after {content: \"\";width: 100%;border-bottom: 1px solid gray;flex-grow: 1;}#sk-container-id-3 div.sk-label:hover label.sk-toggleable__label {background-color: #d4ebff;}#sk-container-id-3 div.sk-serial::before {content: \"\";position: absolute;border-left: 1px solid gray;box-sizing: border-box;top: 0;bottom: 0;left: 50%;z-index: 0;}#sk-container-id-3 div.sk-serial {display: flex;flex-direction: column;align-items: center;background-color: white;padding-right: 0.2em;padding-left: 0.2em;position: relative;}#sk-container-id-3 div.sk-item {position: relative;z-index: 1;}#sk-container-id-3 div.sk-parallel {display: flex;align-items: stretch;justify-content: center;background-color: white;position: relative;}#sk-container-id-3 div.sk-item::before, #sk-container-id-3 div.sk-parallel-item::before {content: \"\";position: absolute;border-left: 1px solid gray;box-sizing: border-box;top: 0;bottom: 0;left: 50%;z-index: -1;}#sk-container-id-3 div.sk-parallel-item {display: flex;flex-direction: column;z-index: 1;position: relative;background-color: white;}#sk-container-id-3 div.sk-parallel-item:first-child::after {align-self: flex-end;width: 50%;}#sk-container-id-3 div.sk-parallel-item:last-child::after {align-self: flex-start;width: 50%;}#sk-container-id-3 div.sk-parallel-item:only-child::after {width: 0;}#sk-container-id-3 div.sk-dashed-wrapped {border: 1px dashed gray;margin: 0 0.4em 0.5em 0.4em;box-sizing: border-box;padding-bottom: 0.4em;background-color: white;}#sk-container-id-3 div.sk-label label {font-family: monospace;font-weight: bold;display: inline-block;line-height: 1.2em;}#sk-container-id-3 div.sk-label-container {text-align: center;}#sk-container-id-3 div.sk-container {/* jupyter's `normalize.less` sets `[hidden] { display: none; }` but bootstrap.min.css set `[hidden] { display: none !important; }` so we also need the `!important` here to be able to override the default hidden behavior on the sphinx rendered scikit-learn.org. See: https://github.com/scikit-learn/scikit-learn/issues/21755 */display: inline-block !important;position: relative;}#sk-container-id-3 div.sk-text-repr-fallback {display: none;}</style><div id=\"sk-container-id-3\" class=\"sk-top-container\"><div class=\"sk-text-repr-fallback\"><pre>KNeighborsClassifier()</pre><b>In a Jupyter environment, please rerun this cell to show the HTML representation or trust the notebook. <br />On GitHub, the HTML representation is unable to render, please try loading this page with nbviewer.org.</b></div><div class=\"sk-container\" hidden><div class=\"sk-item\"><div class=\"sk-estimator sk-toggleable\"><input class=\"sk-toggleable__control sk-hidden--visually\" id=\"sk-estimator-id-3\" type=\"checkbox\" checked><label for=\"sk-estimator-id-3\" class=\"sk-toggleable__label sk-toggleable__label-arrow\">KNeighborsClassifier</label><div class=\"sk-toggleable__content\"><pre>KNeighborsClassifier()</pre></div></div></div></div></div>"
            ],
            "text/plain": [
              "KNeighborsClassifier()"
            ]
          },
          "execution_count": 38,
          "metadata": {},
          "output_type": "execute_result"
        }
      ],
      "source": [
        "knn.fit(X_train, y_train)"
      ]
    },
    {
      "cell_type": "markdown",
      "id": "29d51afc-9248-4b88-8a6c-69dc63960a13",
      "metadata": {
        "tags": [],
        "id": "29d51afc-9248-4b88-8a6c-69dc63960a13"
      },
      "source": [
        "## Metrics <a class=\"anchor\" id=\"knn_metrics\"></a> <p style=\"text-align: right; color: blue; font-size: 15px;\"> [Go to Main Menu](#toc) </p>"
      ]
    },
    {
      "cell_type": "markdown",
      "id": "8d919e16-406a-4ab6-b25f-15c3a5ec1b65",
      "metadata": {
        "tags": [],
        "id": "8d919e16-406a-4ab6-b25f-15c3a5ec1b65"
      },
      "source": [
        "### Classification Report <a class=\"anchor\" id=\"knn_metrics_cr\"></a> <p style=\"text-align: right; color: blue; font-size: 15px;\"> [Go to Main Menu](#toc) </p>"
      ]
    },
    {
      "cell_type": "code",
      "execution_count": null,
      "id": "3b9ff2ca-8af1-46ab-a762-a2e774fd2fde",
      "metadata": {
        "tags": [],
        "id": "3b9ff2ca-8af1-46ab-a762-a2e774fd2fde",
        "outputId": "dd8bb5c3-a8b5-4987-c1f3-4b934471d00d"
      },
      "outputs": [
        {
          "name": "stdout",
          "output_type": "stream",
          "text": [
            "Accuracy: 92.10000000000001\n",
            "\n",
            "Classification report for classifier SGDClassifier(max_iter=1500, penalty='elasticnet'):\n",
            "\n",
            "              precision    recall  f1-score   support\n",
            "\n",
            "           0       1.00      0.94      0.97        88\n",
            "           1       0.93      0.89      0.91        91\n",
            "           2       0.98      0.99      0.98        86\n",
            "           3       0.95      0.82      0.88        91\n",
            "           4       0.99      0.91      0.95        92\n",
            "           5       0.83      0.95      0.88        91\n",
            "           6       0.91      0.99      0.95        91\n",
            "           7       0.95      0.94      0.95        89\n",
            "           8       0.84      0.89      0.86        88\n",
            "           9       0.87      0.89      0.88        92\n",
            "\n",
            "    accuracy                           0.92       899\n",
            "   macro avg       0.92      0.92      0.92       899\n",
            "weighted avg       0.92      0.92      0.92       899\n",
            "\n",
            "\n"
          ]
        }
      ],
      "source": [
        "knn_acc = round(metrics.accuracy_score(y_test, predictions), 4) * 100\n",
        "\n",
        "print(\n",
        "    f\"Accuracy: {knn_acc}\\n\\n\"\n",
        "    f\"Classification report for classifier {clf}:\\n\\n\"\n",
        "    f\"{metrics.classification_report(y_test, predictions)}\\n\"\n",
        ")"
      ]
    },
    {
      "cell_type": "markdown",
      "id": "2da450f4-4405-479d-86b4-3aaa53d6231e",
      "metadata": {
        "id": "2da450f4-4405-479d-86b4-3aaa53d6231e"
      },
      "source": [
        "### Classification Matrix <a class=\"anchor\" id=\"knn_metrics_cm\"></a> <p style=\"text-align: right; color: blue; font-size: 15px;\"> [Go to Main Menu](#toc) </p>"
      ]
    },
    {
      "cell_type": "code",
      "execution_count": null,
      "id": "96778ea9-3971-4eb8-a3d3-98b907fb3ee4",
      "metadata": {
        "tags": [],
        "id": "96778ea9-3971-4eb8-a3d3-98b907fb3ee4",
        "outputId": "87e14ff6-ddf4-410a-8b14-457bdd0b9a0f"
      },
      "outputs": [
        {
          "data": {
            "image/png": "[encoded data removed]",
            "text/plain": [
              "<Figure size 640x480 with 2 Axes>"
            ]
          },
          "metadata": {},
          "output_type": "display_data"
        }
      ],
      "source": [
        "displayConfusionMatrix(y_test, predictions)"
      ]
    },
    {
      "cell_type": "markdown",
      "id": "d0abef00-fda8-4541-a3bc-80292d585091",
      "metadata": {
        "id": "d0abef00-fda8-4541-a3bc-80292d585091"
      },
      "source": [
        "# Comparison <a class=\"anchor\" id=\"comparison\"></a> <p style=\"text-align: right; color: blue; font-size: 15px;\"> [Go to Main Menu](#toc) </p>"
      ]
    },
    {
      "cell_type": "code",
      "execution_count": null,
      "id": "8450473d-0dfb-4ee9-964b-44b9e41ec262",
      "metadata": {
        "id": "8450473d-0dfb-4ee9-964b-44b9e41ec262",
        "outputId": "c5b6fb78-8847-4d4a-f1d0-6fe93e0de5b0"
      },
      "outputs": [
        {
          "data": {
            "text/markdown": [
              "Following were the accuracy observed from the models: \n",
              "\n",
              "- __SVM__: 92.77 \n",
              " \n",
              "- __Logistic Regression__: 92.10000000000001 \n",
              "\n",
              "- __KNN__: 92.10000000000001 \n",
              " \n",
              "\n",
              "\n",
              "Since __SVM__ shows the __highest accuracy__, we can further optimize it by tuning the hyperparameter of it.\n",
              "\n"
            ],
            "text/plain": [
              "<IPython.core.display.Markdown object>"
            ]
          },
          "execution_count": 45,
          "metadata": {},
          "output_type": "execute_result"
        }
      ],
      "source": [
        "from IPython.display import Markdown as md\n",
        "\n",
        "if(svm_acc > lr_acc):\n",
        "    tune_algo = 'SVM'\n",
        "    algo = clf       # SVM\n",
        "else:\n",
        "    tune_algo = 'Logistic Regression'\n",
        "    algo = LogRegression\n",
        "\n",
        "md('''Following were the accuracy observed from the models: \\n\n",
        "- __SVM__: {} \\n\n",
        "- __Logistic Regression__: {} \\n\n",
        "- __KNN__: {} \\n \\n\n",
        "\n",
        "Since __{}__ shows the __highest accuracy__, we can further optimize it by tuning the hyperparameter of it.\n",
        "\n",
        "'''.format(svm_acc, lr_acc, knn_acc, tune_algo))"
      ]
    },
    {
      "cell_type": "markdown",
      "id": "b70c31df-3c2d-4252-b2cd-c2836fc015bd",
      "metadata": {
        "id": "b70c31df-3c2d-4252-b2cd-c2836fc015bd"
      },
      "source": [
        "## Hyperparameter Tuning <a class=\"anchor\" id=\"Hyperparameter_Tuning\"></a> <p style=\"text-align: right; color: blue; font-size: 15px;\"> [Go to Main Menu](#toc) </p>"
      ]
    },
    {
      "cell_type": "markdown",
      "id": "f738c6ea-5e85-48ce-8ef8-369009be3a23",
      "metadata": {
        "id": "f738c6ea-5e85-48ce-8ef8-369009be3a23"
      },
      "source": [
        "### RandomizedSearchCV <a class=\"anchor\" id=\"lr_params_rcv\"></a> <p style=\"text-align: right; color: blue; font-size: 15px;\"> [Go to Main Menu](#toc) </p>"
      ]
    },
    {
      "cell_type": "code",
      "execution_count": null,
      "id": "853ee5b7-e97c-4f29-8764-39162fa4ef4c",
      "metadata": {
        "tags": [],
        "id": "853ee5b7-e97c-4f29-8764-39162fa4ef4c",
        "outputId": "b3e367d7-dc6d-47d9-9f68-fd3302e436aa"
      },
      "outputs": [
        {
          "name": "stdout",
          "output_type": "stream",
          "text": [
            "****Tuning Hyperparameters for SVM *****\n",
            "\n",
            "\n",
            "RandomizedSearchCV took 17.31 seconds for 30 candidates parameter settings.\n",
            "\n",
            "\n",
            "Best Params: {'alpha': 0.04564004022495756, 'average': False, 'l1_ratio': 0.05726298063286195} \n",
            "\n",
            "Accuracy: 98.0\n"
          ]
        }
      ],
      "source": [
        "# specify parameters and distributions to sample from\n",
        "param_dist = {\n",
        "    \"average\": [True, False],\n",
        "    \"l1_ratio\": stats.uniform(0, 1),\n",
        "    \"alpha\": stats.loguniform(1e-2, 1e0),\n",
        "}\n",
        "\n",
        "# run randomized search\n",
        "n_rs_iter_search = 30\n",
        "\n",
        "random_search = RandomizedSearchCV(\n",
        "    algo, param_distributions=param_dist, n_iter=n_rs_iter_search\n",
        ")\n",
        "\n",
        "start = time()\n",
        "random_search.fit(X, y)\n",
        "\n",
        "#report(random_search.cv_results_)\n",
        "rcv_time = (time() - start)\n",
        "rcv_acc = round(metrics.accuracy_score(y_test, random_search.predict(X_test)), 4) * 100\n",
        "\n",
        "print(\"**** Tuning Hyperparameters for\", tune_algo, \"*****\\n\\n\")\n",
        "\n",
        "print(\n",
        "    \"RandomizedSearchCV took %.2f seconds for %d candidates parameter settings.\\n\\n\"\n",
        "    % (rcv_time, n_rs_iter_search)\n",
        ")\n",
        "print(\"Best Params:\", random_search.best_params_, \"\\n\")\n",
        "print(\"Accuracy:\", rcv_acc)"
      ]
    },
    {
      "cell_type": "markdown",
      "id": "e8b83fb8-2cbd-43d9-83ad-3129da9672d3",
      "metadata": {
        "id": "e8b83fb8-2cbd-43d9-83ad-3129da9672d3"
      },
      "source": [
        "### GridSearchCV <a class=\"anchor\" id=\"lr_params_gcv\"></a> <p style=\"text-align: right; color: blue; font-size: 15px;\"> [Go to Main Menu](#toc) </p>"
      ]
    },
    {
      "cell_type": "code",
      "execution_count": null,
      "id": "2689a25c-99a8-483e-be83-9aa15f2bd4dd",
      "metadata": {
        "id": "2689a25c-99a8-483e-be83-9aa15f2bd4dd",
        "outputId": "99bf2942-91f8-42ac-e3dc-ce01fc0a5375"
      },
      "outputs": [
        {
          "name": "stdout",
          "output_type": "stream",
          "text": [
            "****Tuned Hyperparameters for SVM ****\n",
            "\n",
            "\n",
            "GridSearchCV took 59.81 seconds for 60 candidate parameter settings.\n",
            "\n",
            "\n",
            "Best Params: {'alpha': 1.0, 'average': False, 'l1_ratio': 0.0} \n",
            "\n",
            "Accuracy: 95.44\n"
          ]
        }
      ],
      "source": [
        "# use a full grid over all parameters\n",
        "param_grid = {\n",
        "    \"average\": [True, False],\n",
        "    \"l1_ratio\": np.linspace(0, 1, num=10),\n",
        "    \"alpha\": np.power(10, np.arange(-2, 1, dtype=float)),\n",
        "}\n",
        "\n",
        "# run grid search\n",
        "grid_search = GridSearchCV(algo, param_grid=param_grid)\n",
        "start = time()\n",
        "grid_search.fit(X, y)\n",
        "\n",
        "gcv_time = time() - start\n",
        "\n",
        "gcv_acc = round(metrics.accuracy_score(y_test, grid_search.predict(X_test)), 4) * 100\n",
        "params_cand_set =  len(grid_search.cv_results_[\"params\"])\n",
        "\n",
        "print(\"**** Tuned Hyperparameters for\", tune_algo, \"****\\n\\n\")\n",
        "print(\n",
        "    \"GridSearchCV took %.2f seconds for %d candidate parameter settings.\\n\\n\"\n",
        "    % (gcv_time, params_cand_set)\n",
        ")\n",
        "print(\"Best Params:\", grid_search.best_params_, \"\\n\")\n",
        "print(\"Accuracy:\", gcv_acc)"
      ]
    },
    {
      "cell_type": "markdown",
      "id": "24ebb948-425b-4ebd-8279-f334e06d5638",
      "metadata": {
        "id": "24ebb948-425b-4ebd-8279-f334e06d5638"
      },
      "source": [
        "# Summary <a class=\"anchor\" id=\"summary\"></a> <p style=\"text-align: right; color: blue; font-size: 15px;\"> [Go to Main Menu](#toc) </p>"
      ]
    },
    {
      "cell_type": "code",
      "execution_count": null,
      "id": "0888fbc4-b817-4a7c-92de-38e605550dcc",
      "metadata": {
        "id": "0888fbc4-b817-4a7c-92de-38e605550dcc",
        "outputId": "2764d40b-5964-4160-8f7b-393fade43e76"
      },
      "outputs": [
        {
          "data": {
            "text/markdown": [
              "\n",
              "Here are the accuracies of different algorithms without hyperparameter tuning:\n",
              "\n",
              "- __SVM__: 92.77% \n",
              "\n",
              "- __Logistic Regression__: 92.10000000000001% \n",
              "\n",
              "- __KNN__: 92.10000000000001% \n",
              "\n",
              "\n",
              "Since SVM show better accrucay, so on tuning hyperparameters with following techniques: \n",
              "\n",
              "\n",
              "- __Using RandomizedSearchCV__: \n",
              "\n",
              "\n",
              "    - Time taken: 17.31121587753296 seconds for 30 candidate parameter settings \n",
              "\n",
              "    - Accuracy: 98.0% \n",
              "\n",
              "\n",
              "- __Using GridSearchCV__: \n",
              "\n",
              "\n",
              "    - Time taken: 59.80660390853882 seconds for 60 candidate parameter settings \n",
              "\n",
              "    - Accuracy: 95.44% \n",
              "\n",
              "\n",
              "\n",
              "__RandomizedSearchCV provided better accuracy in less time compared to GridSearchCV__.\n"
            ],
            "text/plain": [
              "<IPython.core.display.Markdown object>"
            ]
          },
          "execution_count": 52,
          "metadata": {},
          "output_type": "execute_result"
        }
      ],
      "source": [
        "from IPython.display import Markdown as md\n",
        "\n",
        "md('''\n",
        "Here are the accuracies of different algorithms without hyperparameter tuning:\n",
        "\n",
        "- __SVM__: {}% \\n\n",
        "- __Logistic Regression__: {}% \\n\n",
        "- __KNN__: {}% \\n\n",
        "\n",
        "Since {} show better accrucay, so on tuning hyperparameters with following techniques: \\n\n",
        "\n",
        "- __Using RandomizedSearchCV__: \\n\n",
        "\n",
        "    - Time taken: {} seconds for {} candidate parameter settings \\n\n",
        "    - Accuracy: {}% \\n\n",
        "\n",
        "- __Using GridSearchCV__: \\n\n",
        "\n",
        "    - Time taken: {} seconds for {} candidate parameter settings \\n\n",
        "    - Accuracy: {}% \\n\n",
        "\\n\n",
        "__RandomizedSearchCV provided better accuracy in less time compared to GridSearchCV__.\n",
        "'''.format(svm_acc, lr_acc, knn_acc, tune_algo, rcv_time, n_rs_iter_search, rcv_acc, gcv_time, params_cand_set, gcv_acc))"
      ]
    },
    {
      "cell_type": "code",
      "execution_count": null,
      "id": "c8107176-c876-4110-b222-2ea001496399",
      "metadata": {
        "id": "c8107176-c876-4110-b222-2ea001496399"
      },
      "outputs": [],
      "source": []
    }
  ],
  "metadata": {
    "kernelspec": {
      "display_name": "Python 3 (ipykernel)",
      "language": "python",
      "name": "python3"
    },
    "language_info": {
      "codemirror_mode": {
        "name": "ipython",
        "version": 3
      },
      "file_extension": ".py",
      "mimetype": "text/x-python",
      "name": "python",
      "nbconvert_exporter": "python",
      "pygments_lexer": "ipython3",
      "version": "3.11.5"
    },
    "colab": {
      "provenance": [],
      "include_colab_link": true
    }
  },
  "nbformat": 4,
  "nbformat_minor": 5
}